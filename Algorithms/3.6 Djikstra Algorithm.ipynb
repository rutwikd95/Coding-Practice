{
 "cells": [
  {
   "cell_type": "code",
   "execution_count": 47,
   "metadata": {},
   "outputs": [],
   "source": [
    "# inf = 99999999\n",
    "# matrix = [[inf, 2, 4, inf, inf, inf],\n",
    "#          [inf, inf , 1 , 7, inf, inf],\n",
    "#          [inf, inf, inf, inf, 3, inf],\n",
    "#          [inf, inf, inf, inf, inf, 1],\n",
    "#          [inf, inf, inf, 2, inf, 5],\n",
    "#          [inf, inf, inf, inf, inf, inf]]\n",
    "\n",
    "graph = {\"1\" : {\"2\" : 2, \"3\": 4},\n",
    "         \"2\" : {\"3\" : 1 , \"4\" : 7},\n",
    "         \"3\" : {\"5\" : 3},\n",
    "         \"4\" : {\"6\" : 1} ,\n",
    "         \"5\" : {\"4\" : 2, \"6\" : 5} ,\n",
    "         \"6\" : {}\n",
    "         \n",
    "        }\n"
   ]
  },
  {
   "cell_type": "code",
   "execution_count": 48,
   "metadata": {},
   "outputs": [],
   "source": [
    "def djikstra(graph, start, goal) :\n",
    "    shortest_dist = {}\n",
    "    predecessor = {}\n",
    "    unseen_nodes = graph\n",
    "    inf = 999999\n",
    "    path =[]\n",
    "    \n",
    "    for node in unseen_nodes:\n",
    "        shortest_dist[node] = inf\n",
    "    shortest_dist[start] = 0\n",
    "#     print(shortest_dist)\n",
    "    \n",
    "    while unseen_nodes:\n",
    "        minNode = None\n",
    "        for node in unseen_nodes:\n",
    "            if minNode == None:\n",
    "                minNode = node\n",
    "            elif shortest_dist[node] < shortest_dist[minNode]:\n",
    "                minNode = node\n",
    "                \n",
    "        for childNode, weight in graph[minNode].items():\n",
    "            if weight + shortest_dist[minNode] < shortest_dist[childNode]:\n",
    "                shortest_dist[childNode] = weight + shortest_dist[minNode]\n",
    "                predecessor[childNode] = minNode\n",
    "        unseen_nodes.pop(minNode)\n",
    "    print(shortest_dist)\n",
    "    print(predecessor)\n",
    "    \n",
    "    currentNode = goal\n",
    "    while currentNode != start : \n",
    "        try:\n",
    "            path.insert(0, currentNode)\n",
    "            currentNode = predecessor[currentNode]\n",
    "        except KeyError :\n",
    "            print(\"Path not reachable\")\n",
    "            break\n",
    "    path.insert(0, start)        \n",
    "    if shortest_dist[goal] != inf:\n",
    "        print(\"Shortest distance is : \" , shortest_dist[goal] )\n",
    "        print(\"And the Path is : \", str(path))\n",
    "    "
   ]
  },
  {
   "cell_type": "code",
   "execution_count": 49,
   "metadata": {},
   "outputs": [
    {
     "name": "stdout",
     "output_type": "stream",
     "text": [
      "{'1': 0, '2': 2, '3': 3, '4': 8, '5': 6, '6': 9}\n",
      "{'2': '1', '3': '2', '4': '5', '5': '3', '6': '4'}\n",
      "Shortest distance is :  9\n",
      "And the Path is :  ['1', '2', '3', '5', '4', '6']\n"
     ]
    }
   ],
   "source": [
    "graph = {\"1\" : {\"2\" : 2, \"3\": 4},\n",
    "         \"2\" : {\"3\" : 1 , \"4\" : 7},\n",
    "         \"3\" : {\"5\" : 3},\n",
    "         \"4\" : {\"6\" : 1} ,\n",
    "         \"5\" : {\"4\" : 2, \"6\" : 5} ,\n",
    "         \"6\" : {}\n",
    "         }\n",
    "\n",
    "\n",
    "djikstra(graph, \"1\" , \"6\")"
   ]
  },
  {
   "cell_type": "code",
   "execution_count": null,
   "metadata": {},
   "outputs": [],
   "source": []
  },
  {
   "cell_type": "code",
   "execution_count": null,
   "metadata": {},
   "outputs": [],
   "source": []
  }
 ],
 "metadata": {
  "kernelspec": {
   "display_name": "Python 3",
   "language": "python",
   "name": "python3"
  },
  "language_info": {
   "codemirror_mode": {
    "name": "ipython",
    "version": 3
   },
   "file_extension": ".py",
   "mimetype": "text/x-python",
   "name": "python",
   "nbconvert_exporter": "python",
   "pygments_lexer": "ipython3",
   "version": "3.6.8"
  }
 },
 "nbformat": 4,
 "nbformat_minor": 2
}
