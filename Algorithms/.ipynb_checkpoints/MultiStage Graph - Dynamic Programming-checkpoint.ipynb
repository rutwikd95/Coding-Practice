{
 "cells": [
  {
   "cell_type": "code",
   "execution_count": 62,
   "metadata": {},
   "outputs": [],
   "source": [
    "graph = [[0,0,0,0,0,0,0,0,0],\n",
    "        [0,0,2,1,3,0,0,0,0],\n",
    "        [0,0,0,0,0,2,3,0,0],\n",
    "        [0,0,0,0,0,6,7,0,0],\n",
    "        [0,0,0,0,0,6,8,9,0],\n",
    "        [0,0,0,0,0,0,0,0,6],\n",
    "        [0,0,0,0,0,0,0,0,4],\n",
    "        [0,0,0,0,0,0,0,0,5],\n",
    "        [0,0,0,0,0,0,0,0,0]]"
   ]
  },
  {
   "cell_type": "code",
   "execution_count": 63,
   "metadata": {},
   "outputs": [],
   "source": [
    "stages = 4\n",
    "n = 8\n",
    "d=[]\n",
    "path = []"
   ]
  },
  {
   "cell_type": "code",
   "execution_count": 64,
   "metadata": {},
   "outputs": [
    {
     "name": "stdout",
     "output_type": "stream",
     "text": [
      "[0, 0, 0, 0, 0, 0, 0, 0, 0]\n"
     ]
    }
   ],
   "source": [
    "cost = []\n",
    "for i in range(0,9):\n",
    "    cost.append(0)\n",
    "    d.append(0)\n",
    "\n",
    "cost[8] = 0\n",
    "print(cost)"
   ]
  },
  {
   "cell_type": "code",
   "execution_count": 65,
   "metadata": {},
   "outputs": [
    {
     "name": "stdout",
     "output_type": "stream",
     "text": [
      "7\n",
      "6\n",
      "5\n",
      "4\n",
      "3\n",
      "2\n",
      "1\n",
      "0\n"
     ]
    }
   ],
   "source": [
    "for i in range(len(graph)-2,-1,-1):\n",
    "    print (i)"
   ]
  },
  {
   "cell_type": "code",
   "execution_count": 66,
   "metadata": {},
   "outputs": [],
   "source": [
    "for i in range (len(graph)-2, -1, -1):\n",
    "    mini = 999999\n",
    "    for k in range(i + 1, n ):\n",
    "        if (graph[i][k] != 0 and (graph[i][k] + cost[k] < mini)):\n",
    "            mini = graph[i][k] + cost[k]\n",
    "            d[i] = k\n",
    "    cost[i] = mini"
   ]
  },
  {
   "cell_type": "code",
   "execution_count": 67,
   "metadata": {},
   "outputs": [
    {
     "name": "stdout",
     "output_type": "stream",
     "text": [
      "[999999, 999999, 999999, 999999, 999999, 999999, 999999, 999999, 0]\n"
     ]
    }
   ],
   "source": [
    "print(cost)"
   ]
  },
  {
   "cell_type": "code",
   "execution_count": 68,
   "metadata": {},
   "outputs": [
    {
     "name": "stdout",
     "output_type": "stream",
     "text": [
      "[0, 0, 0, 0, 0, 0, 0, 0, 0]\n"
     ]
    }
   ],
   "source": [
    "print(d)"
   ]
  },
  {
   "cell_type": "code",
   "execution_count": null,
   "metadata": {},
   "outputs": [],
   "source": []
  },
  {
   "cell_type": "code",
   "execution_count": null,
   "metadata": {},
   "outputs": [],
   "source": []
  }
 ],
 "metadata": {
  "kernelspec": {
   "display_name": "Python 3",
   "language": "python",
   "name": "python3"
  },
  "language_info": {
   "codemirror_mode": {
    "name": "ipython",
    "version": 3
   },
   "file_extension": ".py",
   "mimetype": "text/x-python",
   "name": "python",
   "nbconvert_exporter": "python",
   "pygments_lexer": "ipython3",
   "version": "3.6.8"
  }
 },
 "nbformat": 4,
 "nbformat_minor": 2
}
