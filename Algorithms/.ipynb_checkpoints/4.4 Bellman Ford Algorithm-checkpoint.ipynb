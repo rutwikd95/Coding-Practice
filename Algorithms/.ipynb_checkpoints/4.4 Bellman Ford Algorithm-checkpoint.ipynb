{
 "cells": [
  {
   "cell_type": "code",
   "execution_count": 43,
   "metadata": {},
   "outputs": [],
   "source": [
    "graph = {\"1\" : {\"2\" : 6 , \"3\" : 5 , \"4\" : 5},\n",
    "        \"2\" : {\"5\" : -1},\n",
    "        \"3\" : {\"2\" : -2 , \"5\" : 1},\n",
    "        \"4\" : {\"3\" : -2 , \"6\" : -1},\n",
    "        \"5\" : {\"7\" : 3},\n",
    "        \"6\" : {\"7\" : 3},\n",
    "        \"7\" : {} }"
   ]
  },
  {
   "cell_type": "code",
   "execution_count": 44,
   "metadata": {},
   "outputs": [],
   "source": [
    "def bellman(graph, start, goal) :\n",
    "    inf = 99999999\n",
    "    shortest_dist = {}\n",
    "    predecessor = {}\n",
    "    path=[]\n",
    "    for node in graph :\n",
    "        shortest_dist[node] = inf\n",
    "    shortest_dist[start] = 0\n",
    "#     print(shortest_dist)\n",
    "    for x in range(6):\n",
    "        for node in graph:\n",
    "            for childNode , weight in graph[node].items():\n",
    "                if shortest_dist[node] + weight < shortest_dist[childNode]:\n",
    "                    shortest_dist[childNode] = weight + shortest_dist[node]\n",
    "                    predecessor[childNode] = node\n",
    "#                 print(shortest_dist)\n",
    "\n",
    "    \n",
    "    print(shortest_dist)\n",
    "    \n",
    "#     currentNode = goal\n",
    "#     while currentNode != start : \n",
    "#         try:\n",
    "#             path.insert(0, currentNode)\n",
    "#             currentNode = predecessor[currentNode]\n",
    "#         except KeyError :\n",
    "#             print(\"Path not reachable\")\n",
    "#             break\n",
    "#     path.insert(0, start)        \n",
    "#     if shortest_dist[goal] != inf:\n",
    "#         print(\"Shortest distance is : \" , shortest_dist[goal] )\n",
    "#         print(\"And the Path is : \", str(path))\n",
    "        "
   ]
  },
  {
   "cell_type": "code",
   "execution_count": 45,
   "metadata": {},
   "outputs": [
    {
     "name": "stdout",
     "output_type": "stream",
     "text": [
      "{'1': 0, '2': 1, '3': 3, '4': 5, '5': 0, '6': 4, '7': 3}\n"
     ]
    }
   ],
   "source": [
    "bellman(graph, \"1\", \"6\")"
   ]
  },
  {
   "cell_type": "code",
   "execution_count": null,
   "metadata": {},
   "outputs": [],
   "source": []
  },
  {
   "cell_type": "code",
   "execution_count": null,
   "metadata": {},
   "outputs": [],
   "source": []
  }
 ],
 "metadata": {
  "kernelspec": {
   "display_name": "Python 3",
   "language": "python",
   "name": "python3"
  },
  "language_info": {
   "codemirror_mode": {
    "name": "ipython",
    "version": 3
   },
   "file_extension": ".py",
   "mimetype": "text/x-python",
   "name": "python",
   "nbconvert_exporter": "python",
   "pygments_lexer": "ipython3",
   "version": "3.6.8"
  }
 },
 "nbformat": 4,
 "nbformat_minor": 2
}
