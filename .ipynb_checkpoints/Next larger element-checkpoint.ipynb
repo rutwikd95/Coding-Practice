{
 "cells": [
  {
   "cell_type": "code",
   "execution_count": 8,
   "metadata": {},
   "outputs": [],
   "source": [
    "quest = [1,3,2,4]"
   ]
  },
  {
   "cell_type": "code",
   "execution_count": 35,
   "metadata": {},
   "outputs": [],
   "source": []
  },
  {
   "cell_type": "code",
   "execution_count": 44,
   "metadata": {},
   "outputs": [],
   "source": [
    "# BRUTE FORCE :\n",
    "\n",
    "def NGE(arr):\n",
    "    for i in range(0, len(arr)):\n",
    "        large = -1\n",
    "        for j in range(i + 1 , len(arr)):\n",
    "            if arr[i] < arr[j]:\n",
    "                large = arr[j]\n",
    "                break\n",
    "        arr[i] = large\n",
    "    return arr\n",
    "                "
   ]
  },
  {
   "cell_type": "code",
   "execution_count": 45,
   "metadata": {},
   "outputs": [
    {
     "data": {
      "text/plain": [
       "[3, 4, 4, -1]"
      ]
     },
     "execution_count": 45,
     "metadata": {},
     "output_type": "execute_result"
    }
   ],
   "source": [
    "quest = [1,3,2,4]\n",
    "\n",
    "NGE(quest)"
   ]
  },
  {
   "cell_type": "code",
   "execution_count": null,
   "metadata": {},
   "outputs": [],
   "source": []
  },
  {
   "cell_type": "code",
   "execution_count": null,
   "metadata": {},
   "outputs": [],
   "source": []
  },
  {
   "cell_type": "code",
   "execution_count": null,
   "metadata": {},
   "outputs": [],
   "source": []
  },
  {
   "cell_type": "code",
   "execution_count": 4,
   "metadata": {},
   "outputs": [],
   "source": [
    "# Using STACK :\n",
    "\n",
    "def create_stack():\n",
    "    stack = []\n",
    "    return stack\n",
    "\n",
    "def isEmpty(stack):\n",
    "    return len(stack) == 0\n",
    "\n",
    "def push(stack , x):\n",
    "    stack.append(x)\n",
    "    \n",
    "def pop(stack):\n",
    "    if isEmpty(stack):\n",
    "        print(\"Error : stack underflow\")\n",
    "    else:\n",
    "        return stack.pop()\n",
    "\n",
    "\n",
    "\n",
    "\n",
    "def stack_NGE(arr):\n",
    "    s = create_stack()\n",
    "    element = 0\n",
    "    next = 0\n",
    "    \n",
    "    push(s, arr[0])\n",
    "    \n",
    "    for i in range(1 , len(arr)):\n",
    "        next = arr[i]\n",
    "        \n",
    "        if isEmpty(s) == False:\n",
    "            element = pop(s)\n",
    "            while element < next :\n",
    "                arr[arr.index(element)] = next\n",
    "                if isEmpty(s) == True :\n",
    "                    break\n",
    "                element = pop(s)\n",
    "                \n",
    "            if element > next :\n",
    "                push(s, element)\n",
    "                \n",
    "        push(s, next)\n",
    "    while isEmpty(s) == False:\n",
    "        element = pop(s)\n",
    "        next = -1\n",
    "        arr[arr.index(element)] = next\n",
    "    return arr"
   ]
  },
  {
   "cell_type": "code",
   "execution_count": 5,
   "metadata": {},
   "outputs": [
    {
     "data": {
      "text/plain": [
       "[-1, 3, 4, 4]"
      ]
     },
     "execution_count": 5,
     "metadata": {},
     "output_type": "execute_result"
    }
   ],
   "source": [
    "quest = [1,3,2,4]\n",
    "\n",
    "stack_NGE(quest)"
   ]
  },
  {
   "cell_type": "code",
   "execution_count": null,
   "metadata": {},
   "outputs": [],
   "source": []
  }
 ],
 "metadata": {
  "kernelspec": {
   "display_name": "Python 3",
   "language": "python",
   "name": "python3"
  },
  "language_info": {
   "codemirror_mode": {
    "name": "ipython",
    "version": 3
   },
   "file_extension": ".py",
   "mimetype": "text/x-python",
   "name": "python",
   "nbconvert_exporter": "python",
   "pygments_lexer": "ipython3",
   "version": "3.6.8"
  }
 },
 "nbformat": 4,
 "nbformat_minor": 2
}
