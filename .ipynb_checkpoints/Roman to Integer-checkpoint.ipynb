{
 "cells": [
  {
   "cell_type": "code",
   "execution_count": 77,
   "metadata": {},
   "outputs": [],
   "source": [
    "s = \"MMMCDXC\""
   ]
  },
  {
   "cell_type": "code",
   "execution_count": 78,
   "metadata": {},
   "outputs": [],
   "source": [
    "mydict = {\"I\" : 1, \"V\":5, \"X\":10 , \"L\" : 50 , \"C\":100, \"D\": 500 , \"M\" : 1000 }\n",
    "\n",
    "mydict2 = {\"I\":1, \"IV\":4, \"IX\":9, \"V\":5, \"X\":10 , \"XL\":40, \"XC\":90, \"L\":50 , \"C\":100, \"CD\":400,\"CM\":900, \"D\":500 , \"M\":1000 }"
   ]
  },
  {
   "cell_type": "code",
   "execution_count": 79,
   "metadata": {},
   "outputs": [
    {
     "data": {
      "text/plain": [
       "dict_items([('I', 1), ('V', 5), ('X', 10), ('L', 50), ('C', 100), ('D', 500), ('M', 1000)])"
      ]
     },
     "execution_count": 79,
     "metadata": {},
     "output_type": "execute_result"
    }
   ],
   "source": [
    "mydict.items()"
   ]
  },
  {
   "cell_type": "code",
   "execution_count": 80,
   "metadata": {},
   "outputs": [
    {
     "name": "stdout",
     "output_type": "stream",
     "text": [
      "Nextval :  C\n",
      "curval :  X\n",
      "fullval :  XC\n",
      "Fullval found in Dict\n",
      "Nextval :  X\n",
      "curval :  D\n",
      "fullval :  DX\n",
      "fullval not found\n",
      "Nextval :  D\n",
      "curval :  C\n",
      "fullval :  CD\n",
      "Fullval found in Dict\n",
      "Nextval :  C\n",
      "curval :  M\n",
      "fullval :  MC\n",
      "fullval not found\n",
      "Nextval :  M\n",
      "curval :  M\n",
      "fullval :  MM\n",
      "fullval not found\n",
      "Nextval :  M\n",
      "curval :  M\n",
      "fullval :  MM\n",
      "fullval not found\n",
      "Nextval :  M\n",
      "curval :  C\n",
      "fullval :  CM\n",
      "Fullval found in Dict\n",
      "3290\n"
     ]
    }
   ],
   "source": [
    "# ans = 0\n",
    "# for i in list(s):\n",
    "#     print(i)\n",
    "#     if i in mydict:\n",
    "#         if i in \n",
    "#         ans = ans + mydict[i]\n",
    "        \n",
    "# print(ans)\n",
    "\n",
    "curval = \"\"\n",
    "nextval = \"\"\n",
    "ans = 0 \n",
    "lst = list(s)\n",
    "for i in range(len(lst)-1,-1,-1):\n",
    "#     print(lst[i])\n",
    "    \n",
    "    nextval = lst[i]\n",
    "    print(\"Nextval : \", nextval)\n",
    "    curval = lst[i-1]\n",
    "    print(\"curval : \", curval)\n",
    "    fullval = curval + nextval\n",
    "    print(\"fullval : \", fullval)\n",
    "    if fullval in mydict2:\n",
    "        print(\"Fullval found in Dict\")\n",
    "        ans = ans + mydict2[fullval]\n",
    "        ans = ans - mydict2[curval]\n",
    "    else:\n",
    "        print(\"fullval not found\")\n",
    "        ans = ans + mydict2[lst[i]]\n",
    "    \n",
    "    \n",
    "print(ans)\n",
    "    "
   ]
  },
  {
   "cell_type": "code",
   "execution_count": null,
   "metadata": {},
   "outputs": [],
   "source": []
  },
  {
   "cell_type": "code",
   "execution_count": null,
   "metadata": {},
   "outputs": [],
   "source": []
  }
 ],
 "metadata": {
  "kernelspec": {
   "display_name": "Python 3",
   "language": "python",
   "name": "python3"
  },
  "language_info": {
   "codemirror_mode": {
    "name": "ipython",
    "version": 3
   },
   "file_extension": ".py",
   "mimetype": "text/x-python",
   "name": "python",
   "nbconvert_exporter": "python",
   "pygments_lexer": "ipython3",
   "version": "3.6.8"
  }
 },
 "nbformat": 4,
 "nbformat_minor": 2
}
