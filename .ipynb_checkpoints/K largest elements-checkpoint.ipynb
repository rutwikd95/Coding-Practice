{
 "cells": [
  {
   "cell_type": "code",
   "execution_count": 14,
   "metadata": {},
   "outputs": [],
   "source": [
    "quest = [12, 5, 787, 1, 23]\n",
    "val = 2"
   ]
  },
  {
   "cell_type": "code",
   "execution_count": 15,
   "metadata": {},
   "outputs": [],
   "source": [
    "# BRUTE FORCE\n",
    "\n",
    "def k_large(quest, val):\n",
    "#     i = 0\n",
    "#     curval = quest[i]\n",
    "    for i in range (0,val):\n",
    "        for j in range(i, len(quest)):\n",
    "            print(\"i : {}, j : {}\".format(i,j))\n",
    "            if quest[j] > quest[i]:\n",
    "                quest[i] , quest[j]= quest[j] , quest[i]\n",
    "                print(quest)\n",
    "#             if j == len(quest):\n",
    "#                 i = i + 1\n",
    "    print(quest)\n",
    "    return quest[:val]"
   ]
  },
  {
   "cell_type": "code",
   "execution_count": 16,
   "metadata": {},
   "outputs": [
    {
     "name": "stdout",
     "output_type": "stream",
     "text": [
      "i : 0, j : 0\n",
      "i : 0, j : 1\n",
      "i : 0, j : 2\n",
      "[787, 5, 12, 1, 23]\n",
      "i : 0, j : 3\n",
      "i : 0, j : 4\n",
      "i : 1, j : 1\n",
      "i : 1, j : 2\n",
      "[787, 12, 5, 1, 23]\n",
      "i : 1, j : 3\n",
      "i : 1, j : 4\n",
      "[787, 23, 5, 1, 12]\n",
      "[787, 23, 5, 1, 12]\n"
     ]
    },
    {
     "data": {
      "text/plain": [
       "[787, 23]"
      ]
     },
     "execution_count": 16,
     "metadata": {},
     "output_type": "execute_result"
    }
   ],
   "source": [
    "k_large(quest, val)"
   ]
  },
  {
   "cell_type": "code",
   "execution_count": null,
   "metadata": {},
   "outputs": [],
   "source": []
  }
 ],
 "metadata": {
  "kernelspec": {
   "display_name": "Python 3",
   "language": "python",
   "name": "python3"
  },
  "language_info": {
   "codemirror_mode": {
    "name": "ipython",
    "version": 3
   },
   "file_extension": ".py",
   "mimetype": "text/x-python",
   "name": "python",
   "nbconvert_exporter": "python",
   "pygments_lexer": "ipython3",
   "version": "3.6.8"
  }
 },
 "nbformat": 4,
 "nbformat_minor": 2
}
