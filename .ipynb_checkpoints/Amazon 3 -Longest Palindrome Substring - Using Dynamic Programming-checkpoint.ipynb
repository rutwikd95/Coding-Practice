{
 "cells": [
  {
   "cell_type": "code",
   "execution_count": 25,
   "metadata": {},
   "outputs": [],
   "source": [
    "import numpy as np"
   ]
  },
  {
   "cell_type": "code",
   "execution_count": null,
   "metadata": {},
   "outputs": [],
   "source": []
  },
  {
   "cell_type": "code",
   "execution_count": 50,
   "metadata": {},
   "outputs": [],
   "source": [
    "# Using Brute Force [ O(n^3) ] :\n",
    "\n",
    "def LPS_brute(quest):\n",
    "    n = len(quest)\n",
    "    maxlen = 0\n",
    "    maxstr = \"\"\n",
    "    for i in range (n):\n",
    "        for j in range(n):\n",
    "            if check_palindrome(quest, i , j) == True:\n",
    "#                 print(\"is Pal : \" , quest[i:j])\n",
    "                newlen = j-i\n",
    "#                 print(\"newlen : \" , newlen)\n",
    "                \n",
    "                if newlen > maxlen:\n",
    "                    maxlen = newlen\n",
    "#                     print(\"maxlen :\", maxlen)\n",
    "                    maxstr = quest[i:j]\n",
    "#                     print(\"maxstr : \",maxstr)\n",
    "    print(\"maxlen : \" , maxlen)\n",
    "    print(\"maxstr : \" , maxstr)\n",
    "                \n",
    "            \n",
    "def check_palindrome(quest , i , j):\n",
    "    word = quest[i : j]\n",
    "#     print(\"Word to check : \" , word)\n",
    "    rev_word = word[: : -1]\n",
    "    if(word == rev_word):\n",
    "        return True\n",
    "    else:\n",
    "        return False\n",
    "    \n",
    "    "
   ]
  },
  {
   "cell_type": "code",
   "execution_count": 51,
   "metadata": {},
   "outputs": [
    {
     "name": "stdout",
     "output_type": "stream",
     "text": [
      "maxlen :  4\n",
      "maxstr :  baab\n"
     ]
    }
   ],
   "source": [
    "LPS_brute(quest)"
   ]
  },
  {
   "cell_type": "code",
   "execution_count": 21,
   "metadata": {},
   "outputs": [],
   "source": [
    "# Using Dynamic Programming:\n",
    "\n",
    "\n",
    "def long_pal_substr(quest):\n",
    "\n",
    "    n = len(quest)\n",
    "    maxlen = 1\n",
    "    start = 0\n",
    "    table = [[0 for x in range(n)]for y in range(n)]\n",
    "    table = np.asarray(table)\n",
    "    print(table)\n",
    "    print(\"\\n\")\n",
    "\n",
    "    # for len = 1 :\n",
    "    for i in range(n):\n",
    "        table[i][i] = True\n",
    "\n",
    "    print(table)\n",
    "    print(\"\\n\")\n",
    "\n",
    "    # for len = 2 :\n",
    "    for i in range(n-1):\n",
    "        if quest[i] == quest[i+1]:\n",
    "            table[i][i+1] = True\n",
    "            maxlen = 2\n",
    "            start = i\n",
    "\n",
    "    print(table)\n",
    "    print(\"\\n\")\n",
    "\n",
    "    # for len > 2 :\n",
    "\n",
    "    for k in range(3 , n):\n",
    "        for i in range(0 ,n - k + 1 ):\n",
    "            j = i + k - 1\n",
    "            if quest[i] == quest[j] and table[i+1][j-1] == True :\n",
    "                table[i][j] = True\n",
    "                if k > maxlen:\n",
    "                    maxlen = k\n",
    "                    start = i\n",
    "    \n",
    "    print(table)\n",
    "    print (\"\\n\")\n",
    "\n",
    "    print(\"Max len is : \" , maxlen)\n",
    "    return (\"Longest sub str is : \" , quest[start : start + maxlen])\n",
    "\n",
    "\n",
    "    "
   ]
  },
  {
   "cell_type": "code",
   "execution_count": 22,
   "metadata": {},
   "outputs": [
    {
     "name": "stdout",
     "output_type": "stream",
     "text": [
      "[[0 0 0 0 0 0]\n",
      " [0 0 0 0 0 0]\n",
      " [0 0 0 0 0 0]\n",
      " [0 0 0 0 0 0]\n",
      " [0 0 0 0 0 0]\n",
      " [0 0 0 0 0 0]]\n",
      "\n",
      "\n",
      "[[1 0 0 0 0 0]\n",
      " [0 1 0 0 0 0]\n",
      " [0 0 1 0 0 0]\n",
      " [0 0 0 1 0 0]\n",
      " [0 0 0 0 1 0]\n",
      " [0 0 0 0 0 1]]\n",
      "\n",
      "\n",
      "[[1 0 0 0 0 0]\n",
      " [0 1 0 0 0 0]\n",
      " [0 0 1 1 0 0]\n",
      " [0 0 0 1 0 0]\n",
      " [0 0 0 0 1 0]\n",
      " [0 0 0 0 0 1]]\n",
      "\n",
      "\n",
      "[[1 0 1 0 0 0]\n",
      " [0 1 0 0 1 0]\n",
      " [0 0 1 1 0 0]\n",
      " [0 0 0 1 0 0]\n",
      " [0 0 0 0 1 0]\n",
      " [0 0 0 0 0 1]]\n",
      "\n",
      "\n",
      "Max len is :  4\n"
     ]
    },
    {
     "data": {
      "text/plain": [
       "('Longest sub str is : ', 'baab')"
      ]
     },
     "execution_count": 22,
     "metadata": {},
     "output_type": "execute_result"
    }
   ],
   "source": [
    "quest = \"abaabc\"\n",
    "long_pal_substr(quest)"
   ]
  },
  {
   "cell_type": "code",
   "execution_count": null,
   "metadata": {},
   "outputs": [],
   "source": []
  }
 ],
 "metadata": {
  "kernelspec": {
   "display_name": "Python 3",
   "language": "python",
   "name": "python3"
  },
  "language_info": {
   "codemirror_mode": {
    "name": "ipython",
    "version": 3
   },
   "file_extension": ".py",
   "mimetype": "text/x-python",
   "name": "python",
   "nbconvert_exporter": "python",
   "pygments_lexer": "ipython3",
   "version": "3.6.8"
  }
 },
 "nbformat": 4,
 "nbformat_minor": 2
}
