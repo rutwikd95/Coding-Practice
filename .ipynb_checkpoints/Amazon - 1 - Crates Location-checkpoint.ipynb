{
 "cells": [
  {
   "cell_type": "code",
   "execution_count": 68,
   "metadata": {},
   "outputs": [],
   "source": [
    "import math"
   ]
  },
  {
   "cell_type": "code",
   "execution_count": 69,
   "metadata": {},
   "outputs": [],
   "source": [
    "num_of_crates = 3\n",
    "truck_capacity = 2\n",
    "locations = [[1,2], [3,4],[1,-1]]"
   ]
  },
  {
   "cell_type": "code",
   "execution_count": 70,
   "metadata": {},
   "outputs": [],
   "source": [
    "def closest_crates(num_of_crates, truck_capacity, locations):\n",
    "    locs = {}\n",
    "    ans = []\n",
    "    for i in locations:\n",
    "        dist = math.sqrt(((i[0])**2) + ((i[1])**2)) \n",
    "        locs[dist] = i\n",
    "        print(locs)\n",
    "#     locs = sorted(locs, reverse = True)\n",
    "#     locs = locs[:truck_capacity]\n",
    "    for k in sorted(locs.keys()):\n",
    "        ans.append(locs[k])\n",
    "    print(locs)\n",
    "    ans = ans[:truck_capacity]\n",
    "    return ans"
   ]
  },
  {
   "cell_type": "code",
   "execution_count": 71,
   "metadata": {},
   "outputs": [
    {
     "name": "stdout",
     "output_type": "stream",
     "text": [
      "{2.23606797749979: [1, 2]}\n",
      "{2.23606797749979: [1, 2], 5.0: [3, 4]}\n",
      "{2.23606797749979: [1, 2], 5.0: [3, 4], 1.4142135623730951: [1, -1]}\n",
      "{2.23606797749979: [1, 2], 5.0: [3, 4], 1.4142135623730951: [1, -1]}\n"
     ]
    },
    {
     "data": {
      "text/plain": [
       "[[1, -1], [1, 2]]"
      ]
     },
     "execution_count": 71,
     "metadata": {},
     "output_type": "execute_result"
    }
   ],
   "source": [
    "closest_crates(num_of_crates, truck_capacity, locations)"
   ]
  },
  {
   "cell_type": "code",
   "execution_count": null,
   "metadata": {},
   "outputs": [],
   "source": []
  },
  {
   "cell_type": "code",
   "execution_count": null,
   "metadata": {},
   "outputs": [],
   "source": []
  }
 ],
 "metadata": {
  "kernelspec": {
   "display_name": "Python 3",
   "language": "python",
   "name": "python3"
  },
  "language_info": {
   "codemirror_mode": {
    "name": "ipython",
    "version": 3
   },
   "file_extension": ".py",
   "mimetype": "text/x-python",
   "name": "python",
   "nbconvert_exporter": "python",
   "pygments_lexer": "ipython3",
   "version": "3.6.8"
  }
 },
 "nbformat": 4,
 "nbformat_minor": 2
}
