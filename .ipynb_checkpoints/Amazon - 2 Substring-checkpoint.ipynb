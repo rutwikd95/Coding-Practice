{
 "cells": [
  {
   "cell_type": "code",
   "execution_count": 52,
   "metadata": {},
   "outputs": [],
   "source": [
    "inputstr = \"awaglknagawunagwkwagl\"\n",
    "num = 4\n",
    "\n",
    "inputstr2 = \"abbababbacbbabababcbabab\""
   ]
  },
  {
   "cell_type": "code",
   "execution_count": 42,
   "metadata": {},
   "outputs": [],
   "source": [
    "def substr(inputstr, num):\n",
    "    cur = \"\"\n",
    "    ans = []\n",
    "    \n",
    "    if len(set(list(inputstr))) < num:\n",
    "        print(\"Distinct elems less than num\")\n",
    "        return 0\n",
    "    else:\n",
    "        for i in range(0 , len(inputstr) - num):\n",
    "            cur = \"\"\n",
    "            for j in range(i , i + num):\n",
    "                if inputstr[j] not in cur :\n",
    "                    cur = cur + inputstr[j]\n",
    "            if len(cur) == num and cur not in ans:\n",
    "    #             print(\" Cur : \" , cur)\n",
    "                ans.append(cur)\n",
    "    return(ans)"
   ]
  },
  {
   "cell_type": "code",
   "execution_count": 43,
   "metadata": {},
   "outputs": [
    {
     "data": {
      "text/plain": [
       "['wagl',\n",
       " 'aglk',\n",
       " 'glkn',\n",
       " 'lkna',\n",
       " 'knag',\n",
       " 'gawu',\n",
       " 'awun',\n",
       " 'wuna',\n",
       " 'unag',\n",
       " 'nagw',\n",
       " 'agwk',\n",
       " 'kwag']"
      ]
     },
     "execution_count": 43,
     "metadata": {},
     "output_type": "execute_result"
    }
   ],
   "source": [
    "substr(inputstr , num)"
   ]
  },
  {
   "cell_type": "code",
   "execution_count": null,
   "metadata": {},
   "outputs": [],
   "source": []
  },
  {
   "cell_type": "code",
   "execution_count": null,
   "metadata": {},
   "outputs": [],
   "source": []
  },
  {
   "cell_type": "code",
   "execution_count": 58,
   "metadata": {},
   "outputs": [],
   "source": [
    "def substr2(inputstr, num):\n",
    "    cur = \"\"\n",
    "    ans = []\n",
    "    \n",
    "    if len(set(list(inputstr))) < num:\n",
    "        print(\"Distinct elems less than num\")\n",
    "        return 0\n",
    "    else:\n",
    "        for i in range(0 , len(inputstr) - num):\n",
    "            \n",
    "            cur = inputstr[i:i+num]\n",
    "            if len(set(list(cur))) >= num and cur not in ans:\n",
    "                ans.append(cur)\n",
    "    return(ans)"
   ]
  },
  {
   "cell_type": "code",
   "execution_count": 65,
   "metadata": {},
   "outputs": [
    {
     "data": {
      "text/plain": [
       "['wagl',\n",
       " 'aglk',\n",
       " 'glkn',\n",
       " 'lkna',\n",
       " 'knag',\n",
       " 'gawu',\n",
       " 'awun',\n",
       " 'wuna',\n",
       " 'unag',\n",
       " 'nagw',\n",
       " 'agwk',\n",
       " 'kwag']"
      ]
     },
     "execution_count": 65,
     "metadata": {},
     "output_type": "execute_result"
    }
   ],
   "source": [
    "num = 4\n",
    "inputstr = \"awaglknagawunagwkwagl\"\n",
    "inputstr2 = \"abbababbacbbabababcbabab\"\n",
    "\n",
    "substr2(inputstr , num)"
   ]
  },
  {
   "cell_type": "code",
   "execution_count": null,
   "metadata": {},
   "outputs": [],
   "source": []
  }
 ],
 "metadata": {
  "kernelspec": {
   "display_name": "Python 3",
   "language": "python",
   "name": "python3"
  },
  "language_info": {
   "codemirror_mode": {
    "name": "ipython",
    "version": 3
   },
   "file_extension": ".py",
   "mimetype": "text/x-python",
   "name": "python",
   "nbconvert_exporter": "python",
   "pygments_lexer": "ipython3",
   "version": "3.6.8"
  }
 },
 "nbformat": 4,
 "nbformat_minor": 2
}
