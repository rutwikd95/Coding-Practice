{
 "cells": [
  {
   "cell_type": "code",
   "execution_count": 17,
   "metadata": {},
   "outputs": [],
   "source": [
    "input = [\"flower\",\"flow\",\"flight\"]"
   ]
  },
  {
   "cell_type": "code",
   "execution_count": 18,
   "metadata": {},
   "outputs": [],
   "source": [
    "# mydict = {}\n",
    "# for i in input:\n",
    "#     name = i\n",
    "#     for j in name:\n",
    "#         if j not in mydict:\n",
    "#             mydict[i] = j\n",
    "            \n",
    "# print(mydict)\n",
    "            "
   ]
  },
  {
   "cell_type": "code",
   "execution_count": 20,
   "metadata": {},
   "outputs": [],
   "source": [
    "# mylist = []\n",
    "# ans = \"\"\n",
    "# res =[]\n",
    "# for i in range(len(input)):\n",
    "    \n",
    "#     for j in input[i]:\n",
    "        \n",
    "#         if i == 0:\n",
    "#             mylist.append(j)\n",
    "#         elif i == 1:\n",
    "#             while j == mylist\n",
    "            \n",
    "#             j in mylist:\n",
    "#             ans = ans + j\n",
    "#         else:\n",
    "#             ans = ans + \" \"\n",
    "                \n",
    "            \n",
    "# print(mylist)\n",
    "# print(\"Ans : \" , ans)\n",
    "        "
   ]
  },
  {
   "cell_type": "code",
   "execution_count": null,
   "metadata": {},
   "outputs": [],
   "source": [
    "mylist =[]\n",
    "for i in range(len(input):\n",
    "    if i == 0:\n",
    "        \n",
    "               \n",
    "               \n",
    "               \n",
    "    mylist.append(i)\n",
    "    chars = "
   ]
  }
 ],
 "metadata": {
  "kernelspec": {
   "display_name": "Python 3",
   "language": "python",
   "name": "python3"
  },
  "language_info": {
   "codemirror_mode": {
    "name": "ipython",
    "version": 3
   },
   "file_extension": ".py",
   "mimetype": "text/x-python",
   "name": "python",
   "nbconvert_exporter": "python",
   "pygments_lexer": "ipython3",
   "version": "3.6.8"
  }
 },
 "nbformat": 4,
 "nbformat_minor": 2
}
