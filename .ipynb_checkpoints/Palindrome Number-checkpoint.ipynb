{
 "cells": [
  {
   "cell_type": "code",
   "execution_count": 47,
   "metadata": {},
   "outputs": [],
   "source": [
    "x = 121"
   ]
  },
  {
   "cell_type": "code",
   "execution_count": 48,
   "metadata": {},
   "outputs": [
    {
     "name": "stdout",
     "output_type": "stream",
     "text": [
      "ld :  1\n",
      "x :  12\n",
      "rev :  1\n",
      "ld :  2\n",
      "x :  1\n",
      "rev :  12\n",
      "ld :  1\n",
      "x :  0\n",
      "rev :  121\n",
      "True\n"
     ]
    }
   ],
   "source": [
    "rev = 0\n",
    "temp = x\n",
    "while x > 0:\n",
    "    ld = x % 10\n",
    "    print (\"ld : \", ld)\n",
    "    x = int(x/10)\n",
    "    print (\"x : \", x)\n",
    "    rev = rev * 10 + ld\n",
    "    print(\"rev : \", rev)\n",
    "    \n",
    "if rev == temp:\n",
    "    print( True)\n",
    "else: \n",
    "    print(False)"
   ]
  },
  {
   "cell_type": "code",
   "execution_count": null,
   "metadata": {},
   "outputs": [],
   "source": []
  }
 ],
 "metadata": {
  "kernelspec": {
   "display_name": "Python 3",
   "language": "python",
   "name": "python3"
  },
  "language_info": {
   "codemirror_mode": {
    "name": "ipython",
    "version": 3
   },
   "file_extension": ".py",
   "mimetype": "text/x-python",
   "name": "python",
   "nbconvert_exporter": "python",
   "pygments_lexer": "ipython3",
   "version": "3.6.8"
  }
 },
 "nbformat": 4,
 "nbformat_minor": 2
}
