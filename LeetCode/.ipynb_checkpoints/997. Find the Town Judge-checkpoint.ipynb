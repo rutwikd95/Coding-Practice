{
 "cells": [
  {
   "cell_type": "code",
   "execution_count": 1,
   "metadata": {},
   "outputs": [],
   "source": [
    "# Input: N = 2, trust = [[1,2]]\n",
    "# Output: 2\n",
    "\n",
    "\n",
    "# Input: N = 3, trust = [[1,3],[2,3]]\n",
    "# Output: 3"
   ]
  },
  {
   "cell_type": "code",
   "execution_count": 31,
   "metadata": {},
   "outputs": [],
   "source": [
    "N = 2\n",
    "trust = [[1,2]]\n",
    "\n",
    "N2 = 3\n",
    "trust2 = [[1,3],[2,3]]\n",
    "\n",
    "N3 = 3\n",
    "trust3 = [[1,2],[2,3]]  # everyone except town judge should trust the town judge\n",
    "\n",
    "N4 = 4\n",
    "trust4 = [[1,3],[1,4],[2,3],[2,4],[4,3]]"
   ]
  },
  {
   "cell_type": "code",
   "execution_count": 26,
   "metadata": {},
   "outputs": [],
   "source": [
    "def find_judge(N, trust):\n",
    "    matrix = [[0] * N] * N\n",
    "    mydict = {}\n",
    "    myset = set()\n",
    "    for i in trust :\n",
    "#         for j in range(0, len(matrix)):\n",
    "        myset.add(i[0])\n",
    "        myset.add(i[1])\n",
    "        mydict[i[0]] = i[1]\n",
    "        print(\"dict = \",mydict)\n",
    "        print(\"set : \",myset)\n",
    "    for i in myset:\n",
    "        if i not in mydict.keys():\n",
    "            return i\n",
    "    return -1\n",
    "            \n",
    "#     print(mydict)\n",
    "#     print(myset)\n",
    "            "
   ]
  },
  {
   "cell_type": "code",
   "execution_count": 27,
   "metadata": {},
   "outputs": [
    {
     "name": "stdout",
     "output_type": "stream",
     "text": [
      "dict =  {1: 2}\n",
      "set :  {1, 2}\n",
      "dict =  {1: 2, 2: 3}\n",
      "set :  {1, 2, 3}\n"
     ]
    },
    {
     "data": {
      "text/plain": [
       "3"
      ]
     },
     "execution_count": 27,
     "metadata": {},
     "output_type": "execute_result"
    }
   ],
   "source": [
    "find_judge(N3, trust3)"
   ]
  },
  {
   "cell_type": "code",
   "execution_count": 15,
   "metadata": {},
   "outputs": [
    {
     "data": {
      "text/plain": [
       "[[0, 0], [0, 0]]"
      ]
     },
     "execution_count": 15,
     "metadata": {},
     "output_type": "execute_result"
    }
   ],
   "source": [
    "# matrix = []\n",
    "# for i in range(N):\n",
    "#     for j in range(N):\n",
    "#         matrix[i][j] = 0\n",
    "# matrix = [[rows for rows in N]for cols in N]\n",
    "matrix = [[0] * N ]* N\n",
    "matrix"
   ]
  },
  {
   "cell_type": "code",
   "execution_count": 48,
   "metadata": {},
   "outputs": [],
   "source": [
    "def find_judge2(N, trust):\n",
    "    if not trust and N == 1:\n",
    "        return 1\n",
    "    elif not trust:\n",
    "        return -1\n",
    "    else :\n",
    "        mydict={}\n",
    "        trust_give = []\n",
    "        for t in trust:\n",
    "            trust_give.append(t[0])\n",
    "            if t[1] in mydict:\n",
    "                mydict[t[1]] += 1\n",
    "            else:\n",
    "                mydict[t[1]] = 1\n",
    "        print(trust_give)\n",
    "        print(mydict)\n",
    "\n",
    "        #check if trust is given by all keys in dict :\n",
    "        part1 = False\n",
    "        for d in mydict.keys():\n",
    "            if d not in trust_give:\n",
    "                part1 = True\n",
    "                ans1 = d\n",
    "                print(\"ans1 = \",ans1)\n",
    "\n",
    "        #check if ans recieved trust from all others :\n",
    "        part2 = False\n",
    "        for k , v in mydict.items():\n",
    "            if v == N - 1:\n",
    "                ans2 = k\n",
    "                print(\"ans2 : \", ans2)\n",
    "                part2 = True\n",
    "\n",
    "        if part1 and part2 and ans1 == ans2 :\n",
    "            return ans1\n",
    "        else:\n",
    "            return -1\n",
    "\n"
   ]
  },
  {
   "cell_type": "code",
   "execution_count": 49,
   "metadata": {},
   "outputs": [
    {
     "name": "stdout",
     "output_type": "stream",
     "text": [
      "[1]\n",
      "{2: 1}\n",
      "ans1 =  2\n",
      "ans2 :  2\n"
     ]
    },
    {
     "data": {
      "text/plain": [
       "2"
      ]
     },
     "execution_count": 49,
     "metadata": {},
     "output_type": "execute_result"
    }
   ],
   "source": [
    "find_judge2(N, trust) "
   ]
  },
  {
   "cell_type": "code",
   "execution_count": null,
   "metadata": {},
   "outputs": [],
   "source": []
  }
 ],
 "metadata": {
  "kernelspec": {
   "display_name": "Python 3",
   "language": "python",
   "name": "python3"
  },
  "language_info": {
   "codemirror_mode": {
    "name": "ipython",
    "version": 3
   },
   "file_extension": ".py",
   "mimetype": "text/x-python",
   "name": "python",
   "nbconvert_exporter": "python",
   "pygments_lexer": "ipython3",
   "version": "3.6.8"
  }
 },
 "nbformat": 4,
 "nbformat_minor": 2
}
