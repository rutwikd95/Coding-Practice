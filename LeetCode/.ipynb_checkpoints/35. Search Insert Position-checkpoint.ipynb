{
 "cells": [
  {
   "cell_type": "code",
   "execution_count": 18,
   "metadata": {},
   "outputs": [],
   "source": [
    "quest = [1,3,5,6]   # if val = 2\n",
    "val = 5"
   ]
  },
  {
   "cell_type": "code",
   "execution_count": 19,
   "metadata": {},
   "outputs": [],
   "source": [
    "def sip(quest, val):\n",
    "    if len(quest) == 0:\n",
    "        return 0\n",
    "    else: \n",
    "        for i in range(0 , len(quest)):\n",
    "            if quest[i] == val :\n",
    "                print(\"Val found\")\n",
    "                ans = i\n",
    "                return ans\n",
    "                break\n",
    "            elif quest[i] > val:\n",
    "                print(\"Val not found\")\n",
    "                ans = i\n",
    "                return ans\n",
    "                break\n",
    "#             else:\n",
    "#                 print(\"Val not fond could be at END\")\n",
    "#                 ans = len(quest) + 1\n",
    "#                 return ans\n",
    "                "
   ]
  },
  {
   "cell_type": "code",
   "execution_count": 20,
   "metadata": {},
   "outputs": [
    {
     "name": "stdout",
     "output_type": "stream",
     "text": [
      "Val found\n"
     ]
    },
    {
     "data": {
      "text/plain": [
       "2"
      ]
     },
     "execution_count": 20,
     "metadata": {},
     "output_type": "execute_result"
    }
   ],
   "source": [
    "sip(quest, val)"
   ]
  },
  {
   "cell_type": "code",
   "execution_count": 21,
   "metadata": {},
   "outputs": [
    {
     "name": "stdout",
     "output_type": "stream",
     "text": [
      "Val not found\n"
     ]
    },
    {
     "data": {
      "text/plain": [
       "1"
      ]
     },
     "execution_count": 21,
     "metadata": {},
     "output_type": "execute_result"
    }
   ],
   "source": [
    "quest = [1,3,5,6]   # if val = 2\n",
    "val = 2\n",
    "\n",
    "sip(quest, val)"
   ]
  },
  {
   "cell_type": "code",
   "execution_count": null,
   "metadata": {},
   "outputs": [],
   "source": []
  },
  {
   "cell_type": "code",
   "execution_count": null,
   "metadata": {},
   "outputs": [],
   "source": []
  }
 ],
 "metadata": {
  "kernelspec": {
   "display_name": "Python 3",
   "language": "python",
   "name": "python3"
  },
  "language_info": {
   "codemirror_mode": {
    "name": "ipython",
    "version": 3
   },
   "file_extension": ".py",
   "mimetype": "text/x-python",
   "name": "python",
   "nbconvert_exporter": "python",
   "pygments_lexer": "ipython3",
   "version": "3.6.8"
  }
 },
 "nbformat": 4,
 "nbformat_minor": 2
}
