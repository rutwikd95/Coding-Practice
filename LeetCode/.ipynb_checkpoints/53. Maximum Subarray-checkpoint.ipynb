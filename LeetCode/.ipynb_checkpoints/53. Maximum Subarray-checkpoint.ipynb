{
 "cells": [
  {
   "cell_type": "code",
   "execution_count": 49,
   "metadata": {},
   "outputs": [],
   "source": [
    "quest = [-2,1,-3,4,-1,2,1,-5,4]\n",
    "\n",
    "quest2 = [1]\n",
    "\n",
    "# Output = 6"
   ]
  },
  {
   "cell_type": "code",
   "execution_count": 50,
   "metadata": {},
   "outputs": [],
   "source": [
    "# BRUTE FORCE :\n",
    "\n",
    "def max_subarray(nums):\n",
    "    max_val = 0\n",
    "    for i in range (0 , len(nums)):\n",
    "        for j in range (i , len(nums)):\n",
    "            \n",
    "#             print(\"i : {} , j : {}\".format(i,j))\n",
    "            summ = sum(nums[i:j])\n",
    "            if summ > max_val:\n",
    "                max_val = summ\n",
    "#                 print(\"Max val : \", max_val)\n",
    "                max_i = i\n",
    "                max_j = j\n",
    "    return max_val , nums[max_i:max_j]\n",
    "    "
   ]
  },
  {
   "cell_type": "code",
   "execution_count": 51,
   "metadata": {},
   "outputs": [
    {
     "data": {
      "text/plain": [
       "(6, [4, -1, 2, 1])"
      ]
     },
     "execution_count": 51,
     "metadata": {},
     "output_type": "execute_result"
    }
   ],
   "source": [
    "max_subarray(quest)"
   ]
  },
  {
   "cell_type": "code",
   "execution_count": 59,
   "metadata": {},
   "outputs": [],
   "source": [
    "# KADANES ALGORITHM :\n",
    "\n",
    "def max_subarr_kd(nums):\n",
    "    max_end_sofar = nums[0]\n",
    "    max_end = nums[0]\n",
    "    for i in range (0, len(nums)):\n",
    "        print(\"i : \", i)\n",
    "        print(\"val : \", nums[i])\n",
    "        max_end = max(nums[i] , max_end + nums[i])\n",
    "        if max_end > max_end_sofar:\n",
    "            max_end_sofar = max_end\n",
    "        print(\"Max end : \", max_end)\n",
    "        print(\"Max so far : \", max_end_sofar)\n",
    "    return max_end_sofar"
   ]
  },
  {
   "cell_type": "code",
   "execution_count": 60,
   "metadata": {},
   "outputs": [
    {
     "name": "stdout",
     "output_type": "stream",
     "text": [
      "i :  0\n",
      "val :  -2\n",
      "Max end :  -2\n",
      "Max so far :  -2\n",
      "i :  1\n",
      "val :  1\n",
      "Max end :  1\n",
      "Max so far :  1\n",
      "i :  2\n",
      "val :  -3\n",
      "Max end :  -2\n",
      "Max so far :  1\n",
      "i :  3\n",
      "val :  4\n",
      "Max end :  4\n",
      "Max so far :  4\n",
      "i :  4\n",
      "val :  -1\n",
      "Max end :  3\n",
      "Max so far :  4\n",
      "i :  5\n",
      "val :  2\n",
      "Max end :  5\n",
      "Max so far :  5\n",
      "i :  6\n",
      "val :  1\n",
      "Max end :  6\n",
      "Max so far :  6\n",
      "i :  7\n",
      "val :  -5\n",
      "Max end :  1\n",
      "Max so far :  6\n",
      "i :  8\n",
      "val :  4\n",
      "Max end :  5\n",
      "Max so far :  6\n"
     ]
    },
    {
     "data": {
      "text/plain": [
       "6"
      ]
     },
     "execution_count": 60,
     "metadata": {},
     "output_type": "execute_result"
    }
   ],
   "source": [
    "max_subarr_kd(quest)"
   ]
  },
  {
   "cell_type": "code",
   "execution_count": null,
   "metadata": {},
   "outputs": [],
   "source": []
  }
 ],
 "metadata": {
  "kernelspec": {
   "display_name": "Python 3",
   "language": "python",
   "name": "python3"
  },
  "language_info": {
   "codemirror_mode": {
    "name": "ipython",
    "version": 3
   },
   "file_extension": ".py",
   "mimetype": "text/x-python",
   "name": "python",
   "nbconvert_exporter": "python",
   "pygments_lexer": "ipython3",
   "version": "3.6.8"
  }
 },
 "nbformat": 4,
 "nbformat_minor": 2
}
