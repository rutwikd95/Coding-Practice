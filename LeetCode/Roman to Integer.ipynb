{
 "cells": [
  {
   "cell_type": "code",
   "execution_count": 25,
   "metadata": {},
   "outputs": [],
   "source": [
    "s = \"MMMCDXC\""
   ]
  },
  {
   "cell_type": "code",
   "execution_count": 26,
   "metadata": {},
   "outputs": [],
   "source": [
    "mydict = {\"I\" : 1, \"V\":5, \"X\":10 , \"L\" : 50 , \"C\":100, \"D\": 500 , \"M\" : 1000 }\n",
    "\n",
    "mydict2 = {\"I\":1, \"IV\":4, \"IX\":9, \"V\":5, \"X\":10 , \"XL\":40, \"XC\":90, \"L\":50 , \"C\":100, \"CD\":400,\"CM\":900, \"D\":500 , \"M\":1000 , \"\":0}"
   ]
  },
  {
   "cell_type": "code",
   "execution_count": 27,
   "metadata": {},
   "outputs": [
    {
     "data": {
      "text/plain": [
       "dict_items([('I', 1), ('V', 5), ('X', 10), ('L', 50), ('C', 100), ('D', 500), ('M', 1000)])"
      ]
     },
     "execution_count": 27,
     "metadata": {},
     "output_type": "execute_result"
    }
   ],
   "source": [
    "mydict.items()"
   ]
  },
  {
   "cell_type": "code",
   "execution_count": 28,
   "metadata": {},
   "outputs": [
    {
     "name": "stdout",
     "output_type": "stream",
     "text": [
      "Nextval : C at i = 6 \n",
      "curval : X at i = 5 \n",
      "fullval :  XC\n",
      "Fullval found in Dict\n",
      "new ans is  =  80\n",
      "Nextval : X at i = 5 \n",
      "curval : D at i = 4 \n",
      "fullval :  DX\n",
      "fullval not found\n",
      "new ans is  =  90\n",
      "Nextval : D at i = 4 \n",
      "curval : C at i = 3 \n",
      "fullval :  CD\n",
      "Fullval found in Dict\n",
      "new ans is  =  390\n",
      "Nextval : C at i = 3 \n",
      "curval : M at i = 2 \n",
      "fullval :  MC\n",
      "fullval not found\n",
      "new ans is  =  490\n",
      "Nextval : M at i = 2 \n",
      "curval : M at i = 1 \n",
      "fullval :  MM\n",
      "fullval not found\n",
      "new ans is  =  1490\n",
      "Nextval : M at i = 1 \n",
      "curval : M at i = 0 \n",
      "fullval :  MM\n",
      "fullval not found\n",
      "new ans is  =  2490\n",
      "Nextval : M at i = 0 \n",
      "Curval was RESET!\n",
      "curval :  at i = -1 \n",
      "fullval :  M\n",
      "Fullval found in Dict\n",
      "new ans is  =  3490\n",
      "3490\n"
     ]
    }
   ],
   "source": [
    "# ans = 0\n",
    "# for i in list(s):\n",
    "#     print(i)\n",
    "#     if i in mydict:\n",
    "#         if i in \n",
    "#         ans = ans + mydict[i]\n",
    "        \n",
    "# print(ans)\n",
    "\n",
    "curval = \"\"\n",
    "nextval = \"\"\n",
    "ans = 0 \n",
    "lst = list(s)\n",
    "for i in range(len(lst)-1,-1,-1):\n",
    "#     print(lst[i])\n",
    "    \n",
    "    nextval = lst[i]\n",
    "    print(\"Nextval : {} at i = {} \".format(nextval, i))\n",
    "    if(i == 0):\n",
    "        curval = \"\"\n",
    "        print(\"Curval was RESET!\")\n",
    "    else:    \n",
    "        curval = lst[i-1]\n",
    "    print(\"curval : {} at i = {} \".format(curval , i-1))\n",
    "    fullval = curval + nextval\n",
    "    print(\"fullval : \", fullval)\n",
    "    if fullval in mydict2:\n",
    "        print(\"Fullval found in Dict\")\n",
    "        ans = ans + mydict2[fullval]\n",
    "        ans = ans - mydict2[curval]\n",
    "    else:\n",
    "        print(\"fullval not found\")\n",
    "        ans = ans + mydict2[lst[i]]\n",
    "    print(\"new ans is  = \",ans)\n",
    "    \n",
    "print(ans)\n",
    "    "
   ]
  },
  {
   "cell_type": "code",
   "execution_count": 11,
   "metadata": {},
   "outputs": [
    {
     "name": "stdout",
     "output_type": "stream",
     "text": [
      "C\n",
      "X\n",
      "D\n",
      "C\n",
      "M\n",
      "M\n",
      "M\n"
     ]
    }
   ],
   "source": [
    "for i in range(len(lst)-1,-1,-1):\n",
    "    print(lst[i])"
   ]
  },
  {
   "cell_type": "code",
   "execution_count": null,
   "metadata": {},
   "outputs": [],
   "source": []
  }
 ],
 "metadata": {
  "kernelspec": {
   "display_name": "Python 3",
   "language": "python",
   "name": "python3"
  },
  "language_info": {
   "codemirror_mode": {
    "name": "ipython",
    "version": 3
   },
   "file_extension": ".py",
   "mimetype": "text/x-python",
   "name": "python",
   "nbconvert_exporter": "python",
   "pygments_lexer": "ipython3",
   "version": "3.6.8"
  }
 },
 "nbformat": 4,
 "nbformat_minor": 2
}
