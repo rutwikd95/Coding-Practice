{
 "cells": [
  {
   "cell_type": "code",
   "execution_count": 6,
   "metadata": {},
   "outputs": [],
   "source": [
    "# Example:\n",
    "\n",
    "# board =\n",
    "# [\n",
    "#   ['A','B','C','E'],\n",
    "#   ['S','F','C','S'],\n",
    "#   ['A','D','E','E']\n",
    "# ]\n",
    "\n",
    "# Given word = \"ABCCED\", return true.\n",
    "# Given word = \"SEE\", return true.\n",
    "# Given word = \"ABCB\", return false."
   ]
  },
  {
   "cell_type": "code",
   "execution_count": null,
   "metadata": {},
   "outputs": [],
   "source": []
  },
  {
   "cell_type": "code",
   "execution_count": 23,
   "metadata": {},
   "outputs": [],
   "source": [
    "def word_search(board , word):\n",
    "    for i in range(len(board)):\n",
    "        for j in range(len(board[0])):\n",
    "            if board[i][j] == word[0] and dfs(board , i , j , 0 , word):\n",
    "                return True\n",
    "            \n",
    "    return False\n",
    "            \n",
    "def dfs(board, i , j ,count , word):\n",
    "    if count == len(word):\n",
    "        return True\n",
    "    if (i < 0 or i >= len(board) or j < 0 or j >= len(board[0]) or board[i][j] != word[count]):\n",
    "        return False\n",
    "    temp = board[i][j]\n",
    "    board[i][j] = \" \"\n",
    "    found = dfs(board, i +1 , j , count + 1, word) or dfs(board, i -1 , j , count + 1, word) or dfs(board, i  , j + 1 , count + 1, word) or dfs(board, i  , j - 1 , count + 1, word) \n",
    "    board[i][j] = temp\n",
    "    return found"
   ]
  },
  {
   "cell_type": "code",
   "execution_count": 24,
   "metadata": {},
   "outputs": [
    {
     "name": "stdout",
     "output_type": "stream",
     "text": [
      "True\n",
      "True\n",
      "True\n",
      "False\n"
     ]
    }
   ],
   "source": [
    "board =[['A','B','C','E'],\n",
    "        ['S','F','C','S'],\n",
    "        ['A','D','E','E']]\n",
    "\n",
    "word = \"AB\"\n",
    "word1 = \"ABCCED\"\n",
    "word2 = \"SEE\"\n",
    "word3 = \"ABCB\"\n",
    "\n",
    "print(word_search(board , word))\n",
    "print(word_search(board , word1))\n",
    "print(word_search(board , word2))\n",
    "print(word_search(board , word3))\n"
   ]
  },
  {
   "cell_type": "code",
   "execution_count": null,
   "metadata": {},
   "outputs": [],
   "source": []
  },
  {
   "cell_type": "code",
   "execution_count": null,
   "metadata": {},
   "outputs": [],
   "source": []
  }
 ],
 "metadata": {
  "kernelspec": {
   "display_name": "Python 3",
   "language": "python",
   "name": "python3"
  },
  "language_info": {
   "codemirror_mode": {
    "name": "ipython",
    "version": 3
   },
   "file_extension": ".py",
   "mimetype": "text/x-python",
   "name": "python",
   "nbconvert_exporter": "python",
   "pygments_lexer": "ipython3",
   "version": "3.6.8"
  }
 },
 "nbformat": 4,
 "nbformat_minor": 2
}
