{
 "cells": [
  {
   "cell_type": "code",
   "execution_count": 4,
   "metadata": {},
   "outputs": [],
   "source": [
    "# For example, given n = 3, a solution set is:\n",
    "\n",
    "# [\n",
    "#   \"((()))\",\n",
    "#   \"(()())\",\n",
    "#   \"(())()\",\n",
    "#   \"()(())\",\n",
    "#   \"()()()\"\n",
    "# ]"
   ]
  },
  {
   "cell_type": "code",
   "execution_count": 18,
   "metadata": {},
   "outputs": [],
   "source": [
    "def gen_paran(n):\n",
    "    \n",
    "    def backtrack(current, ans, open_count , closing_count):\n",
    "        if len(current) == 2*n:\n",
    "            ans.append(current)\n",
    "        if 0 < open_count <= n :\n",
    "            backtrack(current + \"(\" , ans , open_count - 1, closing_count )\n",
    "        if closing_count > open_count :\n",
    "            backtrack(current + \")\" , ans , open_count, closing_count - 1)\n",
    "\n",
    "        \n",
    "    opening = \"(\"\n",
    "    closing = \")\"\n",
    "    ans = []\n",
    "    open_count = n\n",
    "    closing_count = n\n",
    "    current = \"\"\n",
    "    backtrack(current , ans, open_count, closing_count)\n",
    "    \n",
    "    return ans\n",
    "\n",
    "\n",
    "    \n"
   ]
  },
  {
   "cell_type": "code",
   "execution_count": 24,
   "metadata": {},
   "outputs": [
    {
     "data": {
      "text/plain": [
       "['((()))', '(()())', '(())()', '()(())', '()()()']"
      ]
     },
     "execution_count": 24,
     "metadata": {},
     "output_type": "execute_result"
    }
   ],
   "source": [
    "n = 3\n",
    "\n",
    "gen_paran(n)"
   ]
  },
  {
   "cell_type": "code",
   "execution_count": null,
   "metadata": {},
   "outputs": [],
   "source": []
  }
 ],
 "metadata": {
  "kernelspec": {
   "display_name": "Python 3",
   "language": "python",
   "name": "python3"
  },
  "language_info": {
   "codemirror_mode": {
    "name": "ipython",
    "version": 3
   },
   "file_extension": ".py",
   "mimetype": "text/x-python",
   "name": "python",
   "nbconvert_exporter": "python",
   "pygments_lexer": "ipython3",
   "version": "3.6.8"
  }
 },
 "nbformat": 4,
 "nbformat_minor": 2
}
