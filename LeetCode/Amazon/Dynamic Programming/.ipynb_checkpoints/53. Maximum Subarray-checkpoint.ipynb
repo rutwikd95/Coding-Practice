{
 "cells": [
  {
   "cell_type": "code",
   "execution_count": 2,
   "metadata": {},
   "outputs": [],
   "source": [
    "# Example:\n",
    "\n",
    "# Input: [-2,1,-3,4,-1,2,1,-5,4],\n",
    "# Output: 6\n",
    "# Explanation: [4,-1,2,1] has the largest sum = 6."
   ]
  },
  {
   "cell_type": "code",
   "execution_count": 14,
   "metadata": {},
   "outputs": [],
   "source": [
    "def maxSubArray(nums):\n",
    "    arr =[None for x in range(len(nums))]\n",
    "    arr[0] = nums[0]\n",
    "    start = 0\n",
    "    end = 0\n",
    "    for i in range(1, len(nums)):\n",
    "        if nums[i] > arr[i-1] + nums[i]:\n",
    "            arr[i] = nums[i]\n",
    "            start = i\n",
    "        else:\n",
    "            arr[i] = arr[i-1] + nums[i]\n",
    "            end = i\n",
    "            \n",
    "    print(arr)\n",
    "    print(nums[start : end - 1])\n",
    "    return max(arr)\n",
    "    \n",
    "        "
   ]
  },
  {
   "cell_type": "code",
   "execution_count": 15,
   "metadata": {},
   "outputs": [
    {
     "name": "stdout",
     "output_type": "stream",
     "text": [
      "[-2, 1, -2, 4, 3, 5, 6, 1, 5]\n",
      "[4, -1, 2, 1]\n"
     ]
    },
    {
     "data": {
      "text/plain": [
       "6"
      ]
     },
     "execution_count": 15,
     "metadata": {},
     "output_type": "execute_result"
    }
   ],
   "source": [
    "nums = [-2,1,-3,4,-1,2,1,-5,4]\n",
    "\n",
    "maxSubArray(nums)"
   ]
  },
  {
   "cell_type": "code",
   "execution_count": null,
   "metadata": {},
   "outputs": [],
   "source": []
  }
 ],
 "metadata": {
  "kernelspec": {
   "display_name": "Python 3",
   "language": "python",
   "name": "python3"
  },
  "language_info": {
   "codemirror_mode": {
    "name": "ipython",
    "version": 3
   },
   "file_extension": ".py",
   "mimetype": "text/x-python",
   "name": "python",
   "nbconvert_exporter": "python",
   "pygments_lexer": "ipython3",
   "version": "3.6.8"
  }
 },
 "nbformat": 4,
 "nbformat_minor": 2
}
