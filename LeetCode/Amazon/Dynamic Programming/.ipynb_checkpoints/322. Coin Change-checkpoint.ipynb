{
 "cells": [
  {
   "cell_type": "code",
   "execution_count": 1,
   "metadata": {},
   "outputs": [],
   "source": [
    "# Example 1:\n",
    "\n",
    "# Input: coins = [1, 2, 5], amount = 11\n",
    "# Output: 3 \n",
    "# Explanation: 11 = 5 + 5 + 1\n",
    "# Example 2:\n",
    "\n",
    "# Input: coins = [2], amount = 3\n",
    "# Output: -1"
   ]
  },
  {
   "cell_type": "code",
   "execution_count": 8,
   "metadata": {},
   "outputs": [],
   "source": [
    "def coin_change(coins, amount):\n",
    "    max_amt = amount + 1\n",
    "    dp = [max_amt for x in range(amount + 1)]\n",
    "    print(dp)\n",
    "    dp[0] = 0\n",
    "    for i in range(len(dp)):\n",
    "        for j in range(len(coins)):\n",
    "            if coins[j] <= i :\n",
    "                dp[i] = min(dp[i] , dp[i-coins[j]] + 1)\n",
    "                \n",
    "    if dp[amount] >= max_amt:\n",
    "        return -1\n",
    "    else:\n",
    "        return dp[amount]\n",
    "    \n",
    "        \n",
    "        "
   ]
  },
  {
   "cell_type": "code",
   "execution_count": 9,
   "metadata": {},
   "outputs": [
    {
     "name": "stdout",
     "output_type": "stream",
     "text": [
      "[12, 12, 12, 12, 12, 12, 12, 12, 12, 12, 12, 12]\n"
     ]
    },
    {
     "data": {
      "text/plain": [
       "3"
      ]
     },
     "execution_count": 9,
     "metadata": {},
     "output_type": "execute_result"
    }
   ],
   "source": [
    "coins = [1,2,5]\n",
    "amount = 11\n",
    "\n",
    "coin_change(coins, amount)"
   ]
  },
  {
   "cell_type": "code",
   "execution_count": 10,
   "metadata": {},
   "outputs": [
    {
     "name": "stdout",
     "output_type": "stream",
     "text": [
      "[4, 4, 4, 4]\n"
     ]
    },
    {
     "data": {
      "text/plain": [
       "-1"
      ]
     },
     "execution_count": 10,
     "metadata": {},
     "output_type": "execute_result"
    }
   ],
   "source": [
    "coins = [2]\n",
    "amount = 3\n",
    "\n",
    "coin_change(coins, amount)"
   ]
  },
  {
   "cell_type": "code",
   "execution_count": null,
   "metadata": {},
   "outputs": [],
   "source": []
  }
 ],
 "metadata": {
  "kernelspec": {
   "display_name": "Python 3",
   "language": "python",
   "name": "python3"
  },
  "language_info": {
   "codemirror_mode": {
    "name": "ipython",
    "version": 3
   },
   "file_extension": ".py",
   "mimetype": "text/x-python",
   "name": "python",
   "nbconvert_exporter": "python",
   "pygments_lexer": "ipython3",
   "version": "3.6.8"
  }
 },
 "nbformat": 4,
 "nbformat_minor": 2
}
