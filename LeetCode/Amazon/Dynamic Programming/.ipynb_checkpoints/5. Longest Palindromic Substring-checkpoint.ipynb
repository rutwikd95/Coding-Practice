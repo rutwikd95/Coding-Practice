{
 "cells": [
  {
   "cell_type": "code",
   "execution_count": 4,
   "metadata": {},
   "outputs": [],
   "source": [
    "# Example 1:\n",
    "\n",
    "# Input: \"babad\"\n",
    "# Output: \"bab\"\n",
    "# Note: \"aba\" is also a valid answer.\n",
    "# Example 2:\n",
    "\n",
    "# Input: \"cbbd\"\n",
    "# Output: \"bb\""
   ]
  },
  {
   "cell_type": "code",
   "execution_count": 24,
   "metadata": {},
   "outputs": [],
   "source": [
    "# BRUTE FORCE :\n",
    "\n",
    "def longest_pallindrome(s):\n",
    "    max_len = 0\n",
    "    max_pall = \"\"\n",
    "    pallindromes = []\n",
    "    for i in range(len(s)):\n",
    "        for j in range(i , len(s)):\n",
    "            word = s[i : j+1]\n",
    "            print(\"word : \", word)\n",
    "            rev_word = word[::-1]\n",
    "            print(\"rev word : \" , rev_word)\n",
    "            if word == rev_word:\n",
    "                pallindromes.append(word)\n",
    "                if len(word) > max_len :\n",
    "                    max_len = len(word)\n",
    "                    max_pall = word\n",
    "    print(pallindromes)\n",
    "    return max_pall"
   ]
  },
  {
   "cell_type": "code",
   "execution_count": 25,
   "metadata": {},
   "outputs": [
    {
     "name": "stdout",
     "output_type": "stream",
     "text": [
      "word :  b\n",
      "rev word :  b\n",
      "word :  ba\n",
      "rev word :  ab\n",
      "word :  bab\n",
      "rev word :  bab\n",
      "word :  baba\n",
      "rev word :  abab\n",
      "word :  babad\n",
      "rev word :  dabab\n",
      "word :  a\n",
      "rev word :  a\n",
      "word :  ab\n",
      "rev word :  ba\n",
      "word :  aba\n",
      "rev word :  aba\n",
      "word :  abad\n",
      "rev word :  daba\n",
      "word :  b\n",
      "rev word :  b\n",
      "word :  ba\n",
      "rev word :  ab\n",
      "word :  bad\n",
      "rev word :  dab\n",
      "word :  a\n",
      "rev word :  a\n",
      "word :  ad\n",
      "rev word :  da\n",
      "word :  d\n",
      "rev word :  d\n",
      "['b', 'bab', 'a', 'aba', 'b', 'a', 'd']\n"
     ]
    },
    {
     "data": {
      "text/plain": [
       "'bab'"
      ]
     },
     "execution_count": 25,
     "metadata": {},
     "output_type": "execute_result"
    }
   ],
   "source": [
    "s = \"babad\"\n",
    "\n",
    "longest_pallindrome(s)"
   ]
  },
  {
   "cell_type": "code",
   "execution_count": 26,
   "metadata": {},
   "outputs": [
    {
     "name": "stdout",
     "output_type": "stream",
     "text": [
      "word :  c\n",
      "rev word :  c\n",
      "word :  cb\n",
      "rev word :  bc\n",
      "word :  cbb\n",
      "rev word :  bbc\n",
      "word :  cbbd\n",
      "rev word :  dbbc\n",
      "word :  b\n",
      "rev word :  b\n",
      "word :  bb\n",
      "rev word :  bb\n",
      "word :  bbd\n",
      "rev word :  dbb\n",
      "word :  b\n",
      "rev word :  b\n",
      "word :  bd\n",
      "rev word :  db\n",
      "word :  d\n",
      "rev word :  d\n",
      "['c', 'b', 'bb', 'b', 'd']\n"
     ]
    },
    {
     "data": {
      "text/plain": [
       "'bb'"
      ]
     },
     "execution_count": 26,
     "metadata": {},
     "output_type": "execute_result"
    }
   ],
   "source": [
    "s = \"cbbd\"\n",
    "\n",
    "longest_pallindrome(s)"
   ]
  },
  {
   "cell_type": "code",
   "execution_count": null,
   "metadata": {},
   "outputs": [],
   "source": []
  },
  {
   "cell_type": "code",
   "execution_count": 109,
   "metadata": {},
   "outputs": [],
   "source": [
    "# DYNAMIC PROGRAMMING :\n",
    "\n",
    "def longest_pallindrome(s):\n",
    "    pallindrome = \"\"\n",
    "    pallin_length = 0\n",
    "    n = len(s)\n",
    "    matrix = [[0 for x in range(n)]for y in range(n)]\n",
    "    print(matrix)\n",
    "    #     if lenght == 1 :  \n",
    "    \n",
    "    for i in range(n):\n",
    "        matrix[i][i] = 1\n",
    "        if len(s[i:i]) > pallin_length:\n",
    "            pallindrome = s[i:i]\n",
    "            pallin_length = len(pallindrome)\n",
    "\n",
    "    \n",
    "    for i in range(n - 1):\n",
    "        if s[i] == s[i+1]:\n",
    "            matrix[i][i+1] = 1\n",
    "        else:\n",
    "            matrix[i][i+1] = 0\n",
    "    print(matrix)\n",
    "    \n",
    "    "
   ]
  },
  {
   "cell_type": "code",
   "execution_count": 110,
   "metadata": {},
   "outputs": [
    {
     "name": "stdout",
     "output_type": "stream",
     "text": [
      "[[0, 0, 0, 0, 0, 0], [0, 0, 0, 0, 0, 0], [0, 0, 0, 0, 0, 0], [0, 0, 0, 0, 0, 0], [0, 0, 0, 0, 0, 0], [0, 0, 0, 0, 0, 0]]\n",
      "[[1, 0, 0, 0, 0, 0], [0, 1, 0, 0, 0, 0], [0, 0, 1, 1, 0, 0], [0, 0, 0, 1, 0, 0], [0, 0, 0, 0, 1, 0], [0, 0, 0, 0, 0, 1]]\n"
     ]
    }
   ],
   "source": [
    "s = \"abaabc\"\n",
    "\n",
    "longest_pallindrome(s)"
   ]
  },
  {
   "cell_type": "code",
   "execution_count": 111,
   "metadata": {},
   "outputs": [
    {
     "name": "stdout",
     "output_type": "stream",
     "text": [
      "[[0, 0, 0, 0, 0], [0, 0, 0, 0, 0], [0, 0, 0, 0, 0], [0, 0, 0, 0, 0], [0, 0, 0, 0, 0]]\n",
      "[[1, 0, 0, 0, 0], [0, 1, 0, 0, 0], [0, 0, 1, 0, 0], [0, 0, 0, 1, 0], [0, 0, 0, 0, 1]]\n"
     ]
    }
   ],
   "source": [
    "s = \"babad\"\n",
    "\n",
    "longest_pallindrome(s)"
   ]
  },
  {
   "cell_type": "code",
   "execution_count": 108,
   "metadata": {},
   "outputs": [
    {
     "name": "stdout",
     "output_type": "stream",
     "text": [
      "[[False, False, False, False], [False, False, False, False], [False, False, False, False], [False, False, False, False]]\n",
      "[[1, 0, False, False], [False, 1, 1, False], [False, False, 1, 0], [False, False, False, 1]]\n"
     ]
    }
   ],
   "source": [
    "s = \"cbbd\"\n",
    "\n",
    "longest_pallindrome(s)"
   ]
  },
  {
   "cell_type": "code",
   "execution_count": null,
   "metadata": {},
   "outputs": [],
   "source": []
  },
  {
   "cell_type": "code",
   "execution_count": null,
   "metadata": {},
   "outputs": [],
   "source": []
  }
 ],
 "metadata": {
  "kernelspec": {
   "display_name": "Python 3",
   "language": "python",
   "name": "python3"
  },
  "language_info": {
   "codemirror_mode": {
    "name": "ipython",
    "version": 3
   },
   "file_extension": ".py",
   "mimetype": "text/x-python",
   "name": "python",
   "nbconvert_exporter": "python",
   "pygments_lexer": "ipython3",
   "version": "3.6.8"
  }
 },
 "nbformat": 4,
 "nbformat_minor": 2
}
