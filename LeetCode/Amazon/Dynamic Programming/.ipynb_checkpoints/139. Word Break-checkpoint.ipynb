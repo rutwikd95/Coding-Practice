{
 "cells": [
  {
   "cell_type": "code",
   "execution_count": 1,
   "metadata": {},
   "outputs": [],
   "source": [
    "# Example 1:\n",
    "\n",
    "# Input: s = \"leetcode\", wordDict = [\"leet\", \"code\"]\n",
    "# Output: true\n",
    "# Explanation: Return true because \"leetcode\" can be segmented as \"leet code\".\n",
    "# Example 2:\n",
    "\n",
    "# Input: s = \"applepenapple\", wordDict = [\"apple\", \"pen\"]\n",
    "# Output: true\n",
    "# Explanation: Return true because \"applepenapple\" can be segmented as \"apple pen apple\".\n",
    "#              Note that you are allowed to reuse a dictionary word.\n",
    "# Example 3:\n",
    "\n",
    "# Input: s = \"catsandog\", wordDict = [\"cats\", \"dog\", \"sand\", \"and\", \"cat\"]\n",
    "# Output: false"
   ]
  },
  {
   "cell_type": "code",
   "execution_count": 10,
   "metadata": {},
   "outputs": [],
   "source": [
    "def word_break(s , wordDict):\n",
    "    dp = [False for x in range(len(s) + 1)]\n",
    "    dp[0] = True\n",
    "    \n",
    "    for i in range(1, len(s)+1):\n",
    "        for k in range(i):\n",
    "            if dp[k] and s[k : i] in wordDict:\n",
    "                dp[i] = True\n",
    "    return dp[len(s)]\n",
    "                "
   ]
  },
  {
   "cell_type": "code",
   "execution_count": 11,
   "metadata": {},
   "outputs": [
    {
     "data": {
      "text/plain": [
       "True"
      ]
     },
     "execution_count": 11,
     "metadata": {},
     "output_type": "execute_result"
    }
   ],
   "source": [
    " s = \"leetcode\"\n",
    "wordDict = [\"leet\", \"code\"]\n",
    "word_break(s, wordDict)"
   ]
  },
  {
   "cell_type": "code",
   "execution_count": 12,
   "metadata": {},
   "outputs": [
    {
     "data": {
      "text/plain": [
       "True"
      ]
     },
     "execution_count": 12,
     "metadata": {},
     "output_type": "execute_result"
    }
   ],
   "source": [
    " s = \"applepenapple\"\n",
    "wordDict =  [\"apple\", \"pen\"]\n",
    "word_break(s, wordDict)"
   ]
  },
  {
   "cell_type": "code",
   "execution_count": 13,
   "metadata": {},
   "outputs": [
    {
     "data": {
      "text/plain": [
       "False"
      ]
     },
     "execution_count": 13,
     "metadata": {},
     "output_type": "execute_result"
    }
   ],
   "source": [
    " s = \"catsandog\"\n",
    "wordDict = [\"cats\", \"dog\", \"sand\", \"and\", \"cat\"]\n",
    "word_break(s, wordDict)"
   ]
  },
  {
   "cell_type": "code",
   "execution_count": null,
   "metadata": {},
   "outputs": [],
   "source": []
  }
 ],
 "metadata": {
  "kernelspec": {
   "display_name": "Python 3",
   "language": "python",
   "name": "python3"
  },
  "language_info": {
   "codemirror_mode": {
    "name": "ipython",
    "version": 3
   },
   "file_extension": ".py",
   "mimetype": "text/x-python",
   "name": "python",
   "nbconvert_exporter": "python",
   "pygments_lexer": "ipython3",
   "version": "3.6.8"
  }
 },
 "nbformat": 4,
 "nbformat_minor": 2
}
