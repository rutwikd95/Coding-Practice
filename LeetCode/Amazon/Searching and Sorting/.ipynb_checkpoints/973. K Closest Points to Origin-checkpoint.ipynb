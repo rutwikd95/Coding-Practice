{
 "cells": [
  {
   "cell_type": "code",
   "execution_count": 4,
   "metadata": {},
   "outputs": [],
   "source": [
    "# Example 1:\n",
    "\n",
    "# Input: points = [[1,3],[-2,2]], K = 1\n",
    "# Output: [[-2,2]]\n",
    "# Explanation: \n",
    "# The distance between (1, 3) and the origin is sqrt(10).\n",
    "# The distance between (-2, 2) and the origin is sqrt(8).\n",
    "# Since sqrt(8) < sqrt(10), (-2, 2) is closer to the origin.\n",
    "# We only want the closest K = 1 points from the origin, so the answer is just [[-2,2]].\n",
    "# Example 2:\n",
    "\n",
    "# Input: points = [[3,3],[5,-1],[-2,4]], K = 2\n",
    "# Output: [[3,3],[-2,4]]\n",
    "# (The answer [[-2,4],[3,3]] would also be accepted.)"
   ]
  },
  {
   "cell_type": "code",
   "execution_count": 41,
   "metadata": {},
   "outputs": [],
   "source": [
    "def k_closest(points, K):\n",
    "    import math, heapq\n",
    "\n",
    "    def calc_dist(pt):\n",
    "        dist = math.sqrt(pt[0]**2 + pt[1]**2 )\n",
    "        print(dist)\n",
    "        return dist\n",
    "\n",
    "    mydict = {}\n",
    "    arr = []\n",
    "    ans = []\n",
    "    for i , pt in enumerate(points):\n",
    "        euclidean_dist = calc_dist(pt)\n",
    "        mydict[euclidean_dist] = i\n",
    "        arr.append(euclidean_dist)\n",
    "    print(arr)\n",
    "    print(mydict)\n",
    "    heapq.heapify(arr)\n",
    "    for i in range(K):\n",
    "        popped = heapq.heappop(arr)\n",
    "        popped_index = mydict[popped]\n",
    "        ans.append(points[popped_index])\n",
    "        \n",
    "    return ans\n",
    "    \n",
    "    \n",
    "            \n",
    "\n",
    "        \n",
    "        \n",
    "        "
   ]
  },
  {
   "cell_type": "code",
   "execution_count": 42,
   "metadata": {},
   "outputs": [
    {
     "name": "stdout",
     "output_type": "stream",
     "text": [
      "3.1622776601683795\n",
      "2.8284271247461903\n",
      "[3.1622776601683795, 2.8284271247461903]\n",
      "{3.1622776601683795: 0, 2.8284271247461903: 1}\n"
     ]
    },
    {
     "data": {
      "text/plain": [
       "[[-2, 2]]"
      ]
     },
     "execution_count": 42,
     "metadata": {},
     "output_type": "execute_result"
    }
   ],
   "source": [
    "points = [[1,3],[-2,2]]\n",
    "K = 1\n",
    "\n",
    "k_closest(points, K)"
   ]
  },
  {
   "cell_type": "code",
   "execution_count": 43,
   "metadata": {},
   "outputs": [
    {
     "name": "stdout",
     "output_type": "stream",
     "text": [
      "4.242640687119285\n",
      "5.0990195135927845\n",
      "4.47213595499958\n",
      "[4.242640687119285, 5.0990195135927845, 4.47213595499958]\n",
      "{4.242640687119285: 0, 5.0990195135927845: 1, 4.47213595499958: 2}\n"
     ]
    },
    {
     "data": {
      "text/plain": [
       "[[3, 3], [-2, 4]]"
      ]
     },
     "execution_count": 43,
     "metadata": {},
     "output_type": "execute_result"
    }
   ],
   "source": [
    "points = [[3,3],[5,-1],[-2,4]]\n",
    "K = 2\n",
    "\n",
    "k_closest(points, K)"
   ]
  },
  {
   "cell_type": "code",
   "execution_count": null,
   "metadata": {},
   "outputs": [],
   "source": []
  },
  {
   "cell_type": "code",
   "execution_count": null,
   "metadata": {},
   "outputs": [],
   "source": []
  },
  {
   "cell_type": "code",
   "execution_count": null,
   "metadata": {},
   "outputs": [],
   "source": [
    "def k_closest(points, K):\n",
    "    import math\n",
    "    mydict = {}\n",
    "    arr = []\n",
    "    for i , pt in enumerate(points):\n",
    "        \n",
    "    \n"
   ]
  }
 ],
 "metadata": {
  "kernelspec": {
   "display_name": "Python 3",
   "language": "python",
   "name": "python3"
  },
  "language_info": {
   "codemirror_mode": {
    "name": "ipython",
    "version": 3
   },
   "file_extension": ".py",
   "mimetype": "text/x-python",
   "name": "python",
   "nbconvert_exporter": "python",
   "pygments_lexer": "ipython3",
   "version": "3.6.8"
  }
 },
 "nbformat": 4,
 "nbformat_minor": 2
}
