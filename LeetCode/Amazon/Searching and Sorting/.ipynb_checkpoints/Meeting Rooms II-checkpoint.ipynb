{
 "cells": [
  {
   "cell_type": "code",
   "execution_count": 34,
   "metadata": {},
   "outputs": [],
   "source": [
    "# USING SORT :\n",
    "\n",
    "def meeting_2(intervals):\n",
    "    if not intervals :\n",
    "        return 0\n",
    "    timeline = []\n",
    "    for ints in intervals:\n",
    "        timeline.append((\"start\", ints[0]))\n",
    "        timeline.append((\"end\" , ints[1]))\n",
    "        \n",
    "    timeline = sorted(timeline, key = lambda x : (x[1], x[0]))\n",
    "    print(timeline)\n",
    "    room = 0 \n",
    "    max_room = 0 \n",
    "    for k, v in timeline:\n",
    "        if k == \"start\":\n",
    "            room += 1\n",
    "        else:\n",
    "            room -= 1\n",
    "        if room > max_room :\n",
    "            max_room = room\n",
    "    return max_room\n",
    "        \n",
    "            \n",
    "        "
   ]
  },
  {
   "cell_type": "code",
   "execution_count": 36,
   "metadata": {},
   "outputs": [
    {
     "name": "stdout",
     "output_type": "stream",
     "text": [
      "[('start', 2), ('end', 7)]\n"
     ]
    },
    {
     "data": {
      "text/plain": [
       "1"
      ]
     },
     "execution_count": 36,
     "metadata": {},
     "output_type": "execute_result"
    }
   ],
   "source": [
    "intervals = [[2,7]]\n",
    "\n",
    "meeting_2(intervals)"
   ]
  },
  {
   "cell_type": "code",
   "execution_count": 37,
   "metadata": {},
   "outputs": [
    {
     "name": "stdout",
     "output_type": "stream",
     "text": [
      "[('start', 0), ('start', 1), ('end', 2), ('start', 5), ('end', 10), ('start', 15), ('end', 20), ('end', 30)]\n"
     ]
    },
    {
     "data": {
      "text/plain": [
       "2"
      ]
     },
     "execution_count": 37,
     "metadata": {},
     "output_type": "execute_result"
    }
   ],
   "source": [
    "intervals = [[0,30], [5,10], [15,20], [1,2]]\n",
    "\n",
    "meeting_2(intervals)"
   ]
  },
  {
   "cell_type": "code",
   "execution_count": null,
   "metadata": {},
   "outputs": [],
   "source": []
  },
  {
   "cell_type": "code",
   "execution_count": 42,
   "metadata": {},
   "outputs": [],
   "source": [
    "# USING HEAP :\n",
    "\n",
    "def meeting_2(intervals):\n",
    "    import heapq\n",
    "    if intervals == None or len(intervals) == 0:\n",
    "        return 0\n",
    "    intervals = sorted(intervals , key = lambda x : x[0])\n",
    "    print(intervals)\n",
    "    heap = []\n",
    "    for ints in intervals:\n",
    "        if heap and ints[0] >= heap[0]:\n",
    "            heapq.heappop(heap)\n",
    "            heapq.heappush(heap , ints[1])\n",
    "            \n",
    "        else:\n",
    "            heapq.heappush(heap , ints[1])\n",
    "            \n",
    "    return len(heap)\n",
    "    \n",
    "    \n",
    "    \n",
    "        \n",
    "        \n",
    "    \n",
    "    \n",
    "    "
   ]
  },
  {
   "cell_type": "code",
   "execution_count": 43,
   "metadata": {},
   "outputs": [
    {
     "name": "stdout",
     "output_type": "stream",
     "text": [
      "[[0, 30], [1, 2], [5, 10], [15, 20]]\n"
     ]
    },
    {
     "data": {
      "text/plain": [
       "2"
      ]
     },
     "execution_count": 43,
     "metadata": {},
     "output_type": "execute_result"
    }
   ],
   "source": [
    "intervals = [[0,30], [5,10], [15,20],[1,2]]\n",
    "\n",
    "meeting_2(intervals)"
   ]
  },
  {
   "cell_type": "code",
   "execution_count": null,
   "metadata": {},
   "outputs": [],
   "source": []
  }
 ],
 "metadata": {
  "kernelspec": {
   "display_name": "Python 3",
   "language": "python",
   "name": "python3"
  },
  "language_info": {
   "codemirror_mode": {
    "name": "ipython",
    "version": 3
   },
   "file_extension": ".py",
   "mimetype": "text/x-python",
   "name": "python",
   "nbconvert_exporter": "python",
   "pygments_lexer": "ipython3",
   "version": "3.6.8"
  }
 },
 "nbformat": 4,
 "nbformat_minor": 2
}
