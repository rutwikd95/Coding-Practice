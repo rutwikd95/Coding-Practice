{
 "cells": [
  {
   "cell_type": "code",
   "execution_count": 4,
   "metadata": {},
   "outputs": [],
   "source": [
    "# Example 1:\n",
    "\n",
    "# nums1 = [1, 3]\n",
    "# nums2 = [2]\n",
    "\n",
    "# The median is 2.0\n",
    "# Example 2:\n",
    "\n",
    "# nums1 = [1, 2]\n",
    "# nums2 = [3, 4]\n",
    "\n",
    "# The median is (2 + 3)/2 = 2.5"
   ]
  },
  {
   "cell_type": "code",
   "execution_count": 79,
   "metadata": {},
   "outputs": [],
   "source": [
    "#BRUTE FORCE  : O(m+n)\n",
    "\n",
    "def median(nums1 , nums2):\n",
    "    #merging nums1 and nums2\n",
    "    \n",
    "    nums3 = []\n",
    "    i , j = 0, 0\n",
    "    m , n = len(nums1) , len(nums2)\n",
    "    while i < m and j < n :\n",
    "        if nums1[i] < nums2[j] :\n",
    "            nums3.append(nums1[i])\n",
    "            i = i+1\n",
    "        else:\n",
    "            nums3.append(nums2[j])\n",
    "            j = j+1\n",
    "    while i < m:\n",
    "        nums3.append(nums1[i])\n",
    "        i = i+1\n",
    "    while j < n :\n",
    "        nums3.append(nums2[j])\n",
    "        j = j+1\n",
    "    print(\"nums3 : \", nums3)\n",
    "    \n",
    "    length = len(nums3)\n",
    "    print(\"length of nums3 : \" , length)\n",
    "    if length % 2 == 0:\n",
    "        \n",
    "        median = (nums3[(len(nums3) // 2) - 1] + nums3[(len(nums3) // 2) ]) / 2\n",
    "\n",
    "    else:\n",
    "        median = float(nums3[int(length / 2)])\n",
    "\n",
    "    return median\n",
    "    \n"
   ]
  },
  {
   "cell_type": "code",
   "execution_count": 80,
   "metadata": {},
   "outputs": [
    {
     "name": "stdout",
     "output_type": "stream",
     "text": [
      "nums3 :  [1, 2, 3]\n",
      "length of nums3 :  3\n"
     ]
    },
    {
     "data": {
      "text/plain": [
       "2.0"
      ]
     },
     "execution_count": 80,
     "metadata": {},
     "output_type": "execute_result"
    }
   ],
   "source": [
    "nums1 = [1, 3]\n",
    "nums2 = [2]\n",
    "\n",
    "median(nums1 , nums2)"
   ]
  },
  {
   "cell_type": "code",
   "execution_count": 81,
   "metadata": {},
   "outputs": [
    {
     "name": "stdout",
     "output_type": "stream",
     "text": [
      "nums3 :  [1, 2, 3, 4]\n",
      "length of nums3 :  4\n"
     ]
    },
    {
     "data": {
      "text/plain": [
       "2.5"
      ]
     },
     "execution_count": 81,
     "metadata": {},
     "output_type": "execute_result"
    }
   ],
   "source": [
    "nums1 = [1, 2]\n",
    "nums2 = [3, 4]\n",
    "\n",
    "median(nums1 , nums2)"
   ]
  },
  {
   "cell_type": "code",
   "execution_count": null,
   "metadata": {},
   "outputs": [],
   "source": []
  },
  {
   "cell_type": "code",
   "execution_count": 84,
   "metadata": {},
   "outputs": [],
   "source": [
    "# USING LEFT and RIGHT  Partitions : O(Log(m+n))\n",
    "\n",
    "def median(nums1 , nums2):\n",
    "    if len(nums1) < len(nums2):\n",
    "        return median(nums2 , nums1)\n",
    "    \n",
    "    min_value = -9999999\n",
    "    max_value = 9999999\n",
    "    x = len(nums1)\n",
    "    y = len(nums2)\n",
    "    low = 0\n",
    "    high = x\n",
    "    while(low <= high):\n",
    "        partition_X = (low + high) / 2\n",
    "        partition_Y = (x + y + 1) / 2 - partition_X\n",
    "        \n",
    "        if partition_X == 0:\n",
    "            maxleft_X = min_value\n",
    "        else:\n",
    "            maxleft_X = nums1[int(partition_X-1)]\n",
    "        \n",
    "        if partition_X == x :\n",
    "            minright_X = max_value\n",
    "        else:\n",
    "            minright_X = nums1[int(partition_X)]\n",
    "            \n",
    "        if partition_Y == 0:\n",
    "            maxleft_Y = min_value\n",
    "        else:\n",
    "            maxleft_Y = nums2[int(partition_Y-1)]\n",
    "        \n",
    "        if partition_Y == y :\n",
    "            minright_Y = max_value\n",
    "        else:\n",
    "            minright_Y = nums2[int(partition_Y)]\n",
    "            \n",
    "        if maxleft_X <= minright_Y and maxleft_Y <= minright_X:\n",
    "            if ((x+y) % 2 == 0 ):\n",
    "                return (max(maxleft_X , maxleft_Y) + min(minright_X , minright_Y)) / 2\n",
    "            else:\n",
    "                return max(maxleft_X , maxleft_Y)\n",
    "            \n",
    "        elif maxleft_X > minright_Y:\n",
    "            high = partition_X - 1\n",
    "        else:\n",
    "            low = partition_X + 1\n",
    "            \n",
    "            \n",
    "            "
   ]
  },
  {
   "cell_type": "code",
   "execution_count": 85,
   "metadata": {},
   "outputs": [
    {
     "data": {
      "text/plain": [
       "2"
      ]
     },
     "execution_count": 85,
     "metadata": {},
     "output_type": "execute_result"
    }
   ],
   "source": [
    "nums1 = [1, 3]\n",
    "nums2 = [2]\n",
    "\n",
    "median(nums1 , nums2)"
   ]
  },
  {
   "cell_type": "code",
   "execution_count": 86,
   "metadata": {},
   "outputs": [
    {
     "data": {
      "text/plain": [
       "3.0"
      ]
     },
     "execution_count": 86,
     "metadata": {},
     "output_type": "execute_result"
    }
   ],
   "source": [
    "nums1 = [1, 2]\n",
    "nums2 = [3, 4]\n",
    "\n",
    "median(nums1 , nums2)"
   ]
  },
  {
   "cell_type": "code",
   "execution_count": null,
   "metadata": {},
   "outputs": [],
   "source": []
  },
  {
   "cell_type": "code",
   "execution_count": null,
   "metadata": {},
   "outputs": [],
   "source": []
  }
 ],
 "metadata": {
  "kernelspec": {
   "display_name": "Python 3",
   "language": "python",
   "name": "python3"
  },
  "language_info": {
   "codemirror_mode": {
    "name": "ipython",
    "version": 3
   },
   "file_extension": ".py",
   "mimetype": "text/x-python",
   "name": "python",
   "nbconvert_exporter": "python",
   "pygments_lexer": "ipython3",
   "version": "3.6.8"
  }
 },
 "nbformat": 4,
 "nbformat_minor": 2
}
