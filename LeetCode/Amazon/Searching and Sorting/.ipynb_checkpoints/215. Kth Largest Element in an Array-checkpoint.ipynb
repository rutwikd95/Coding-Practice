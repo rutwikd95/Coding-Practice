{
 "cells": [
  {
   "cell_type": "code",
   "execution_count": 4,
   "metadata": {},
   "outputs": [],
   "source": [
    "# Example 1:\n",
    "\n",
    "# Input: [3,2,1,5,6,4] and k = 2\n",
    "# Output: 5\n",
    "# Example 2:\n",
    "\n",
    "# Input: [3,2,3,1,2,4,5,5,6] and k = 4\n",
    "# Output: 4"
   ]
  },
  {
   "cell_type": "code",
   "execution_count": 52,
   "metadata": {},
   "outputs": [],
   "source": [
    "#     SOLUTION 1 : Using MAX HEAP\n",
    "\n",
    "\n",
    "def k_largest(nums , k):\n",
    "    import heapq\n",
    "    heapq._heapify_max(nums)\n",
    "    for i in range(k):\n",
    "        ans = heapq._heappop_max(nums)\n",
    "        \n",
    "    return ans\n",
    "\n",
    "\n",
    "# SOLUTION 2 : USING SORTED ARRAY :\n",
    "\n",
    "def k_largest_2(nums , k):\n",
    "    nums.sort()\n",
    "    return nums[-k]\n",
    "    \n",
    "    "
   ]
  },
  {
   "cell_type": "code",
   "execution_count": 53,
   "metadata": {},
   "outputs": [
    {
     "data": {
      "text/plain": [
       "5"
      ]
     },
     "execution_count": 53,
     "metadata": {},
     "output_type": "execute_result"
    }
   ],
   "source": [
    "nums = [3,2,1,5,6,4]\n",
    "k = 2\n",
    "\n",
    "k_largest(nums, k)"
   ]
  },
  {
   "cell_type": "code",
   "execution_count": 54,
   "metadata": {},
   "outputs": [
    {
     "data": {
      "text/plain": [
       "4"
      ]
     },
     "execution_count": 54,
     "metadata": {},
     "output_type": "execute_result"
    }
   ],
   "source": [
    "nums = [3,2,3,1,2,4,5,5,6] \n",
    "k = 4\n",
    "k_largest(nums , k)"
   ]
  },
  {
   "cell_type": "code",
   "execution_count": null,
   "metadata": {},
   "outputs": [],
   "source": []
  }
 ],
 "metadata": {
  "kernelspec": {
   "display_name": "Python 3",
   "language": "python",
   "name": "python3"
  },
  "language_info": {
   "codemirror_mode": {
    "name": "ipython",
    "version": 3
   },
   "file_extension": ".py",
   "mimetype": "text/x-python",
   "name": "python",
   "nbconvert_exporter": "python",
   "pygments_lexer": "ipython3",
   "version": "3.6.8"
  }
 },
 "nbformat": 4,
 "nbformat_minor": 2
}
