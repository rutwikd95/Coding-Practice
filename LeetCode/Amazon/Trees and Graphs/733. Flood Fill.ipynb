{
 "cells": [
  {
   "cell_type": "code",
   "execution_count": 3,
   "metadata": {},
   "outputs": [],
   "source": [
    "# Example 1:\n",
    "# Input: \n",
    "# image = [[1,1,1],[1,1,0],[1,0,1]]\n",
    "# sr = 1, sc = 1, newColor = 2\n",
    "# Output: [[2,2,2],[2,2,0],[2,0,1]]\n",
    "# Explanation: \n",
    "# From the center of the image (with position (sr, sc) = (1, 1)), all pixels connected \n",
    "# by a path of the same color as the starting pixel are colored with the new color.\n",
    "# Note the bottom corner is not colored 2, because it is not 4-directionally connected\n",
    "# to the starting pixel."
   ]
  },
  {
   "cell_type": "code",
   "execution_count": 16,
   "metadata": {},
   "outputs": [],
   "source": [
    "def flood_fill(image, sr, sc , newColor):\n",
    "#     sr = sr - 1 \n",
    "#     sc = sc - 1\n",
    "    starting_color = image[sr][sc]\n",
    "    print(starting_color)\n",
    "    queue = [[sr,sc]]\n",
    "    visited = []\n",
    "    while queue :\n",
    "#         print(\"While loop started ...\")\n",
    "        popr , popc  = queue.pop(0)\n",
    "#         visited.append([popr , popc])\n",
    "        if image[popr][popc] == starting_color and [popr , popc] not in visited:\n",
    "            visited.append([popr , popc])\n",
    "            image[popr][popc] = newColor\n",
    "            if popr - 1 >= 0:\n",
    "                queue.append([popr - 1 , popc])\n",
    "            if popc + 1 < len(image[0]):\n",
    "                queue.append([popr, popc + 1])\n",
    "            if popr + 1 < len(image):\n",
    "                queue.append([popr + 1 , popc])\n",
    "            if popc - 1 >=0 :\n",
    "                queue.append([popr , popc - 1])\n",
    "#             print(image)\n",
    "    return image\n",
    "    \n",
    "        "
   ]
  },
  {
   "cell_type": "code",
   "execution_count": 17,
   "metadata": {},
   "outputs": [
    {
     "name": "stdout",
     "output_type": "stream",
     "text": [
      "1\n"
     ]
    },
    {
     "data": {
      "text/plain": [
       "[[2, 2, 2], [2, 2, 0], [2, 0, 1]]"
      ]
     },
     "execution_count": 17,
     "metadata": {},
     "output_type": "execute_result"
    }
   ],
   "source": [
    "image = [[1,1,1],[1,1,0],[1,0,1]]\n",
    "sr = 1\n",
    "sc = 1\n",
    "newColor = 2\n",
    "\n",
    "flood_fill(image, sr, sc , newColor)"
   ]
  },
  {
   "cell_type": "code",
   "execution_count": 18,
   "metadata": {},
   "outputs": [
    {
     "name": "stdout",
     "output_type": "stream",
     "text": [
      "0\n"
     ]
    },
    {
     "data": {
      "text/plain": [
       "[[2, 2, 2], [2, 2, 2]]"
      ]
     },
     "execution_count": 18,
     "metadata": {},
     "output_type": "execute_result"
    }
   ],
   "source": [
    "image = [[0,0,0],[0,0,0]]\n",
    "sr = 1\n",
    "sc = 1\n",
    "newColor = 2\n",
    "\n",
    "flood_fill(image, sr, sc , newColor)"
   ]
  },
  {
   "cell_type": "code",
   "execution_count": 19,
   "metadata": {},
   "outputs": [
    {
     "name": "stdout",
     "output_type": "stream",
     "text": [
      "0\n"
     ]
    },
    {
     "data": {
      "text/plain": [
       "[[2, 2, 2], [2, 2, 1]]"
      ]
     },
     "execution_count": 19,
     "metadata": {},
     "output_type": "execute_result"
    }
   ],
   "source": [
    "image = [[0,0,0],[0,0,1]]\n",
    "sr = 0\n",
    "sc = 0\n",
    "newColor = 2\n",
    "\n",
    "flood_fill(image, sr, sc , newColor)"
   ]
  },
  {
   "cell_type": "code",
   "execution_count": 20,
   "metadata": {},
   "outputs": [
    {
     "name": "stdout",
     "output_type": "stream",
     "text": [
      "1\n"
     ]
    },
    {
     "data": {
      "text/plain": [
       "[[0, 0, 0], [0, 1, 1]]"
      ]
     },
     "execution_count": 20,
     "metadata": {},
     "output_type": "execute_result"
    }
   ],
   "source": [
    "image = [[0,0,0],[0,1,1]]\n",
    "sr = 1\n",
    "sc = 1\n",
    "newColor = 1\n",
    "\n",
    "flood_fill(image, sr, sc , newColor)"
   ]
  },
  {
   "cell_type": "code",
   "execution_count": null,
   "metadata": {},
   "outputs": [],
   "source": []
  },
  {
   "cell_type": "code",
   "execution_count": null,
   "metadata": {},
   "outputs": [],
   "source": []
  }
 ],
 "metadata": {
  "kernelspec": {
   "display_name": "Python 3",
   "language": "python",
   "name": "python3"
  },
  "language_info": {
   "codemirror_mode": {
    "name": "ipython",
    "version": 3
   },
   "file_extension": ".py",
   "mimetype": "text/x-python",
   "name": "python",
   "nbconvert_exporter": "python",
   "pygments_lexer": "ipython3",
   "version": "3.6.8"
  }
 },
 "nbformat": 4,
 "nbformat_minor": 2
}
