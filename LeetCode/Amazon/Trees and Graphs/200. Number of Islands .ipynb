{
 "cells": [
  {
   "cell_type": "code",
   "execution_count": null,
   "metadata": {},
   "outputs": [],
   "source": [
    "# Example 1:\n",
    "\n",
    "# Input:\n",
    "# 11110\n",
    "# 11010\n",
    "# 11000\n",
    "# 00000\n",
    "\n",
    "# Output: 1\n",
    "# Example 2:\n",
    "\n",
    "# Input:\n",
    "# 11000\n",
    "# 11000\n",
    "# 00100\n",
    "# 00011\n",
    "\n",
    "# Output: 3"
   ]
  },
  {
   "cell_type": "code",
   "execution_count": 8,
   "metadata": {},
   "outputs": [],
   "source": [
    "def islands(quest):\n",
    "    land = \"1\"\n",
    "    water = \"0\"\n",
    "    count = 0\n",
    "    for row in range(len(quest)):\n",
    "        for col in range(len(quest[0])):\n",
    "            if quest[row][col] == \"1\":\n",
    "                dfs(quest , row , col)\n",
    "                count = count + 1\n",
    "    return count\n",
    "\n",
    "def dfs(quest , row , col):\n",
    "    quest[row][col] = \"0\"\n",
    "    directions = [[-1,0],[0,1],[1,0],[0,-1]]\n",
    "    for d in directions:\n",
    "        new_row = row + d[0]\n",
    "        new_col = col + d[1]\n",
    "        if is_valid(quest , new_row , new_col) and quest[new_row][new_col] == \"1\":\n",
    "            dfs(quest, new_row , new_col)\n",
    "            \n",
    "            \n",
    "        \n",
    "def is_valid(quest , new_row , new_col):\n",
    "    m , n = len(quest) , len(quest[0])\n",
    "    if new_row < 0 or new_col < 0 or new_row >= m or new_col >= n:\n",
    "        return False\n",
    "    return True\n",
    "                \n",
    "                        \n",
    "                        \n",
    "                \n",
    "                \n",
    "    "
   ]
  },
  {
   "cell_type": "code",
   "execution_count": 9,
   "metadata": {},
   "outputs": [
    {
     "data": {
      "text/plain": [
       "1"
      ]
     },
     "execution_count": 9,
     "metadata": {},
     "output_type": "execute_result"
    }
   ],
   "source": [
    "quest = [[\"1\",\"1\",\"1\",\"1\",\"0\"],\n",
    "         [\"1\",\"1\",\"0\",\"1\",\"0\"],\n",
    "         [\"1\",\"1\",\"0\",\"0\",\"0\"],\n",
    "         [\"0\",\"0\",\"0\",\"0\",\"0\"]]\n",
    "\n",
    "islands(quest)\n"
   ]
  },
  {
   "cell_type": "code",
   "execution_count": 10,
   "metadata": {},
   "outputs": [
    {
     "data": {
      "text/plain": [
       "3"
      ]
     },
     "execution_count": 10,
     "metadata": {},
     "output_type": "execute_result"
    }
   ],
   "source": [
    "quest = [[\"1\",\"1\",\"0\",\"0\",\"0\"],\n",
    "         [\"1\",\"1\",\"0\",\"0\",\"0\"],\n",
    "         [\"0\",\"0\",\"1\",\"0\",\"0\"],\n",
    "         [\"0\",\"0\",\"0\",\"1\",\"1\"]]\n",
    "\n",
    "islands(quest)"
   ]
  },
  {
   "cell_type": "code",
   "execution_count": null,
   "metadata": {},
   "outputs": [],
   "source": []
  }
 ],
 "metadata": {
  "kernelspec": {
   "display_name": "Python 3",
   "language": "python",
   "name": "python3"
  },
  "language_info": {
   "codemirror_mode": {
    "name": "ipython",
    "version": 3
   },
   "file_extension": ".py",
   "mimetype": "text/x-python",
   "name": "python",
   "nbconvert_exporter": "python",
   "pygments_lexer": "ipython3",
   "version": "3.6.8"
  }
 },
 "nbformat": 4,
 "nbformat_minor": 2
}
