{
 "cells": [
  {
   "cell_type": "code",
   "execution_count": 5,
   "metadata": {},
   "outputs": [],
   "source": [
    "# Example 1:\n",
    "\n",
    "# Input:\n",
    "# beginWord = \"hit\",\n",
    "# endWord = \"cog\",\n",
    "# wordList = [\"hot\",\"dot\",\"dog\",\"lot\",\"log\",\"cog\"]\n",
    "\n",
    "# Output:\n",
    "# [\n",
    "#   [\"hit\",\"hot\",\"dot\",\"dog\",\"cog\"],\n",
    "#   [\"hit\",\"hot\",\"lot\",\"log\",\"cog\"]\n",
    "# ]\n",
    "# Example 2:\n",
    "\n",
    "# Input:\n",
    "# beginWord = \"hit\"\n",
    "# endWord = \"cog\"\n",
    "# wordList = [\"hot\",\"dot\",\"dog\",\"lot\",\"log\"]\n",
    "\n",
    "# Output: []\n",
    "\n",
    "# Explanation: The endWord \"cog\" is not in wordList, therefore no possible transformation."
   ]
  },
  {
   "cell_type": "code",
   "execution_count": 11,
   "metadata": {},
   "outputs": [],
   "source": [
    "def wordladder_2(beginWord , endWord, wordList):\n",
    "    from collections import defaultdict\n",
    "    adj_dict = defaultdict(list)\n",
    "    \n",
    "    for word in wordList:\n",
    "        for i in range(len(word)):\n",
    "            adj_dict[word[ : i] + \"*\" + word[i+1 : ]].append(word)\n",
    "            \n",
    "    ans = []\n",
    "    queue = [beginWord]\n",
    "    while queue :\n",
    "        current_word = queue.pop(0) \n",
    "        for i in range(len(current_word)):\n",
    "            intermediate_word = current_word[ : i] + \"*\" + current_word[i+1 : ]\n",
    "            \n",
    "            \n",
    "    print(adj_dict)"
   ]
  },
  {
   "cell_type": "code",
   "execution_count": 12,
   "metadata": {},
   "outputs": [
    {
     "name": "stdout",
     "output_type": "stream",
     "text": [
      "defaultdict(<class 'list'>, {'*ot': ['hot', 'dot', 'lot'], 'h*t': ['hot'], 'ho*': ['hot'], 'd*t': ['dot'], 'do*': ['dot', 'dog'], '*og': ['dog', 'log', 'cog'], 'd*g': ['dog'], 'l*t': ['lot'], 'lo*': ['lot', 'log'], 'l*g': ['log'], 'c*g': ['cog'], 'co*': ['cog']})\n"
     ]
    }
   ],
   "source": [
    "# Example 1:\n",
    "\n",
    "beginWord = \"hit\"\n",
    "endWord = \"cog\"\n",
    "wordList = [\"hot\",\"dot\",\"dog\",\"lot\",\"log\",\"cog\"]\n",
    "\n",
    "wordladder_2(beginWord, endWord, wordList)"
   ]
  },
  {
   "cell_type": "code",
   "execution_count": 8,
   "metadata": {},
   "outputs": [],
   "source": [
    "# Example 2:\n",
    "\n",
    "beginWord = \"hit\"\n",
    "endWord = \"cog\"\n",
    "wordList = [\"hot\",\"dot\",\"dog\",\"lot\",\"log\"]\n",
    "\n",
    "wordladder_2(beginWord, endWord, wordList)"
   ]
  },
  {
   "cell_type": "code",
   "execution_count": null,
   "metadata": {},
   "outputs": [],
   "source": []
  }
 ],
 "metadata": {
  "kernelspec": {
   "display_name": "Python 3",
   "language": "python",
   "name": "python3"
  },
  "language_info": {
   "codemirror_mode": {
    "name": "ipython",
    "version": 3
   },
   "file_extension": ".py",
   "mimetype": "text/x-python",
   "name": "python",
   "nbconvert_exporter": "python",
   "pygments_lexer": "ipython3",
   "version": "3.6.8"
  }
 },
 "nbformat": 4,
 "nbformat_minor": 2
}
