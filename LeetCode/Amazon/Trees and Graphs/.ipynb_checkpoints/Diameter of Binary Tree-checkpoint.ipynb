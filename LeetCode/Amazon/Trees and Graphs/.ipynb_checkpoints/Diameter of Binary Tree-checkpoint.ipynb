{
 "cells": [
  {
   "cell_type": "code",
   "execution_count": 2,
   "metadata": {},
   "outputs": [],
   "source": [
    "# Definition for a binary tree node.\n",
    "class TreeNode:\n",
    "    def __init__(self, x):\n",
    "        self.val = x\n",
    "        self.left = None\n",
    "        self.right = None\n",
    "\n",
    "class Solution:\n",
    "    def diameterOfBinaryTree(self, root: TreeNode) -> int:\n",
    "        if not root:\n",
    "            return 0\n",
    "        \n",
    "        def height(root):\n",
    "            if not root:\n",
    "                return 0\n",
    "            \n",
    "            left = height(root.left)\n",
    "            right = height(root.right)\n",
    "            \n",
    "            if left > right:\n",
    "                h = 1 + left\n",
    "            else:\n",
    "                h = 1 + right\n",
    "            return h\n",
    "            \n",
    "        \n",
    "        \n",
    "        lheight = height(root.left)\n",
    "        rheight = height(root.right)\n",
    "        \n",
    "        ldiameter = self.diameterOfBinaryTree(root.left)\n",
    "        rdiameter = self.diameterOfBinaryTree(root.right)\n",
    "        \n",
    "        return max(lheight + rheight  , max(ldiameter, rdiameter))\n",
    "            \n",
    "        "
   ]
  },
  {
   "cell_type": "code",
   "execution_count": null,
   "metadata": {},
   "outputs": [],
   "source": []
  }
 ],
 "metadata": {
  "kernelspec": {
   "display_name": "Python 3",
   "language": "python",
   "name": "python3"
  },
  "language_info": {
   "codemirror_mode": {
    "name": "ipython",
    "version": 3
   },
   "file_extension": ".py",
   "mimetype": "text/x-python",
   "name": "python",
   "nbconvert_exporter": "python",
   "pygments_lexer": "ipython3",
   "version": "3.6.8"
  }
 },
 "nbformat": 4,
 "nbformat_minor": 2
}
