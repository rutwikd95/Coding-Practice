{
 "cells": [
  {
   "cell_type": "code",
   "execution_count": 6,
   "metadata": {},
   "outputs": [],
   "source": [
    "class TreeNode:\n",
    "    def __init__(self, x):\n",
    "        self.val = x\n",
    "        self.left = None\n",
    "        self.right = None\n",
    "\n",
    "def levelOrder(root):\n",
    "    result = []\n",
    "    if not root :\n",
    "        return result\n",
    "    queue = []\n",
    "    queue.append(root)\n",
    "    # result.append([root.val])\n",
    "    while queue :\n",
    "        size = len(queue)\n",
    "        child = []\n",
    "        for i in range(size ):\n",
    "            current = queue.pop(0)\n",
    "            child.append(current.val)\n",
    "\n",
    "            if current.left :\n",
    "                queue.append(current.left)\n",
    "\n",
    "            if current.right:\n",
    "                queue.append(current.right)\n",
    "\n",
    "        result.append(child)\n",
    "    return result\n"
   ]
  },
  {
   "cell_type": "code",
   "execution_count": null,
   "metadata": {},
   "outputs": [],
   "source": []
  },
  {
   "cell_type": "code",
   "execution_count": null,
   "metadata": {},
   "outputs": [],
   "source": []
  },
  {
   "cell_type": "code",
   "execution_count": null,
   "metadata": {},
   "outputs": [],
   "source": []
  }
 ],
 "metadata": {
  "kernelspec": {
   "display_name": "Python 3",
   "language": "python",
   "name": "python3"
  },
  "language_info": {
   "codemirror_mode": {
    "name": "ipython",
    "version": 3
   },
   "file_extension": ".py",
   "mimetype": "text/x-python",
   "name": "python",
   "nbconvert_exporter": "python",
   "pygments_lexer": "ipython3",
   "version": "3.6.8"
  }
 },
 "nbformat": 4,
 "nbformat_minor": 2
}
