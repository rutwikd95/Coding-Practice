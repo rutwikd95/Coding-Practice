{
 "cells": [
  {
   "cell_type": "code",
   "execution_count": 1,
   "metadata": {},
   "outputs": [],
   "source": [
    "# Example 1:\n",
    "\n",
    "# Input: 2, [[1,0]] \n",
    "# Output: true\n",
    "# Explanation: There are a total of 2 courses to take. \n",
    "#              To take course 1 you should have finished course 0. So it is possible.\n",
    "# Example 2:\n",
    "\n",
    "# Input: 2, [[1,0],[0,1]]\n",
    "# Output: false\n",
    "# Explanation: There are a total of 2 courses to take. \n",
    "#              To take course 1 you should have finished course 0, and to take course 0 you should\n",
    "#              also have finished course 1. So it is impossible."
   ]
  },
  {
   "cell_type": "code",
   "execution_count": 3,
   "metadata": {},
   "outputs": [],
   "source": [
    "    def canFinish(numCourses, prerequisites):\n",
    "        cycle = False\n",
    "        queue_dict = {}\n",
    "        visited = []\n",
    "        queue = []\n",
    "        for pre in prerequisites:\n",
    "            if pre[0] not in queue_dict:\n",
    "                queue_dict[pre[0]] = pre[1]\n",
    "            \n"
   ]
  },
  {
   "cell_type": "code",
   "execution_count": 6,
   "metadata": {},
   "outputs": [],
   "source": [
    "numCourses = 2\n",
    "prerequisites = [[1,0],[0,1]]\n",
    "\n",
    "canFinish(numCourses, prerequisites)"
   ]
  },
  {
   "cell_type": "code",
   "execution_count": 5,
   "metadata": {},
   "outputs": [],
   "source": [
    "numCourses = 2\n",
    "prerequisites = [[1,0]]\n",
    "\n",
    "canFinish(numCourses, prerequisites)"
   ]
  },
  {
   "cell_type": "code",
   "execution_count": null,
   "metadata": {},
   "outputs": [],
   "source": []
  }
 ],
 "metadata": {
  "kernelspec": {
   "display_name": "Python 3",
   "language": "python",
   "name": "python3"
  },
  "language_info": {
   "codemirror_mode": {
    "name": "ipython",
    "version": 3
   },
   "file_extension": ".py",
   "mimetype": "text/x-python",
   "name": "python",
   "nbconvert_exporter": "python",
   "pygments_lexer": "ipython3",
   "version": "3.6.8"
  }
 },
 "nbformat": 4,
 "nbformat_minor": 2
}
