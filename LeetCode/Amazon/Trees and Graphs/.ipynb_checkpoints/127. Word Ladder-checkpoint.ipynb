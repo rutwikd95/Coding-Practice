{
 "cells": [
  {
   "cell_type": "code",
   "execution_count": 1,
   "metadata": {},
   "outputs": [],
   "source": [
    "# Example 1:\n",
    "\n",
    "# Input:\n",
    "# beginWord = \"hit\",\n",
    "# endWord = \"cog\",\n",
    "# wordList = [\"hot\",\"dot\",\"dog\",\"lot\",\"log\",\"cog\"]\n",
    "\n",
    "# Output: 5\n",
    "\n",
    "# Explanation: As one shortest transformation is \"hit\" -> \"hot\" -> \"dot\" -> \"dog\" -> \"cog\",\n",
    "# return its length 5."
   ]
  },
  {
   "cell_type": "code",
   "execution_count": 61,
   "metadata": {},
   "outputs": [],
   "source": [
    "from collections import defaultdict\n",
    "\n",
    "def ladderLength(beginWord , endWord , wordList):\n",
    "    adj_dict = defaultdict(list)\n",
    "    l = len(beginWord)\n",
    "    print(l)\n",
    "    for word in wordList:\n",
    "        for i in range(l):\n",
    "            adj_dict[word[:i] + \"*\" + word[i+1 : ]].append(word)\n",
    "            \n",
    "    print(adj_dict.items())\n",
    "    \n",
    "    queue =[(beginWord, 1)]\n",
    "    visited = {beginWord : True}\n",
    "    while queue :\n",
    "        current_word , level = queue.pop(0)\n",
    "        print(\"current word : \",current_word)\n",
    "        for i in range(l):\n",
    "            intermediate_word = current_word[:i] + \"*\" + current_word[i+1 : ]\n",
    "            \n",
    "            for word in adj_dict[intermediate_word]:\n",
    "                if word == endWord:\n",
    "                    return level + 1\n",
    "                if word not in visited:\n",
    "                    visited[word] = True\n",
    "                    queue.append((word , level + 1))\n",
    "                    \n",
    "            adj_dict[intermediate_word] = []\n",
    "            \n",
    "    return 0\n",
    "                \n",
    "        \n",
    "    "
   ]
  },
  {
   "cell_type": "code",
   "execution_count": 62,
   "metadata": {},
   "outputs": [
    {
     "name": "stdout",
     "output_type": "stream",
     "text": [
      "3\n",
      "dict_items([('*ot', ['hot', 'dot', 'lot']), ('h*t', ['hot']), ('ho*', ['hot']), ('d*t', ['dot']), ('do*', ['dot', 'dog']), ('*og', ['dog', 'log', 'cog']), ('d*g', ['dog']), ('l*t', ['lot']), ('lo*', ['lot', 'log']), ('l*g', ['log']), ('c*g', ['cog']), ('co*', ['cog'])])\n",
      "current word :  hit\n",
      "current word :  hot\n",
      "current word :  dot\n",
      "current word :  lot\n",
      "current word :  dog\n"
     ]
    },
    {
     "data": {
      "text/plain": [
       "5"
      ]
     },
     "execution_count": 62,
     "metadata": {},
     "output_type": "execute_result"
    }
   ],
   "source": [
    "beginWord = \"hit\"\n",
    "endWord = \"cog\"\n",
    "wordList = [\"hot\",\"dot\",\"dog\",\"lot\",\"log\",\"cog\"]\n",
    "\n",
    "ladderLength(beginWord , endWord , wordList)"
   ]
  },
  {
   "cell_type": "code",
   "execution_count": null,
   "metadata": {},
   "outputs": [],
   "source": []
  }
 ],
 "metadata": {
  "kernelspec": {
   "display_name": "Python 3",
   "language": "python",
   "name": "python3"
  },
  "language_info": {
   "codemirror_mode": {
    "name": "ipython",
    "version": 3
   },
   "file_extension": ".py",
   "mimetype": "text/x-python",
   "name": "python",
   "nbconvert_exporter": "python",
   "pygments_lexer": "ipython3",
   "version": "3.6.8"
  }
 },
 "nbformat": 4,
 "nbformat_minor": 2
}
