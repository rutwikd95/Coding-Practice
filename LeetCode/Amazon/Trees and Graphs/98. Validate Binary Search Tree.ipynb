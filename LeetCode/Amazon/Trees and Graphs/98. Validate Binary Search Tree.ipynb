{
 "cells": [
  {
   "cell_type": "code",
   "execution_count": 57,
   "metadata": {},
   "outputs": [],
   "source": [
    "# Definition for a binary tree node.\n",
    "class TreeNode:\n",
    "    def __init__(self, x):\n",
    "        self.val = x\n",
    "        self.left = None\n",
    "        self.right = None\n",
    "\n",
    "def isValidBST(root):\n",
    "    def helper(node, lower = float('-inf'), upper = float('inf')):\n",
    "            if not node:\n",
    "                return True\n",
    "            \n",
    "            val = node.val\n",
    "            if val <= lower or val >= upper:\n",
    "                return False\n",
    "\n",
    "            if not helper(node.right, val, upper):\n",
    "                return False\n",
    "            if not helper(node.left, lower, val):\n",
    "                return False\n",
    "            return True\n",
    "\n",
    "    return helper(root)"
   ]
  },
  {
   "cell_type": "code",
   "execution_count": 58,
   "metadata": {},
   "outputs": [
    {
     "data": {
      "text/plain": [
       "False"
      ]
     },
     "execution_count": 58,
     "metadata": {},
     "output_type": "execute_result"
    }
   ],
   "source": [
    "quest = [2,1,3]\n",
    "\n",
    "t1 = TreeNode(15)\n",
    "t2 = TreeNode(12)\n",
    "t3 = TreeNode(13)\n",
    "t1.left = t2\n",
    "t1.right = t3\n",
    "\n",
    "isValidBST(t1)"
   ]
  },
  {
   "cell_type": "code",
   "execution_count": null,
   "metadata": {},
   "outputs": [],
   "source": []
  }
 ],
 "metadata": {
  "kernelspec": {
   "display_name": "Python 3",
   "language": "python",
   "name": "python3"
  },
  "language_info": {
   "codemirror_mode": {
    "name": "ipython",
    "version": 3
   },
   "file_extension": ".py",
   "mimetype": "text/x-python",
   "name": "python",
   "nbconvert_exporter": "python",
   "pygments_lexer": "ipython3",
   "version": "3.6.8"
  }
 },
 "nbformat": 4,
 "nbformat_minor": 2
}
