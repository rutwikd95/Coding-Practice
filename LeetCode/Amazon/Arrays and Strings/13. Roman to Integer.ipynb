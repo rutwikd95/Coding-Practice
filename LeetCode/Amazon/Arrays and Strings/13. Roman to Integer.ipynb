{
 "cells": [
  {
   "cell_type": "code",
   "execution_count": 2,
   "metadata": {},
   "outputs": [],
   "source": [
    "# Input: \"III\"\n",
    "# Output: 3\n",
    "    \n",
    "    \n",
    "# Input: \"IV\"\n",
    "# Output: 4\n",
    "    \n",
    "# Input: \"IX\"\n",
    "# Output: 9\n",
    "\n",
    "# Input: \"LVIII\"\n",
    "# Output: 58\n",
    "# Explanation: L = 50, V= 5, III = 3.\n",
    "    \n",
    "# Input: \"MCMXCIV\"\n",
    "# Output: 1994\n",
    "# Explanation: M = 1000, CM = 900, XC = 90 and IV = 4."
   ]
  },
  {
   "cell_type": "code",
   "execution_count": 37,
   "metadata": {},
   "outputs": [],
   "source": [
    "def rom_to_int(s):\n",
    "    mydict = {\"I\" : 1, \"V\" : 5 ,\"X\" : 10, \"L\" : 50, \"C\" : 100, \"D\" : 500, \"M\" : 1000 }\n",
    "    res = 0\n",
    "    i = 0\n",
    "    while i < len(s)  :\n",
    "        s1 = s[i]\n",
    "        if i + 1 < len(s):\n",
    "            s2 = s[i+1]\n",
    "            if mydict[s1] >= mydict[s2]:\n",
    "                res = res + mydict[s1]\n",
    "                i = i + 1\n",
    "            else :\n",
    "                res = res + mydict[s2] - mydict[s1]\n",
    "                i = i + 2\n",
    "        else:\n",
    "            res = res + mydict[s1]\n",
    "            i = i + 1\n",
    "    return res\n",
    "            "
   ]
  },
  {
   "cell_type": "code",
   "execution_count": 40,
   "metadata": {},
   "outputs": [
    {
     "data": {
      "text/plain": [
       "1994"
      ]
     },
     "execution_count": 40,
     "metadata": {},
     "output_type": "execute_result"
    }
   ],
   "source": [
    "s1 = \"IV\"         #-->  4\n",
    "s2 = \"LVIII\"      #--> 58\n",
    "s3 = \"MCMXCIV\"    #--> 1994\n",
    "\n",
    "rom_to_int(s3)"
   ]
  },
  {
   "cell_type": "code",
   "execution_count": null,
   "metadata": {},
   "outputs": [],
   "source": []
  }
 ],
 "metadata": {
  "kernelspec": {
   "display_name": "Python 3",
   "language": "python",
   "name": "python3"
  },
  "language_info": {
   "codemirror_mode": {
    "name": "ipython",
    "version": 3
   },
   "file_extension": ".py",
   "mimetype": "text/x-python",
   "name": "python",
   "nbconvert_exporter": "python",
   "pygments_lexer": "ipython3",
   "version": "3.6.8"
  }
 },
 "nbformat": 4,
 "nbformat_minor": 2
}
