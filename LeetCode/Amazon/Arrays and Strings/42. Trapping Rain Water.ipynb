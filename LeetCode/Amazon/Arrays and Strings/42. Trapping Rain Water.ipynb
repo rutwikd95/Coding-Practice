{
 "cells": [
  {
   "cell_type": "code",
   "execution_count": 1,
   "metadata": {},
   "outputs": [],
   "source": [
    "# Input: [0,1,0,2,1,0,1,3,2,1,2,1]\n",
    "# Output: 6"
   ]
  },
  {
   "cell_type": "code",
   "execution_count": 50,
   "metadata": {},
   "outputs": [],
   "source": [
    "def trap_rainwater(height):\n",
    "    if not height :\n",
    "        return 0\n",
    "    print(\"Height     : \",height)\n",
    "    max_val = height[0]\n",
    "    left = []\n",
    "    left.append(max_val)\n",
    "    \n",
    "    \n",
    "    ans = 0\n",
    "    for i in range(0,len(height) - 1 ):\n",
    "        max_val = max(max_val , height[i])\n",
    "        left.append(max_val)\n",
    "    print(\"Left Array : \" , left)\n",
    "        \n",
    "    max_val = height[len(height) - 1]\n",
    "    right = []\n",
    "    right.append(max_val)\n",
    "    for j in range(len(height) -1 , 0, -1):\n",
    "        max_val = max(max_val , height[j])\n",
    "        right.append(max_val)\n",
    "    right.reverse()\n",
    "    print(\"Right array: \", right)\n",
    "    \n",
    "    ans = 0\n",
    "    for k in range(len(height) - 1):\n",
    "        if height[k] < (min(left[k], right[k])): \n",
    "            diff = abs(height[k] - (min(left[k], right[k])))\n",
    "            ans = ans + diff\n",
    "        \n",
    "    return ans\n",
    "        \n",
    "    "
   ]
  },
  {
   "cell_type": "code",
   "execution_count": 51,
   "metadata": {},
   "outputs": [
    {
     "name": "stdout",
     "output_type": "stream",
     "text": [
      "Height     :  [0, 1, 0, 2, 1, 0, 1, 3, 2, 1, 2, 1]\n",
      "Left Array :  [0, 0, 1, 1, 2, 2, 2, 2, 3, 3, 3, 3]\n",
      "Right array:  [3, 3, 3, 3, 3, 3, 3, 2, 2, 2, 1, 1]\n"
     ]
    },
    {
     "data": {
      "text/plain": [
       "6"
      ]
     },
     "execution_count": 51,
     "metadata": {},
     "output_type": "execute_result"
    }
   ],
   "source": [
    "height = [0,1,0,2,1,0,1,3,2,1,2,1]\n",
    "\n",
    "trap_rainwater(height)"
   ]
  },
  {
   "cell_type": "code",
   "execution_count": null,
   "metadata": {},
   "outputs": [],
   "source": []
  },
  {
   "cell_type": "code",
   "execution_count": null,
   "metadata": {},
   "outputs": [],
   "source": []
  }
 ],
 "metadata": {
  "kernelspec": {
   "display_name": "Python 3",
   "language": "python",
   "name": "python3"
  },
  "language_info": {
   "codemirror_mode": {
    "name": "ipython",
    "version": 3
   },
   "file_extension": ".py",
   "mimetype": "text/x-python",
   "name": "python",
   "nbconvert_exporter": "python",
   "pygments_lexer": "ipython3",
   "version": "3.6.8"
  }
 },
 "nbformat": 4,
 "nbformat_minor": 2
}
