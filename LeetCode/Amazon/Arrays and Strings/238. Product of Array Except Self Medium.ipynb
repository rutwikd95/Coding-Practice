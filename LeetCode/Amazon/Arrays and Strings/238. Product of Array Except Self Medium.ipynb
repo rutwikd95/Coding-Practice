{
 "cells": [
  {
   "cell_type": "code",
   "execution_count": 3,
   "metadata": {},
   "outputs": [],
   "source": [
    "# Example:\n",
    "\n",
    "# Input:  [1,2,3,4]\n",
    "# Output: [24,12,8,6]\n",
    "# Note: Please solve it without division and in O(n)."
   ]
  },
  {
   "cell_type": "code",
   "execution_count": 65,
   "metadata": {},
   "outputs": [],
   "source": [
    "# LEFT RIGHT PRODUCT LISTS :\n",
    "def prod_array(nums):\n",
    "    left = [1 for x in nums]\n",
    "#     print(left)\n",
    "    right = [1 for x in nums]\n",
    "    ans = []\n",
    "#     res = 1\n",
    "    for i in range(0,len(nums) - 1):\n",
    "        prod = left[i] * nums[i]\n",
    "        left[i+1] = prod\n",
    "    print(\"left array : \", left)\n",
    "    \n",
    "    for j in range(len(nums) - 1  , 0, -1):\n",
    "        print(nums[j])\n",
    "        prod = right[j] * nums[j]\n",
    "        right[j-1] = prod\n",
    "        \n",
    "    print(\"Right Array : \" , right )\n",
    "    \n",
    "    for k in range(len(nums) ):\n",
    "        ans.append(left[k] * right[k])\n",
    "    \n",
    "    return ans\n",
    "    \n",
    "\n",
    "        "
   ]
  },
  {
   "cell_type": "code",
   "execution_count": 66,
   "metadata": {},
   "outputs": [
    {
     "name": "stdout",
     "output_type": "stream",
     "text": [
      "left array :  [1, 1, 2, 6]\n",
      "4\n",
      "3\n",
      "2\n",
      "Right Array :  [24, 12, 4, 1]\n"
     ]
    },
    {
     "data": {
      "text/plain": [
       "[24, 12, 8, 6]"
      ]
     },
     "execution_count": 66,
     "metadata": {},
     "output_type": "execute_result"
    }
   ],
   "source": [
    "nums = [1,2,3,4]\n",
    "\n",
    "prod_array(nums)"
   ]
  },
  {
   "cell_type": "code",
   "execution_count": 97,
   "metadata": {},
   "outputs": [],
   "source": [
    "# O(1) SPACE COMPLEXITY (USING ONLY 1 Array instead of 2):\n",
    "def prod_array2(nums):\n",
    "    left = [1 for x in nums]\n",
    "#     print(left)\n",
    "    \n",
    "    right = 1\n",
    "    ans = []\n",
    "    for i in range(0,len(nums) - 1):\n",
    "        prod = left[i] * nums[i]\n",
    "        left[i+1] = prod\n",
    "    print(\"left array : \", left)\n",
    "    \n",
    "    prod = 1\n",
    "    for j in range(len(nums) - 1, 0, -1):\n",
    "        print(nums[j])\n",
    "        prod = prod * nums[j]\n",
    "        print(\"prod: \" , prod)\n",
    "#         right[j-1] = prod\n",
    "\n",
    "        ans.append(left[j] * prod)\n",
    "    \n",
    "    return ans"
   ]
  },
  {
   "cell_type": "code",
   "execution_count": 98,
   "metadata": {},
   "outputs": [
    {
     "name": "stdout",
     "output_type": "stream",
     "text": [
      "left array :  [1, 1, 2, 6]\n",
      "4\n",
      "prod:  4\n",
      "3\n",
      "prod:  12\n",
      "2\n",
      "prod:  24\n"
     ]
    },
    {
     "data": {
      "text/plain": [
       "[24, 24, 24]"
      ]
     },
     "execution_count": 98,
     "metadata": {},
     "output_type": "execute_result"
    }
   ],
   "source": [
    "# THIS PART DOESNT WORK!!\n",
    "nums = [1,2,3,4]\n",
    "\n",
    "prod_array2(nums)"
   ]
  },
  {
   "cell_type": "code",
   "execution_count": null,
   "metadata": {},
   "outputs": [],
   "source": []
  }
 ],
 "metadata": {
  "kernelspec": {
   "display_name": "Python 3",
   "language": "python",
   "name": "python3"
  },
  "language_info": {
   "codemirror_mode": {
    "name": "ipython",
    "version": 3
   },
   "file_extension": ".py",
   "mimetype": "text/x-python",
   "name": "python",
   "nbconvert_exporter": "python",
   "pygments_lexer": "ipython3",
   "version": "3.6.8"
  }
 },
 "nbformat": 4,
 "nbformat_minor": 2
}
