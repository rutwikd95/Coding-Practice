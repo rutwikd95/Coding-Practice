{
 "cells": [
  {
   "cell_type": "code",
   "execution_count": 4,
   "metadata": {},
   "outputs": [],
   "source": [
    "# Input : [1,8,6,2,5,4,8,3,7]\n",
    "# Output: 49\n",
    "    "
   ]
  },
  {
   "cell_type": "code",
   "execution_count": 11,
   "metadata": {},
   "outputs": [],
   "source": [
    "# BRUTE FORCE :\n",
    "\n",
    "def container(height):\n",
    "    max_area = 0\n",
    "    for i in range(0, len(height) - 1):\n",
    "        for j in range(i+1, len(height) ):\n",
    "            area = (min(height[i], height[j])) * (j - i)\n",
    "            max_area = max(max_area , area)\n",
    "            \n",
    "    return max_area\n",
    "        \n"
   ]
  },
  {
   "cell_type": "code",
   "execution_count": 12,
   "metadata": {},
   "outputs": [
    {
     "data": {
      "text/plain": [
       "49"
      ]
     },
     "execution_count": 12,
     "metadata": {},
     "output_type": "execute_result"
    }
   ],
   "source": [
    "height = [1,8,6,2,5,4,8,3,7]\n",
    "    \n",
    "container(height)"
   ]
  },
  {
   "cell_type": "code",
   "execution_count": 3,
   "metadata": {},
   "outputs": [],
   "source": [
    "# TWO POINTER METHOD\n",
    "\n",
    "def container2(height):\n",
    "    i = 0\n",
    "    j = len(height) - 1\n",
    "    max_area = 0\n",
    "    while (i < j):\n",
    "        area = (min(height[i], height[j])) * (j - i)\n",
    "        max_area = max(max_area , area)\n",
    "        if height[i] < height[j]:\n",
    "            i += 1\n",
    "        else : \n",
    "            j -= 1\n",
    "    return max_area"
   ]
  },
  {
   "cell_type": "code",
   "execution_count": 4,
   "metadata": {},
   "outputs": [
    {
     "data": {
      "text/plain": [
       "49"
      ]
     },
     "execution_count": 4,
     "metadata": {},
     "output_type": "execute_result"
    }
   ],
   "source": [
    "height = [1,8,6,2,5,4,8,3,7]\n",
    "    \n",
    "container2(height)"
   ]
  },
  {
   "cell_type": "code",
   "execution_count": null,
   "metadata": {},
   "outputs": [],
   "source": []
  }
 ],
 "metadata": {
  "kernelspec": {
   "display_name": "Python 3",
   "language": "python",
   "name": "python3"
  },
  "language_info": {
   "codemirror_mode": {
    "name": "ipython",
    "version": 3
   },
   "file_extension": ".py",
   "mimetype": "text/x-python",
   "name": "python",
   "nbconvert_exporter": "python",
   "pygments_lexer": "ipython3",
   "version": "3.6.8"
  }
 },
 "nbformat": 4,
 "nbformat_minor": 2
}
