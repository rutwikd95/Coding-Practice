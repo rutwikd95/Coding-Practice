{
 "cells": [
  {
   "cell_type": "code",
   "execution_count": 4,
   "metadata": {},
   "outputs": [],
   "source": [
    "# Given array nums = [-1, 2, 1, -4], and target = 1.\n",
    "\n",
    "# The sum that is closest to the target is 2. (-1 + 2 + 1 = 2)."
   ]
  },
  {
   "cell_type": "code",
   "execution_count": 36,
   "metadata": {},
   "outputs": [],
   "source": [
    "def threesum_closest(nums, target):\n",
    "    if len(nums) < 3:\n",
    "        return 0\n",
    "    nums.sort()\n",
    "    print(nums)\n",
    "    closest = 999999\n",
    "    for i in range(0, len(nums) - 2):\n",
    "        ptr_start = i+1\n",
    "        ptr_end = len(nums) - 1\n",
    "        while(ptr_start < ptr_end):\n",
    "            res = nums[i] + nums[ptr_start] + nums[ptr_end]\n",
    "            if abs(res - target) < closest:\n",
    "                closest = abs(res - target)\n",
    "                ans = res\n",
    "                \n",
    "            if res > target :\n",
    "                ptr_end -= 1\n",
    "                \n",
    "            else: \n",
    "                ptr_start += 1\n",
    "    return ans\n",
    "        "
   ]
  },
  {
   "cell_type": "code",
   "execution_count": 38,
   "metadata": {},
   "outputs": [
    {
     "name": "stdout",
     "output_type": "stream",
     "text": [
      "[-4, -1, 1, 2]\n"
     ]
    },
    {
     "data": {
      "text/plain": [
       "2"
      ]
     },
     "execution_count": 38,
     "metadata": {},
     "output_type": "execute_result"
    }
   ],
   "source": [
    "nums = [-1, 2, 1, -4]\n",
    "target = 1\n",
    "\n",
    "nums2 = [1,1,1,0]\n",
    "target2 = -100\n",
    "\n",
    "threesum_closest(nums, target)"
   ]
  },
  {
   "cell_type": "code",
   "execution_count": null,
   "metadata": {},
   "outputs": [],
   "source": []
  },
  {
   "cell_type": "code",
   "execution_count": null,
   "metadata": {},
   "outputs": [],
   "source": []
  }
 ],
 "metadata": {
  "kernelspec": {
   "display_name": "Python 3",
   "language": "python",
   "name": "python3"
  },
  "language_info": {
   "codemirror_mode": {
    "name": "ipython",
    "version": 3
   },
   "file_extension": ".py",
   "mimetype": "text/x-python",
   "name": "python",
   "nbconvert_exporter": "python",
   "pygments_lexer": "ipython3",
   "version": "3.6.8"
  }
 },
 "nbformat": 4,
 "nbformat_minor": 2
}
