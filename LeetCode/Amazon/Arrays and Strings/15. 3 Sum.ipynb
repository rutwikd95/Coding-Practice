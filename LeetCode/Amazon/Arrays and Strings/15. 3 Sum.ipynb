{
 "cells": [
  {
   "cell_type": "code",
   "execution_count": 4,
   "metadata": {},
   "outputs": [],
   "source": [
    "# Given array nums = [-1, 0, 1, 2, -1, -4],\n",
    "\n",
    "# A solution set is:\n",
    "# [\n",
    "#   [-1, 0, 1],\n",
    "#   [-1, -1, 2]\n",
    "# ]"
   ]
  },
  {
   "cell_type": "code",
   "execution_count": 11,
   "metadata": {},
   "outputs": [],
   "source": [
    "def three_sum(nums):\n",
    "    ans = []\n",
    "    total = 0\n",
    "    for i in range(len(nums) - 3):\n",
    "        first = nums[i]\n",
    "        total = total + first\n",
    "        print(\"first total : \", total)\n",
    "        for j in range(i+1 , len(nums)):\n",
    "            total = total + nums[j]\n",
    "            print(\"2nd total : \", total)\n",
    "            required = 0 - total\n",
    "            print(\"required : \", required)\n",
    "            for k in range(j+1 , len(nums)):\n",
    "                if required == nums[k]:\n",
    "                    print(\"Required Found\")\n",
    "                    ans.append([nums[i] , nums[j] , nums[k]])\n",
    "                else:\n",
    "                    break\n",
    "        print(\"\\n\")\n",
    "    return ans\n",
    "        \n",
    "\n",
    "\n"
   ]
  },
  {
   "cell_type": "code",
   "execution_count": 12,
   "metadata": {},
   "outputs": [
    {
     "name": "stdout",
     "output_type": "stream",
     "text": [
      "first total :  -1\n",
      "2nd total :  -1\n",
      "required :  1\n",
      "Required Found\n",
      "2nd total :  0\n",
      "required :  0\n",
      "2nd total :  2\n",
      "required :  -2\n",
      "2nd total :  1\n",
      "required :  -1\n",
      "2nd total :  -3\n",
      "required :  3\n",
      "\n",
      "\n",
      "first total :  -3\n",
      "2nd total :  -2\n",
      "required :  2\n",
      "Required Found\n",
      "2nd total :  0\n",
      "required :  0\n",
      "2nd total :  -1\n",
      "required :  1\n",
      "2nd total :  -5\n",
      "required :  5\n",
      "\n",
      "\n",
      "first total :  -4\n",
      "2nd total :  -2\n",
      "required :  2\n",
      "2nd total :  -3\n",
      "required :  3\n",
      "2nd total :  -7\n",
      "required :  7\n",
      "\n",
      "\n"
     ]
    },
    {
     "data": {
      "text/plain": [
       "[[-1, 0, 1], [0, 1, 2]]"
      ]
     },
     "execution_count": 12,
     "metadata": {},
     "output_type": "execute_result"
    }
   ],
   "source": [
    "nums = [-1, 0, 1, 2, -1, -4]\n",
    "\n",
    "three_sum(nums)"
   ]
  },
  {
   "cell_type": "code",
   "execution_count": 33,
   "metadata": {},
   "outputs": [],
   "source": [
    "def three_sum2(nums) :\n",
    "    i = 0\n",
    "    ans = []\n",
    "    while (i <= len(nums) - 2):\n",
    "        print(\"i : \" , nums[i])\n",
    "        for j in range(i + 1 , len(nums) - 1):\n",
    "            print(\"  j : \",nums[j])\n",
    "            total = nums[i] + nums[j]\n",
    "            required = 0 - total \n",
    "            if required in nums[j+1 : ] :\n",
    "                print(\"    Required Found : \", required)\n",
    "                res =  [nums[i], nums[j] , required]\n",
    "                print(\"res : \" , res)\n",
    "                res.sort()\n",
    "                print(\"sorted res : \" , res)\n",
    "                if res not in ans:\n",
    "                    ans.append(res)\n",
    "        i = i+1\n",
    "                \n",
    "    return ans\n",
    "            \n",
    "        "
   ]
  },
  {
   "cell_type": "code",
   "execution_count": 34,
   "metadata": {},
   "outputs": [
    {
     "name": "stdout",
     "output_type": "stream",
     "text": [
      "i :  -1\n",
      "  j :  0\n",
      "    Required Found :  1\n",
      "res :  [-1, 0, 1]\n",
      "sorted res :  [-1, 0, 1]\n",
      "  j :  1\n",
      "  j :  2\n",
      "    Required Found :  -1\n",
      "res :  [-1, 2, -1]\n",
      "sorted res :  [-1, -1, 2]\n",
      "  j :  -1\n",
      "i :  0\n",
      "  j :  1\n",
      "    Required Found :  -1\n",
      "res :  [0, 1, -1]\n",
      "sorted res :  [-1, 0, 1]\n",
      "  j :  2\n",
      "  j :  -1\n",
      "i :  1\n",
      "  j :  2\n",
      "  j :  -1\n",
      "i :  2\n",
      "  j :  -1\n",
      "i :  -1\n"
     ]
    },
    {
     "data": {
      "text/plain": [
       "[[-1, 0, 1], [-1, -1, 2]]"
      ]
     },
     "execution_count": 34,
     "metadata": {},
     "output_type": "execute_result"
    }
   ],
   "source": [
    "nums = [-1, 0, 1, 2, -1, -4]\n",
    "\n",
    "three_sum2(nums)"
   ]
  },
  {
   "cell_type": "code",
   "execution_count": 31,
   "metadata": {},
   "outputs": [],
   "source": [
    "def three_sum3(nums) :\n",
    "    nums.sort()\n",
    "    ans = []\n",
    "    for i in range(0 , len(nums) - 2):\n",
    "        if i == 0 or nums[i] > nums[i - 1]:\n",
    "            ptr_start = i + 1\n",
    "            ptr_end = len(nums) - 1\n",
    "            while (ptr_start < ptr_end ):\n",
    "                if nums[i] + nums[ptr_start] + nums[ptr_end] == 0:\n",
    "                    ans.append([nums[i] , nums[ptr_start] , nums[ptr_end]])\n",
    "                if nums[i] + nums[ptr_start] + nums[ptr_end] < 0 :\n",
    "                    current_start = ptr_start\n",
    "                    while(nums[ptr_start] == nums[current_start] and ptr_start < ptr_end):\n",
    "                        ptr_start = ptr_start + 1\n",
    "                else:\n",
    "                    current_end = ptr_end\n",
    "                    while(nums[ptr_end] == nums[current_end] and ptr_start < ptr_end):\n",
    "                        ptr_end = ptr_end - 1\n",
    "\n",
    "    return ans\n",
    "    \n",
    "        "
   ]
  },
  {
   "cell_type": "code",
   "execution_count": 32,
   "metadata": {},
   "outputs": [
    {
     "data": {
      "text/plain": [
       "[[-1, -1, 2], [-1, 0, 1]]"
      ]
     },
     "execution_count": 32,
     "metadata": {},
     "output_type": "execute_result"
    }
   ],
   "source": [
    "nums = [-1, 0, 1, 2, -1, -4]\n",
    "\n",
    "three_sum3(nums)"
   ]
  },
  {
   "cell_type": "code",
   "execution_count": null,
   "metadata": {},
   "outputs": [],
   "source": []
  }
 ],
 "metadata": {
  "kernelspec": {
   "display_name": "Python 3",
   "language": "python",
   "name": "python3"
  },
  "language_info": {
   "codemirror_mode": {
    "name": "ipython",
    "version": 3
   },
   "file_extension": ".py",
   "mimetype": "text/x-python",
   "name": "python",
   "nbconvert_exporter": "python",
   "pygments_lexer": "ipython3",
   "version": "3.6.8"
  }
 },
 "nbformat": 4,
 "nbformat_minor": 2
}
