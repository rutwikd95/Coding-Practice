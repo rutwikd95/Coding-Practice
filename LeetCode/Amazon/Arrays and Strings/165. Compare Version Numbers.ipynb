{
 "cells": [
  {
   "cell_type": "code",
   "execution_count": 1,
   "metadata": {},
   "outputs": [],
   "source": [
    "# Input: version1 = \"0.1\", version2 = \"1.1\"\n",
    "# Output: -1\n",
    "\n",
    "# Input: version1 = \"1.0.1\", version2 = \"1\"\n",
    "# Output: 1\n",
    "\n",
    "# Input: version1 = \"7.5.2.4\", version2 = \"7.5.3\"\n",
    "# Output: -1\n",
    "\n",
    "# Input: version1 = \"1.01\", version2 = \"1.001\"\n",
    "# Output: 0\n",
    "# Explanation: Ignoring leading zeroes, both “01” and “001\" represent the same number “1”\n",
    "\n",
    "# Input: version1 = \"1.0\", version2 = \"1.0.0\"\n",
    "# Output: 0\n",
    "# Explanation: The first version number does not have a third level revision number,\n",
    "# which means its third level revision number is default to \"0\""
   ]
  },
  {
   "cell_type": "code",
   "execution_count": 12,
   "metadata": {},
   "outputs": [],
   "source": [
    "def compare_version(version1 , version2):\n",
    "    if version1 == version2 :\n",
    "        return 0\n",
    "    \n",
    "    v1_list = version1.split(\".\")\n",
    "    v2_list = version2.split(\".\")\n",
    "    maxlen  = max(len(v1_list),len(v2_list))\n",
    "    for i in range(maxlen):\n",
    "        if i < len(v1_list):\n",
    "            v1_int = int(v1_list[i])\n",
    "        else:\n",
    "            v1_int = 0\n",
    "            \n",
    "        if i < len(v2_list):\n",
    "            v2_int = int(v2_list[i])\n",
    "        else:\n",
    "            v2_int = 0\n",
    "        \n",
    "        if v1_int > v2_int :\n",
    "            return 1\n",
    "        elif v1_int < v2_int :\n",
    "            return -1\n",
    "    return 0\n",
    "    "
   ]
  },
  {
   "cell_type": "code",
   "execution_count": 13,
   "metadata": {},
   "outputs": [
    {
     "data": {
      "text/plain": [
       "-1"
      ]
     },
     "execution_count": 13,
     "metadata": {},
     "output_type": "execute_result"
    }
   ],
   "source": [
    "version1 = \"0.1\" \n",
    "version2 = \"1.1\"\n",
    "\n",
    "compare_version(version1 , version2)"
   ]
  },
  {
   "cell_type": "code",
   "execution_count": null,
   "metadata": {},
   "outputs": [],
   "source": []
  }
 ],
 "metadata": {
  "kernelspec": {
   "display_name": "Python 3",
   "language": "python",
   "name": "python3"
  },
  "language_info": {
   "codemirror_mode": {
    "name": "ipython",
    "version": 3
   },
   "file_extension": ".py",
   "mimetype": "text/x-python",
   "name": "python",
   "nbconvert_exporter": "python",
   "pygments_lexer": "ipython3",
   "version": "3.6.8"
  }
 },
 "nbformat": 4,
 "nbformat_minor": 2
}
