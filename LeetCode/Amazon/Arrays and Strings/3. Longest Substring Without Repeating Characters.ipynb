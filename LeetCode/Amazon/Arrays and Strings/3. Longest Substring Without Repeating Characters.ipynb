{
 "cells": [
  {
   "cell_type": "code",
   "execution_count": 5,
   "metadata": {},
   "outputs": [],
   "source": [
    "# Input: \"abcabcbb\"\n",
    "# Output: 3 \n",
    "# Explanation: The answer is \"abc\", with the length of 3. \n",
    "\n",
    "# Input: \"bbbbb\"\n",
    "# Output: 1\n",
    "# Explanation: The answer is \"b\", with the length of 1.\n",
    "\n",
    "# Input: \"pwwkew\"\n",
    "# Output: 3\n",
    "# Explanation: The answer is \"wke\", with the length of 3. \n",
    "# Note that the answer must be a substring, \"pwke\" is a subsequence and not a substring."
   ]
  },
  {
   "cell_type": "code",
   "execution_count": 23,
   "metadata": {},
   "outputs": [],
   "source": [
    "def LSWRC(s):\n",
    "    longest = 0\n",
    "    for i in range(len(s)):\n",
    "        mylist = []\n",
    "        while (s[i] not in mylist and i < len(s) - 1):\n",
    "            mylist.append(s[i])\n",
    "            i += 1\n",
    "\n",
    "        if longest < len(mylist):\n",
    "            longest = len(mylist)\n",
    "\n",
    "    return longest"
   ]
  },
  {
   "cell_type": "code",
   "execution_count": 24,
   "metadata": {},
   "outputs": [
    {
     "name": "stdout",
     "output_type": "stream",
     "text": [
      "3\n",
      "1\n",
      "3\n",
      "0\n"
     ]
    }
   ],
   "source": [
    "s1 = \"abcabcbb\"\n",
    "s2 =  \"bbbbb\"\n",
    "s3 = \"pwwkew\"\n",
    "\n",
    "s4 = \" \"\n",
    "\n",
    "print(LSWRC(s1))\n",
    "print(LSWRC(s2))\n",
    "print(LSWRC(s3))\n",
    "\n",
    "print(LSWRC(s4))"
   ]
  },
  {
   "cell_type": "code",
   "execution_count": 28,
   "metadata": {},
   "outputs": [],
   "source": [
    "def LSWRC2(s):\n",
    "    myset = set()\n",
    "    i , j = 0 , 0\n",
    "    max_val = 0\n",
    "    while(i < len(s) and j < len(s)):\n",
    "        if s[j] not in myset :\n",
    "            myset.add(s[j])\n",
    "            j += 1\n",
    "            max_val = max(max_val , j - i)\n",
    "        else:\n",
    "            myset.remove(s[i])\n",
    "            i += 1\n",
    "    return max_val\n",
    "        "
   ]
  },
  {
   "cell_type": "code",
   "execution_count": 29,
   "metadata": {},
   "outputs": [
    {
     "name": "stdout",
     "output_type": "stream",
     "text": [
      "3\n",
      "1\n",
      "3\n",
      "1\n"
     ]
    }
   ],
   "source": [
    "s1 = \"abcabcbb\"\n",
    "s2 =  \"bbbbb\"\n",
    "s3 = \"pwwkew\"\n",
    "\n",
    "s4 = \" \"\n",
    "\n",
    "print(LSWRC2(s1))\n",
    "print(LSWRC2(s2))\n",
    "print(LSWRC2(s3))\n",
    "\n",
    "print(LSWRC2(s4))"
   ]
  },
  {
   "cell_type": "code",
   "execution_count": null,
   "metadata": {},
   "outputs": [],
   "source": []
  }
 ],
 "metadata": {
  "kernelspec": {
   "display_name": "Python 3",
   "language": "python",
   "name": "python3"
  },
  "language_info": {
   "codemirror_mode": {
    "name": "ipython",
    "version": 3
   },
   "file_extension": ".py",
   "mimetype": "text/x-python",
   "name": "python",
   "nbconvert_exporter": "python",
   "pygments_lexer": "ipython3",
   "version": "3.6.8"
  }
 },
 "nbformat": 4,
 "nbformat_minor": 2
}
