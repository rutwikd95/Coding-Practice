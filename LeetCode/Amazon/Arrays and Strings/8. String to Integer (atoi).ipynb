{
 "cells": [
  {
   "cell_type": "code",
   "execution_count": 4,
   "metadata": {},
   "outputs": [],
   "source": [
    "# Input: \"42\"\n",
    "# Output: 42\n",
    "    \n",
    "# Input: \"   -42\"\n",
    "# Output: -42\n",
    "# Explanation: The first non-whitespace character is '-', which is the minus sign.\n",
    "#              Then take as many numerical digits as possible, which gets 42.\n",
    "        \n",
    "# Input: \"4193 with words\"\n",
    "# Output: 4193\n",
    "# Explanation: Conversion stops at digit '3' as the next character is not a numerical digit.\n",
    "    \n",
    "# Input: \"words and 987\"\n",
    "# Output: 0\n",
    "# Explanation: The first non-whitespace character is 'w', which is not a numerical \n",
    "#              digit or a +/- sign. Therefore no valid conversion could be performed.\n",
    "        \n",
    "# Input: \"-91283472332\"\n",
    "# Output: -2147483648\n",
    "# Explanation: The number \"-91283472332\" is out of the range of a 32-bit signed integer.\n",
    "#              Thefore INT_MIN (−231) is returned.\n",
    "        \n"
   ]
  },
  {
   "cell_type": "code",
   "execution_count": 58,
   "metadata": {},
   "outputs": [],
   "source": [
    "def str_to_int(s):\n",
    "    if not s :\n",
    "        return 0\n",
    "    signs = [\"+\",\"-\"]\n",
    "    i = 0\n",
    "    ans = \"\"\n",
    "    valid = True\n",
    "    while (s[i] == \" \") :\n",
    "        if i < len(s) - 1: \n",
    "            i = i+1\n",
    "        else:\n",
    "            return 0\n",
    "    \n",
    "    while (i < len(s)):\n",
    "        if s[i] in signs or s[i].isdigit() :\n",
    "            ans = ans + s[i]\n",
    "            i = i + 1 \n",
    "        elif s[i].isalpha() and ans == \"\":\n",
    "            ans = 0\n",
    "        else :\n",
    "            return ans\n",
    "    if ans in signs:\n",
    "        return 0\n",
    "    if int(ans) < (-2**31) :  \n",
    "        return (-2**31)\n",
    "    elif int(ans) > 2**31 - 1:\n",
    "        return ((2**31) - 1)\n",
    "    else:\n",
    "        return int(ans)"
   ]
  },
  {
   "cell_type": "code",
   "execution_count": 59,
   "metadata": {},
   "outputs": [
    {
     "name": "stdout",
     "output_type": "stream",
     "text": [
      "42\n",
      "-42\n",
      "4193\n",
      "0\n",
      "-2147483648\n",
      "0\n",
      "0\n",
      "0\n",
      "0\n"
     ]
    }
   ],
   "source": [
    "s1 = \"42\"\n",
    "s2 =  \"   -42\"\n",
    "s3 =  \"4193 with words\"\n",
    "s4 = \"words and 987\"\n",
    "s5 = \"-91283472332\"\n",
    "\n",
    "\n",
    "s6= \"\"\n",
    "s7= \"+\"\n",
    "s8 = \" \"\n",
    "s9 = \"       \"\n",
    "\n",
    "print(str_to_int(s1))\n",
    "print(str_to_int(s2))\n",
    "print(str_to_int(s3))\n",
    "print(str_to_int(s4))\n",
    "print(str_to_int(s5))\n",
    "\n",
    "\n",
    "print(str_to_int(s6))\n",
    "print(str_to_int(s7))\n",
    "print(str_to_int(s8))\n",
    "print(str_to_int(s9))"
   ]
  },
  {
   "cell_type": "code",
   "execution_count": null,
   "metadata": {},
   "outputs": [],
   "source": []
  },
  {
   "cell_type": "code",
   "execution_count": null,
   "metadata": {},
   "outputs": [],
   "source": []
  }
 ],
 "metadata": {
  "kernelspec": {
   "display_name": "Python 3",
   "language": "python",
   "name": "python3"
  },
  "language_info": {
   "codemirror_mode": {
    "name": "ipython",
    "version": 3
   },
   "file_extension": ".py",
   "mimetype": "text/x-python",
   "name": "python",
   "nbconvert_exporter": "python",
   "pygments_lexer": "ipython3",
   "version": "3.6.8"
  }
 },
 "nbformat": 4,
 "nbformat_minor": 2
}
