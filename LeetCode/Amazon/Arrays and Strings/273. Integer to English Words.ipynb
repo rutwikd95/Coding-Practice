{
 "cells": [
  {
   "cell_type": "code",
   "execution_count": 28,
   "metadata": {},
   "outputs": [],
   "source": [
    "# Example 1:\n",
    "\n",
    "# Input: 123\n",
    "# Output: \"One Hundred Twenty Three\"\n",
    "# Example 2:\n",
    "\n",
    "# Input: 12345\n",
    "# Output: \"Twelve Thousand Three Hundred Forty Five\"\n",
    "# Example 3:\n",
    "\n",
    "# Input: 1234567\n",
    "# Output: \"One Million Two Hundred Thirty Four Thousand Five Hundred Sixty Seven\"\n",
    "# Example 4:\n",
    "\n",
    "# Input: 1234567891\n",
    "# Output: \"One Billion Two Hundred Thirty Four Million Five Hundred Sixty Seven Thousand Eight Hundred Ninety One\""
   ]
  },
  {
   "cell_type": "code",
   "execution_count": 73,
   "metadata": {},
   "outputs": [],
   "source": [
    "def int_to_eng(num):\n",
    "    if num == 0 :\n",
    "        return \"Zero\"\n",
    "    \n",
    "    ans = \"\"\n",
    "    \n",
    "    big_units = [\"Hundred\" , \"Thousand\" , \"Million\" , \"Billion\"]\n",
    "    \n",
    "    ones_arr = [\"\",\"One\", \"Two\", \"Three\", \"Four\", \"Five\", \"Six\", \"Seven\", \"Eight\", \"Nine\",\"Ten\",\n",
    "                \"Eleven\", \"Twelve\", \"Thirteen\", \"Fourteen\",\"Fifteen\" , \"Sixteen\" ,\"Seventeen\", \n",
    "                \"Eighteen\", \"Nineteen\"]\n",
    "    tens_arr = [\"\" , \"\", \"Twenty\", \"Thirty\" , \" Fourty\" , \"Fifty\" , \"Sixty\" , \"Seventy\" , \"Eighty\" ,\n",
    "                \"Ninety\"]\n",
    "    n = len(str(num))\n",
    "    while num > 0 :\n",
    "        if num < 20:\n",
    "            ans = ans + ones_arr[num]\n",
    "            num = 0\n",
    "        else:\n",
    "            pass\n",
    "    return ans\n",
    "            \n",
    "            "
   ]
  },
  {
   "cell_type": "code",
   "execution_count": 75,
   "metadata": {},
   "outputs": [
    {
     "data": {
      "text/plain": [
       "'Eighteen'"
      ]
     },
     "execution_count": 75,
     "metadata": {},
     "output_type": "execute_result"
    }
   ],
   "source": [
    "num = 18\n",
    "\n",
    "int_to_eng(num)"
   ]
  },
  {
   "cell_type": "code",
   "execution_count": 72,
   "metadata": {},
   "outputs": [
    {
     "data": {
      "text/plain": [
       "1"
      ]
     },
     "execution_count": 72,
     "metadata": {},
     "output_type": "execute_result"
    }
   ],
   "source": [
    "m = 11\n",
    "\n",
    "m % 10\n"
   ]
  },
  {
   "cell_type": "code",
   "execution_count": 27,
   "metadata": {},
   "outputs": [
    {
     "data": {
      "text/plain": [
       "10098"
      ]
     },
     "execution_count": 27,
     "metadata": {},
     "output_type": "execute_result"
    }
   ],
   "source": [
    "m //= 1000\n",
    "m"
   ]
  },
  {
   "cell_type": "code",
   "execution_count": null,
   "metadata": {},
   "outputs": [],
   "source": []
  }
 ],
 "metadata": {
  "kernelspec": {
   "display_name": "Python 3",
   "language": "python",
   "name": "python3"
  },
  "language_info": {
   "codemirror_mode": {
    "name": "ipython",
    "version": 3
   },
   "file_extension": ".py",
   "mimetype": "text/x-python",
   "name": "python",
   "nbconvert_exporter": "python",
   "pygments_lexer": "ipython3",
   "version": "3.6.8"
  }
 },
 "nbformat": 4,
 "nbformat_minor": 2
}
