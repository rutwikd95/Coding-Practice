{
 "cells": [
  {
   "cell_type": "code",
   "execution_count": 4,
   "metadata": {},
   "outputs": [],
   "source": [
    "# Input: 3\n",
    "# Output: \"III\"\n",
    "    \n",
    "#     Input: 4\n",
    "# Output: \"IV\"\n",
    "    \n",
    "#     Input: 9\n",
    "# Output: \"IX\"\n",
    "    \n",
    "#     Input: 58\n",
    "# Output: \"LVIII\"\n",
    "# Explanation: L = 50, V = 5, III = 3.\n",
    "    \n",
    "#     Input: 1994\n",
    "# Output: \"MCMXCIV\"\n",
    "# Explanation: M = 1000, CM = 900, XC = 90 and IV = 4."
   ]
  },
  {
   "cell_type": "code",
   "execution_count": 12,
   "metadata": {},
   "outputs": [],
   "source": [
    "def int_to_roman(num):\n",
    "    mydict  = {\"I\" : 1,\"IV\" : 4 ,\"V\": 5,\"IX\" : 9, \"X\": 10,\"XL\": 40, \"L\": 50 ,\"XC\" : 90, \n",
    "               \"C\" : 100,\"CD\": 400, \"D\" : 500,\"CM\": 900, \"M\" : 1000}\n",
    "    ans = \"\"\n",
    "    while(num != 0):\n",
    "        upper_val, upper_key =  upper_limit(num)\n",
    "        num = num - upper_val\n",
    "        ans = ans + upper_key\n",
    "    \n",
    "    return ans\n",
    "        \n",
    "        \n",
    "        \n",
    "def upper_limit(num):\n",
    "    mydict  = {\"I\" : 1,\"IV\" : 4 ,\"V\": 5,\"IX\" : 9, \"X\": 10,\"XL\": 40, \"L\": 50 ,\"XC\" : 90, \n",
    "               \"C\" : 100,\"CD\": 400, \"D\" : 500,\"CM\": 900, \"M\" : 1000}\n",
    "    upper_val = 0\n",
    "    upper_key = \"\"\n",
    "    for k , v in mydict.items():\n",
    "        if v <= num :\n",
    "            upper_val = v\n",
    "            upper_key = k\n",
    "#             print(upper_val,upper_key)\n",
    "        else:\n",
    "            break\n",
    "    return upper_val, upper_key"
   ]
  },
  {
   "cell_type": "code",
   "execution_count": 17,
   "metadata": {},
   "outputs": [],
   "source": [
    "def int_to_roman2(num):\n",
    "    mydict  = {\"I\" : 1,\"IV\" : 4 ,\"V\": 5,\"IX\" : 9, \"X\": 10,\"XL\": 40, \"L\": 50 ,\"XC\" : 90, \n",
    "               \"C\" : 100,\"CD\": 400, \"D\" : 500,\"CM\": 900, \"M\" : 1000}\n",
    "    ans = \"\"\n",
    "    while(num != 0):        \n",
    "        upper_val = 0\n",
    "        upper_key = \"\"\n",
    "        for k , v in mydict.items():\n",
    "            if v <= num :\n",
    "                upper_val = v\n",
    "                upper_key = k\n",
    "    #             print(upper_val,upper_key)\n",
    "            else:\n",
    "                break\n",
    "        \n",
    "        num = num - upper_val\n",
    "        ans = ans + upper_key\n",
    "        \n",
    "        \n",
    "    \n",
    "    return ans\n",
    "        "
   ]
  },
  {
   "cell_type": "code",
   "execution_count": null,
   "metadata": {},
   "outputs": [],
   "source": []
  },
  {
   "cell_type": "code",
   "execution_count": 16,
   "metadata": {},
   "outputs": [
    {
     "name": "stdout",
     "output_type": "stream",
     "text": [
      "III\n",
      "IV\n",
      "LVIII\n",
      "MCMXCIV\n"
     ]
    }
   ],
   "source": [
    "num1 = 3\n",
    "num2 = 4\n",
    "num3 = 58\n",
    "num4 = 1994\n",
    "\n",
    "print(int_to_roman2(num1))\n",
    "print(int_to_roman2(num2))\n",
    "print(int_to_roman2(num3))\n",
    "print(int_to_roman2(num4))"
   ]
  },
  {
   "cell_type": "code",
   "execution_count": 24,
   "metadata": {},
   "outputs": [],
   "source": [
    "def int_to_roman3(num):\n",
    "    vals_list = [1,4,5,9,10,40,50,90,100,400,500,900,1000]\n",
    "    keys_list = [\"I\",\"IV\",\"V\",\"IX\",\"X\",\"XL\",\"L\",\"XC\",\"C\",\"CD\",\"D\",\"CM\",\"M\"]\n",
    "    ans = \"\"\n",
    "    while(num != 0):        \n",
    "        upper_val = 0\n",
    "        upper_key = \"\"\n",
    "        for i in range(len(vals_list)):\n",
    "            if vals_list[i] <= num :\n",
    "                upper_val = vals_list[i]\n",
    "                upper_key = keys_list[i]\n",
    "            else:\n",
    "                break\n",
    "        \n",
    "        num = num - upper_val\n",
    "        ans = ans + upper_key\n",
    "    return ans\n",
    "        "
   ]
  },
  {
   "cell_type": "code",
   "execution_count": 25,
   "metadata": {},
   "outputs": [
    {
     "name": "stdout",
     "output_type": "stream",
     "text": [
      "III\n",
      "IV\n",
      "LVIII\n",
      "MCMXCIV\n",
      "C\n"
     ]
    }
   ],
   "source": [
    "num1 = 3\n",
    "num2 = 4\n",
    "num3 = 58\n",
    "num4 = 1994\n",
    "\n",
    "num5 = 100\n",
    "\n",
    "print(int_to_roman3(num1))\n",
    "print(int_to_roman3(num2))\n",
    "print(int_to_roman3(num3))\n",
    "print(int_to_roman3(num4))\n",
    "\n",
    "\n",
    "print(int_to_roman3(num5))"
   ]
  },
  {
   "cell_type": "code",
   "execution_count": null,
   "metadata": {},
   "outputs": [],
   "source": []
  }
 ],
 "metadata": {
  "kernelspec": {
   "display_name": "Python 3",
   "language": "python",
   "name": "python3"
  },
  "language_info": {
   "codemirror_mode": {
    "name": "ipython",
    "version": 3
   },
   "file_extension": ".py",
   "mimetype": "text/x-python",
   "name": "python",
   "nbconvert_exporter": "python",
   "pygments_lexer": "ipython3",
   "version": "3.6.8"
  }
 },
 "nbformat": 4,
 "nbformat_minor": 2
}
