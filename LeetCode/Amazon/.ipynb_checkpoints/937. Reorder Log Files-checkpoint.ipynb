{
 "cells": [
  {
   "cell_type": "code",
   "execution_count": 1,
   "metadata": {},
   "outputs": [],
   "source": [
    "# Input: [\"a1 9 2 3 1\",\"g1 act car\",\"zo4 4 7\",\"ab1 off key dog\",\"a8 act zoo\"]\n",
    "# Output: [\"g1 act car\",\"a8 act zoo\",\"ab1 off key dog\",\"a1 9 2 3 1\",\"zo4 4 7\"]\n"
   ]
  },
  {
   "cell_type": "code",
   "execution_count": 69,
   "metadata": {},
   "outputs": [],
   "source": [
    "def reorder(logs):\n",
    "    letter_logs = []\n",
    "    digit_logs = []\n",
    "    for log in logs:\n",
    "        log_list = log.split()\n",
    "        print(\"log list : \",log_list)\n",
    "        if log_list[1].isdigit():\n",
    "            digit_logs.append(log)\n",
    "        else:\n",
    "            letter_logs.append([log_list[0], ' '.join(log_list[1:])])\n",
    "    print(\"Letter logs : \",letter_logs)\n",
    "    print(\"digit logs : \", digit_logs)\n",
    "    letter_logs.sort(key=lambda x: (x[1], x[0]))\n",
    "    letter_logs = [' '.join(s) for s in letter_logs]\n",
    "\n",
    "    ans = letter_logs + digit_logs\n",
    "    return ans\n",
    "#         print(sentence.split())\n",
    "    "
   ]
  },
  {
   "cell_type": "code",
   "execution_count": 70,
   "metadata": {},
   "outputs": [
    {
     "name": "stdout",
     "output_type": "stream",
     "text": [
      "log list :  ['a1', '9', '2', '3', '1']\n",
      "log list :  ['g1', 'act', 'car']\n",
      "log list :  ['zo4', '4', '7']\n",
      "log list :  ['ab1', 'off', 'key', 'dog']\n",
      "log list :  ['a8', 'act', 'zoo']\n",
      "Letter logs :  [['g1', 'act car'], ['ab1', 'off key dog'], ['a8', 'act zoo']]\n",
      "digit logs :  ['a1 9 2 3 1', 'zo4 4 7']\n"
     ]
    },
    {
     "data": {
      "text/plain": [
       "['g1 act car', 'a8 act zoo', 'ab1 off key dog', 'a1 9 2 3 1', 'zo4 4 7']"
      ]
     },
     "execution_count": 70,
     "metadata": {},
     "output_type": "execute_result"
    }
   ],
   "source": [
    "logs = [\"a1 9 2 3 1\",\"g1 act car\",\"zo4 4 7\",\"ab1 off key dog\",\"a8 act zoo\"]\n",
    "\n",
    "reorder(logs)"
   ]
  },
  {
   "cell_type": "code",
   "execution_count": null,
   "metadata": {},
   "outputs": [],
   "source": []
  },
  {
   "cell_type": "code",
   "execution_count": null,
   "metadata": {},
   "outputs": [],
   "source": []
  },
  {
   "cell_type": "code",
   "execution_count": 52,
   "metadata": {},
   "outputs": [
    {
     "data": {
      "text/plain": [
       "[1, 2, 3, 4, 5, 6, 7, 8]"
      ]
     },
     "execution_count": 52,
     "metadata": {},
     "output_type": "execute_result"
    }
   ],
   "source": [
    "a = [1,2,3,4]\n",
    "b = [5,6,7,8]\n",
    "\n",
    "a+b"
   ]
  },
  {
   "cell_type": "code",
   "execution_count": null,
   "metadata": {},
   "outputs": [],
   "source": []
  }
 ],
 "metadata": {
  "kernelspec": {
   "display_name": "Python 3",
   "language": "python",
   "name": "python3"
  },
  "language_info": {
   "codemirror_mode": {
    "name": "ipython",
    "version": 3
   },
   "file_extension": ".py",
   "mimetype": "text/x-python",
   "name": "python",
   "nbconvert_exporter": "python",
   "pygments_lexer": "ipython3",
   "version": "3.6.8"
  }
 },
 "nbformat": 4,
 "nbformat_minor": 2
}
