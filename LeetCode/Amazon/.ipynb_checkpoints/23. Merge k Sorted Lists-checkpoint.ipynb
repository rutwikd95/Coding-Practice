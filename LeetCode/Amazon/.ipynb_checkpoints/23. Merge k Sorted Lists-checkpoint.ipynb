{
 "cells": [
  {
   "cell_type": "code",
   "execution_count": 1,
   "metadata": {},
   "outputs": [],
   "source": [
    "# BRUTE FORCE BY ARRAY SORTING"
   ]
  },
  {
   "cell_type": "code",
   "execution_count": 4,
   "metadata": {},
   "outputs": [],
   "source": [
    "# Definition for singly-linked list.\n",
    "class ListNode:\n",
    "    def __init__(self, x):\n",
    "        self.val = x\n",
    "        self.next = None\n",
    "\n",
    "class Solution:\n",
    "    def mergeKLists(self, lists):\n",
    "        #BRUTE FORCE :\n",
    "        array = []\n",
    "        for LL in lists:\n",
    "            curr = LL\n",
    "            while curr :\n",
    "                array.append(curr.val)\n",
    "                curr = curr.next\n",
    "        array.sort()       \n",
    "        return (array)"
   ]
  },
  {
   "cell_type": "code",
   "execution_count": null,
   "metadata": {},
   "outputs": [],
   "source": []
  },
  {
   "cell_type": "code",
   "execution_count": 5,
   "metadata": {},
   "outputs": [],
   "source": [
    "# Merging Two lists at a time :\n"
   ]
  },
  {
   "cell_type": "code",
   "execution_count": 8,
   "metadata": {},
   "outputs": [],
   "source": [
    "# Definition for singly-linked list.\n",
    "class ListNode:\n",
    "    def __init__(self, x):\n",
    "        self.val = x\n",
    "        self.next = None\n",
    "\n",
    "class Solution:\n",
    "    def mergeKLists(self, lists):\n",
    "        def mergeTwoLists(l1, l2):\n",
    "            curr = dummy = ListNode(0)\n",
    "            while l1 and l2:\n",
    "                if l1.val < l2.val:\n",
    "                    curr.next = l1\n",
    "                    l1 = l1.next\n",
    "                else:\n",
    "                    curr.next = l2\n",
    "                    l2 = l2.next\n",
    "                curr = curr.next\n",
    "            curr.next = l1 or l2\n",
    "            return dummy.next\n",
    "\n",
    "        if not lists:\n",
    "            return None\n",
    "        left, right = 0, len(lists) - 1;\n",
    "        while right > 0:\n",
    "            if left >= right:\n",
    "                left = 0\n",
    "            else:\n",
    "                lists[left] = mergeTwoLists(lists[left], lists[right])\n",
    "                left += 1\n",
    "                right -= 1\n",
    "        return lists[0]"
   ]
  },
  {
   "cell_type": "code",
   "execution_count": null,
   "metadata": {},
   "outputs": [],
   "source": []
  }
 ],
 "metadata": {
  "kernelspec": {
   "display_name": "Python 3",
   "language": "python",
   "name": "python3"
  },
  "language_info": {
   "codemirror_mode": {
    "name": "ipython",
    "version": 3
   },
   "file_extension": ".py",
   "mimetype": "text/x-python",
   "name": "python",
   "nbconvert_exporter": "python",
   "pygments_lexer": "ipython3",
   "version": "3.6.8"
  }
 },
 "nbformat": 4,
 "nbformat_minor": 2
}
