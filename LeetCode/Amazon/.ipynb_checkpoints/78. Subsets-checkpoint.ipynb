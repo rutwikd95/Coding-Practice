{
 "cells": [
  {
   "cell_type": "code",
   "execution_count": null,
   "metadata": {},
   "outputs": [],
   "source": []
  },
  {
   "cell_type": "code",
   "execution_count": 48,
   "metadata": {},
   "outputs": [],
   "source": [
    "def power(nums):\n",
    "    start = 0  \n",
    "    res = []\n",
    "    subset = []\n",
    "    dfs(nums, start ,subset,res)\n",
    "    return res\n",
    "\n",
    "def dfs(nums, start , subset , res):\n",
    "    res.append(subset)\n",
    "    for i in range(start, len(nums)):\n",
    "#         subset.append(nums[i])\n",
    "        dfs(nums, start + 1 , subset + [nums[i]],res )\n",
    "        \n"
   ]
  },
  {
   "cell_type": "code",
   "execution_count": 49,
   "metadata": {},
   "outputs": [
    {
     "data": {
      "text/plain": [
       "[[],\n",
       " [1],\n",
       " [1, 2],\n",
       " [1, 2, 3],\n",
       " [1, 3],\n",
       " [1, 3, 3],\n",
       " [2],\n",
       " [2, 2],\n",
       " [2, 2, 3],\n",
       " [2, 3],\n",
       " [2, 3, 3],\n",
       " [3],\n",
       " [3, 2],\n",
       " [3, 2, 3],\n",
       " [3, 3],\n",
       " [3, 3, 3]]"
      ]
     },
     "execution_count": 49,
     "metadata": {},
     "output_type": "execute_result"
    }
   ],
   "source": [
    "nums = [1,2,3]\n",
    "\n",
    "power(nums)"
   ]
  },
  {
   "cell_type": "code",
   "execution_count": null,
   "metadata": {},
   "outputs": [],
   "source": []
  }
 ],
 "metadata": {
  "kernelspec": {
   "display_name": "Python 3",
   "language": "python",
   "name": "python3"
  },
  "language_info": {
   "codemirror_mode": {
    "name": "ipython",
    "version": 3
   },
   "file_extension": ".py",
   "mimetype": "text/x-python",
   "name": "python",
   "nbconvert_exporter": "python",
   "pygments_lexer": "ipython3",
   "version": "3.6.8"
  }
 },
 "nbformat": 4,
 "nbformat_minor": 2
}
