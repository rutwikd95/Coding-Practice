{
 "cells": [
  {
   "cell_type": "code",
   "execution_count": 37,
   "metadata": {},
   "outputs": [],
   "source": [
    "# s = \"leetcode\"\n",
    "# return 0.\n",
    "\n",
    "# s = \"loveleetcode\",\n",
    "# return 2."
   ]
  },
  {
   "cell_type": "code",
   "execution_count": 38,
   "metadata": {},
   "outputs": [],
   "source": [
    "def first_unique(s):\n",
    "    if s == \"\":\n",
    "            return -1\n",
    "        \n",
    "    mydict={}\n",
    "#     mydict{\"val\" : [count, index]}\n",
    "    for i , v in enumerate(s):\n",
    "#         print (i,v)\n",
    "        if v not in mydict:\n",
    "            mydict[v] = [1,i]\n",
    "#             mydict[v][0] = 1\n",
    "#             mydict[v][1] = i\n",
    "        else:\n",
    "            mydict[v][0] = mydict[v][0] + 1\n",
    "\n",
    "    for x in mydict.values():\n",
    "        if x[0] == 1:\n",
    "            return x[1]\n",
    "    return -1\n",
    "#         print (x)"
   ]
  },
  {
   "cell_type": "code",
   "execution_count": 39,
   "metadata": {},
   "outputs": [
    {
     "data": {
      "text/plain": [
       "2"
      ]
     },
     "execution_count": 39,
     "metadata": {},
     "output_type": "execute_result"
    }
   ],
   "source": [
    "s = \"leetcode\"\n",
    "s2 = \"loveleetcode\"\n",
    "\n",
    "first_unique(s2)"
   ]
  },
  {
   "cell_type": "code",
   "execution_count": 40,
   "metadata": {},
   "outputs": [],
   "source": [
    "from collections import Counter\n",
    "\n",
    "def first_unique2(s):\n",
    "    mydict= Counter(s)\n",
    "    for index, char in enumerate(s):\n",
    "        if mydict[char] == 1:\n",
    "            return index\n",
    "    return -1\n",
    "    "
   ]
  },
  {
   "cell_type": "code",
   "execution_count": 41,
   "metadata": {},
   "outputs": [
    {
     "data": {
      "text/plain": [
       "2"
      ]
     },
     "execution_count": 41,
     "metadata": {},
     "output_type": "execute_result"
    }
   ],
   "source": [
    "s = \"leetcode\"\n",
    "s2 = \"loveleetcode\"\n",
    "\n",
    "first_unique2(s2)"
   ]
  },
  {
   "cell_type": "code",
   "execution_count": null,
   "metadata": {},
   "outputs": [],
   "source": []
  },
  {
   "cell_type": "code",
   "execution_count": null,
   "metadata": {},
   "outputs": [],
   "source": []
  },
  {
   "cell_type": "code",
   "execution_count": null,
   "metadata": {},
   "outputs": [],
   "source": []
  }
 ],
 "metadata": {
  "kernelspec": {
   "display_name": "Python 3",
   "language": "python",
   "name": "python3"
  },
  "language_info": {
   "codemirror_mode": {
    "name": "ipython",
    "version": 3
   },
   "file_extension": ".py",
   "mimetype": "text/x-python",
   "name": "python",
   "nbconvert_exporter": "python",
   "pygments_lexer": "ipython3",
   "version": "3.6.8"
  }
 },
 "nbformat": 4,
 "nbformat_minor": 2
}
