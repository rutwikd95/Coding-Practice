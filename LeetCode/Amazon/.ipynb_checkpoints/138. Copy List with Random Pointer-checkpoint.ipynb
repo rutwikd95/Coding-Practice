{
 "cells": [
  {
   "cell_type": "code",
   "execution_count": 1,
   "metadata": {},
   "outputs": [],
   "source": [
    "\"\"\"\n",
    "# Definition for a Node.\n",
    "class Node:\n",
    "    def __init__(self, val, next, random):\n",
    "        self.val = val\n",
    "        self.next = next\n",
    "        self.random = random\n",
    "\"\"\"\n",
    "class Solution:\n",
    "    def copyRandomList(self, head: 'Node') -> 'Node':\n",
    "        if not head:\n",
    "            return\n",
    "        mydict = dict()\n",
    "        curr = head\n",
    "        \n",
    "        while curr :\n",
    "            mydict[curr] = Node(curr.val ,None, None)\n",
    "            curr = curr.next\n",
    "            \n",
    "        curr = head\n",
    "        \n",
    "        while curr :\n",
    "            if curr.next:\n",
    "                mydict[curr].next = mydict[curr.next]\n",
    "            if curr.random :\n",
    "                mydict[curr].random = mydict[curr.random]\n",
    "            curr = curr.next\n",
    "            \n",
    "        newhead = mydict[head]\n",
    "        return newhead\n",
    "            "
   ]
  },
  {
   "cell_type": "code",
   "execution_count": null,
   "metadata": {},
   "outputs": [],
   "source": [
    "# Input:\n",
    "# {\"$id\":\"1\",\"next\":{\"$id\":\"2\",\"next\":null,\"random\":{\"$ref\":\"2\"},\"val\":2},\"random\":{\"$ref\":\"2\"},\"val\":1}\n",
    "\n",
    "# Explanation:\n",
    "# Node 1's value is 1, both of its next and random pointer points to Node 2.\n",
    "# Node 2's value is 2, its next pointer points to null and its random pointer points to itself."
   ]
  }
 ],
 "metadata": {
  "kernelspec": {
   "display_name": "Python 3",
   "language": "python",
   "name": "python3"
  },
  "language_info": {
   "codemirror_mode": {
    "name": "ipython",
    "version": 3
   },
   "file_extension": ".py",
   "mimetype": "text/x-python",
   "name": "python",
   "nbconvert_exporter": "python",
   "pygments_lexer": "ipython3",
   "version": "3.6.8"
  }
 },
 "nbformat": 4,
 "nbformat_minor": 2
}
