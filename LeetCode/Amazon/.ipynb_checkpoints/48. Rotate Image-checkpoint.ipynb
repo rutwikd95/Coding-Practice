{
 "cells": [
  {
   "cell_type": "code",
   "execution_count": 3,
   "metadata": {},
   "outputs": [],
   "source": [
    "# Given input matrix = \n",
    "# [\n",
    "#   [1,2,3],\n",
    "#   [4,5,6],\n",
    "#   [7,8,9]\n",
    "# ],\n",
    "\n",
    "# rotate the input matrix in-place such that it becomes:\n",
    "# [\n",
    "#   [7,4,1],\n",
    "#   [8,5,2],\n",
    "#   [9,6,3]\n",
    "# ]\n",
    "# Example 2:\n",
    "\n",
    "# Given input matrix =\n",
    "# [\n",
    "#   [ 5, 1, 9,11],\n",
    "#   [ 2, 4, 8,10],\n",
    "#   [13, 3, 6, 7],\n",
    "#   [15,14,12,16]\n",
    "# ], \n",
    "\n",
    "# rotate the input matrix in-place such that it becomes:\n",
    "# [\n",
    "#   [15,13, 2, 5],\n",
    "#   [14, 3, 4, 1],\n",
    "#   [12, 6, 8, 9],\n",
    "#   [16, 7,10,11]\n",
    "# ]"
   ]
  },
  {
   "cell_type": "code",
   "execution_count": 34,
   "metadata": {},
   "outputs": [],
   "source": [
    "def rotate_image(matrix):\n",
    "#     import numpy as np\n",
    "    n = len(matrix) - 1\n",
    "    # Step 1 : Reverse Matrix :\n",
    "    i = 0\n",
    "    j = n\n",
    "    while i <= j :\n",
    "        matrix[i] , matrix[j] = matrix[j] , matrix[i]\n",
    "        i+=1\n",
    "        j-=1\n",
    "#     matrix = np.asarray(matrix)\n",
    "    print(\"Reversed matrix : \\n\", matrix)\n",
    "    print(\"\\n\")\n",
    "    \n",
    "    #Step 2 : Transpose the Reversed Matrix :\n",
    "    for i in range(n+1):\n",
    "        for j in range(i):\n",
    "            matrix[j][i] , matrix[i][j]= matrix[i][j] , matrix[j][i]\n",
    "            \n",
    "    print(\"Transposed Matrix: \\n\", matrix)\n",
    "    return matrix\n",
    "    \n",
    "    \n",
    "    \n",
    "    "
   ]
  },
  {
   "cell_type": "code",
   "execution_count": 35,
   "metadata": {},
   "outputs": [
    {
     "name": "stdout",
     "output_type": "stream",
     "text": [
      "Reversed matrix : \n",
      " [[7 8 9]\n",
      " [4 5 6]\n",
      " [1 2 3]]\n",
      "\n",
      "\n",
      "Transposed Matrix: \n",
      " [[7 4 1]\n",
      " [8 5 2]\n",
      " [9 6 3]]\n"
     ]
    }
   ],
   "source": [
    "\n",
    "matrix = [ [1,2,3],\n",
    "          [4,5,6],\n",
    "          [7,8,9] ]\n",
    "\n",
    "rotate_image(matrix)"
   ]
  },
  {
   "cell_type": "code",
   "execution_count": 2,
   "metadata": {},
   "outputs": [],
   "source": [
    "matrix = [ [1,2,3],\n",
    "          [4,5,6],\n",
    "          [7,8,9] ]"
   ]
  },
  {
   "cell_type": "code",
   "execution_count": 3,
   "metadata": {},
   "outputs": [
    {
     "data": {
      "text/plain": [
       "[1, 2, 3]"
      ]
     },
     "execution_count": 3,
     "metadata": {},
     "output_type": "execute_result"
    }
   ],
   "source": [
    "matrix[0]"
   ]
  },
  {
   "cell_type": "code",
   "execution_count": null,
   "metadata": {},
   "outputs": [],
   "source": []
  }
 ],
 "metadata": {
  "kernelspec": {
   "display_name": "Python 3",
   "language": "python",
   "name": "python3"
  },
  "language_info": {
   "codemirror_mode": {
    "name": "ipython",
    "version": 3
   },
   "file_extension": ".py",
   "mimetype": "text/x-python",
   "name": "python",
   "nbconvert_exporter": "python",
   "pygments_lexer": "ipython3",
   "version": "3.6.8"
  }
 },
 "nbformat": 4,
 "nbformat_minor": 2
}
