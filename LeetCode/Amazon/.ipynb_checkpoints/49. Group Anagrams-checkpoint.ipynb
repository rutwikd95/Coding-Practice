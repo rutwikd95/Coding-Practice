{
 "cells": [
  {
   "cell_type": "code",
   "execution_count": 1,
   "metadata": {},
   "outputs": [
    {
     "ename": "SyntaxError",
     "evalue": "invalid syntax (<ipython-input-1-2f3e0201a33c>, line 1)",
     "output_type": "error",
     "traceback": [
      "\u001b[1;36m  File \u001b[1;32m\"<ipython-input-1-2f3e0201a33c>\"\u001b[1;36m, line \u001b[1;32m1\u001b[0m\n\u001b[1;33m    Input: [\"eat\", \"tea\", \"tan\", \"ate\", \"nat\", \"bat\"],\u001b[0m\n\u001b[1;37m                                                     ^\u001b[0m\n\u001b[1;31mSyntaxError\u001b[0m\u001b[1;31m:\u001b[0m invalid syntax\n"
     ]
    }
   ],
   "source": [
    "# Input: [\"eat\", \"tea\", \"tan\", \"ate\", \"nat\", \"bat\"],\n",
    "# Output:\n",
    "# [\n",
    "#   [\"ate\",\"eat\",\"tea\"],\n",
    "#   [\"nat\",\"tan\"],\n",
    "#   [\"bat\"]\n",
    "# ]"
   ]
  },
  {
   "cell_type": "code",
   "execution_count": 38,
   "metadata": {},
   "outputs": [],
   "source": [
    "def group_anagrams(strs):\n",
    "    from collections import Counter\n",
    "    ans = []\n",
    "    considered = []\n",
    "    \n",
    "    dict1 = {}\n",
    "    for i in range(0, len(strs) - 1):\n",
    "            res= []\n",
    "            dict1 = Counter(strs[i])\n",
    "            if list(dict1.keys()) not in considered :\n",
    "                considered.append(list(dict1.keys()))\n",
    "                res.append(list(dict1.keys()))\n",
    "    #             print(dict1)\n",
    "    #             print(res)\n",
    "                for j in range(i + 1 , len(strs) - 1):\n",
    "                    dict2 = Counter(strs[j])\n",
    "                    if dict1 == dict2 :\n",
    "                        res.append(list(dict2.keys()))\n",
    "                ans.append(res)\n",
    "\n",
    "    return ans\n",
    "    #         for j in range(i+1 , len(nums) - 1):\n",
    "    #             dict2 = \n",
    "\n",
    "        "
   ]
  },
  {
   "cell_type": "code",
   "execution_count": 39,
   "metadata": {},
   "outputs": [
    {
     "data": {
      "text/plain": [
       "[[['e', 'a', 't'], ['t', 'e', 'a'], ['a', 't', 'e']],\n",
       " [['t', 'e', 'a'], ['a', 't', 'e']],\n",
       " [['t', 'a', 'n'], ['n', 'a', 't']],\n",
       " [['a', 't', 'e']],\n",
       " [['n', 'a', 't']]]"
      ]
     },
     "execution_count": 39,
     "metadata": {},
     "output_type": "execute_result"
    }
   ],
   "source": [
    "strs = [\"eat\", \"tea\", \"tan\", \"ate\", \"nat\", \"bat\"]\n",
    "\n",
    "group_anagrams(strs)"
   ]
  },
  {
   "cell_type": "code",
   "execution_count": 40,
   "metadata": {},
   "outputs": [
    {
     "data": {
      "text/plain": [
       "True"
      ]
     },
     "execution_count": 40,
     "metadata": {},
     "output_type": "execute_result"
    }
   ],
   "source": [
    "dict1 = {1:2, 2:3}\n",
    "dict2 = {2:3, 1:2}\n",
    "\n",
    "dict1 == dict2"
   ]
  },
  {
   "cell_type": "code",
   "execution_count": null,
   "metadata": {},
   "outputs": [],
   "source": []
  },
  {
   "cell_type": "code",
   "execution_count": 76,
   "metadata": {},
   "outputs": [],
   "source": [
    "def group_anagrams2(strs):\n",
    "    mydict =  {}    \n",
    "    \n",
    "    for i in range(0, len(strs) ):\n",
    "        res = []\n",
    "        temp_1 = \"\".join(sorted(strs[i]))\n",
    "        print(\"temp1 : \", temp_1)\n",
    "        if temp_1 not in mydict:\n",
    "            res.append(strs[i])\n",
    "            mydict[temp_1] = res\n",
    "            \n",
    "            for j in range(i+1 , len(strs) ):\n",
    "                temp_2 = \"\".join(sorted(strs[j]))\n",
    "                print(\"    temp2 : \", temp_2)\n",
    "                if temp_2 == temp_1:\n",
    "                    res.append(strs[j])\n",
    "            mydict[temp_1] = res\n",
    "                    \n",
    "    return list(mydict.values())\n",
    "        "
   ]
  },
  {
   "cell_type": "code",
   "execution_count": 77,
   "metadata": {},
   "outputs": [
    {
     "name": "stdout",
     "output_type": "stream",
     "text": [
      "temp1 :  aet\n",
      "    temp2 :  aet\n",
      "    temp2 :  ant\n",
      "    temp2 :  aet\n",
      "    temp2 :  ant\n",
      "    temp2 :  abt\n",
      "temp1 :  aet\n",
      "temp1 :  ant\n",
      "    temp2 :  aet\n",
      "    temp2 :  ant\n",
      "    temp2 :  abt\n",
      "temp1 :  aet\n",
      "temp1 :  ant\n",
      "temp1 :  abt\n"
     ]
    },
    {
     "data": {
      "text/plain": [
       "[['eat', 'tea', 'ate'], ['tan', 'nat'], ['bat']]"
      ]
     },
     "execution_count": 77,
     "metadata": {},
     "output_type": "execute_result"
    }
   ],
   "source": [
    "strs = [\"eat\", \"tea\", \"tan\", \"ate\", \"nat\", \"bat\"]\n",
    "\n",
    "group_anagrams2(strs)"
   ]
  },
  {
   "cell_type": "code",
   "execution_count": null,
   "metadata": {},
   "outputs": [],
   "source": []
  },
  {
   "cell_type": "code",
   "execution_count": 82,
   "metadata": {},
   "outputs": [],
   "source": [
    "def group_anagrams3(strs):\n",
    "    import collections\n",
    "    anagrams = collections.defaultdict(list)\n",
    "    for s in strs:\n",
    "        anagrams[''.join(sorted(s))].append(s)\n",
    "    return list(anagrams.values())"
   ]
  },
  {
   "cell_type": "code",
   "execution_count": 83,
   "metadata": {},
   "outputs": [
    {
     "data": {
      "text/plain": [
       "[['eat', 'tea', 'ate'], ['tan', 'nat'], ['bat']]"
      ]
     },
     "execution_count": 83,
     "metadata": {},
     "output_type": "execute_result"
    }
   ],
   "source": [
    "strs = [\"eat\", \"tea\", \"tan\", \"ate\", \"nat\", \"bat\"]\n",
    "\n",
    "group_anagrams3(strs)"
   ]
  },
  {
   "cell_type": "code",
   "execution_count": null,
   "metadata": {},
   "outputs": [],
   "source": []
  }
 ],
 "metadata": {
  "kernelspec": {
   "display_name": "Python 3",
   "language": "python",
   "name": "python3"
  },
  "language_info": {
   "codemirror_mode": {
    "name": "ipython",
    "version": 3
   },
   "file_extension": ".py",
   "mimetype": "text/x-python",
   "name": "python",
   "nbconvert_exporter": "python",
   "pygments_lexer": "ipython3",
   "version": "3.6.8"
  }
 },
 "nbformat": 4,
 "nbformat_minor": 2
}
