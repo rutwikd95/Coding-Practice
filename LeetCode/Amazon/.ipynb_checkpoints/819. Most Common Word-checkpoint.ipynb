{
 "cells": [
  {
   "cell_type": "code",
   "execution_count": 37,
   "metadata": {},
   "outputs": [],
   "source": [
    "# Input: \n",
    "# paragraph = \"Bob hit a ball, the hit BALL flew far after it was hit.\"\n",
    "# banned = [\"hit\"]\n",
    "# Output: \"ball\"\n",
    "# Explanation: \n",
    "# \"hit\" occurs 3 times, but it is a banned word.\n",
    "# \"ball\" occurs twice (and no other word does), so it is the most frequent non-banned word in the paragraph. \n",
    "# Note that words in the paragraph are not case sensitive,\n",
    "# that punctuation is ignored (even if adjacent to words, such as \"ball,\"), \n",
    "# and that \"hit\" isn't the answer even though it occurs more because it is banned."
   ]
  },
  {
   "cell_type": "code",
   "execution_count": 38,
   "metadata": {},
   "outputs": [],
   "source": [
    "def MCW(paragraph, banned):\n",
    "    punctuations = [\",\",\".\",\"?\",\"!\",\";\",\":\",\"'\"]\n",
    "    for char in punctuations:\n",
    "        paragraph = paragraph.replace(char,\" \")\n",
    "    # print(paragraph)\n",
    "\n",
    "    from collections import Counter\n",
    "    paragraph = paragraph.lower()\n",
    "    # print(paragraph)\n",
    "\n",
    "    mydict ={}\n",
    "    for x in paragraph.split() :\n",
    "        # print(\"X : \" ,x)\n",
    "        if x not in banned :\n",
    "            if x not in mydict:\n",
    "                mydict[x] = 1\n",
    "            else:\n",
    "                mydict[x] = mydict[x] + 1\n",
    "                # print(mydict)\n",
    "\n",
    "    print(mydict)\n",
    "    maxval = 0\n",
    "    ans=\"\"\n",
    "    for k, v in mydict.items():\n",
    "        if v > maxval:\n",
    "            maxval = v\n",
    "            ans = k\n",
    "\n",
    "    return ans\n"
   ]
  },
  {
   "cell_type": "code",
   "execution_count": 39,
   "metadata": {},
   "outputs": [
    {
     "name": "stdout",
     "output_type": "stream",
     "text": [
      "{'bob': 1, 'a': 1, 'ball': 2, 'the': 1, 'flew': 1, 'far': 1, 'after': 1, 'it': 1, 'was': 1}\n"
     ]
    },
    {
     "data": {
      "text/plain": [
       "'ball'"
      ]
     },
     "execution_count": 39,
     "metadata": {},
     "output_type": "execute_result"
    }
   ],
   "source": [
    "paragraph = \"Bob hit a ball, the hit BALL flew far after it was hit.\"\n",
    "banned = [\"hit\"]\n",
    "\n",
    "MCW(paragraph,banned)\n"
   ]
  },
  {
   "cell_type": "code",
   "execution_count": null,
   "metadata": {},
   "outputs": [],
   "source": []
  }
 ],
 "metadata": {
  "kernelspec": {
   "display_name": "Python 3",
   "language": "python",
   "name": "python3"
  },
  "language_info": {
   "codemirror_mode": {
    "name": "ipython",
    "version": 3
   },
   "file_extension": ".py",
   "mimetype": "text/x-python",
   "name": "python",
   "nbconvert_exporter": "python",
   "pygments_lexer": "ipython3",
   "version": "3.6.8"
  }
 },
 "nbformat": 4,
 "nbformat_minor": 2
}
