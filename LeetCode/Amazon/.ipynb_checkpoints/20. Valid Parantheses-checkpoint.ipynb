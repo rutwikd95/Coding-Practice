{
 "cells": [
  {
   "cell_type": "code",
   "execution_count": 1,
   "metadata": {},
   "outputs": [],
   "source": [
    "# Input: \"()\"\n",
    "# Output: true\n",
    "    \n",
    "# Input: \"()[]{}\"\n",
    "# Output: true\n",
    "    \n",
    "# Input: \"(]\"\n",
    "# Output: false\n",
    "    \n",
    "# Input: \"([)]\"\n",
    "# Output: false\n",
    "    \n",
    "# Input: \"{[]}\"\n",
    "# Output: true"
   ]
  },
  {
   "cell_type": "code",
   "execution_count": 52,
   "metadata": {},
   "outputs": [],
   "source": [
    "def valid_paran(s):\n",
    "    dict_paran2 = {\")\" : \"(\" , \"]\" : \"[\" , \"}\" : \"{\"}\n",
    "    closed_paran = [\")\", \"]\" , \"}\"]\n",
    "    stack = []\n",
    "    for char in s:\n",
    "        if not stack and char in closed_paran:\n",
    "            return False\n",
    "        elif char not in closed_paran:\n",
    "            stack.append(char)\n",
    "            print(\"stack : \" , stack)\n",
    "        elif stack[len(stack) - 1] == dict_paran2[char] :\n",
    "            stack.pop()\n",
    "            print(\"stack is : \", stack)\n",
    "        else:\n",
    "            stack.append(char)\n",
    "            print(\"stack 3 : \", stack)\n",
    "    if not stack :\n",
    "        return True\n",
    "    return False\n",
    "            "
   ]
  },
  {
   "cell_type": "code",
   "execution_count": 74,
   "metadata": {},
   "outputs": [],
   "source": [
    "def valid_paran2(s):\n",
    "    dict_paran2 = {\")\" : \"(\" , \"]\" : \"[\" , \"}\" : \"{\"}\n",
    "#     closed_paran = [\")\", \"]\" , \"}\"]\n",
    "    stack = []\n",
    "    for char in s:\n",
    "        if char in dict_paran2 and len(stack) < 1 :\n",
    "            return False\n",
    "        elif char not in dict_paran2:\n",
    "            stack.append(char)\n",
    "#         elif char in closed_paran and not stack[]\n",
    "        elif char in dict_paran2 and stack[len(stack) -1] == dict_paran2[char] : \n",
    "            stack.pop()\n",
    "        else:\n",
    "            return False\n",
    "    if len(stack) == 0 :\n",
    "        return True\n",
    "    return False\n",
    "            \n",
    "            \n",
    "            "
   ]
  },
  {
   "cell_type": "code",
   "execution_count": 75,
   "metadata": {},
   "outputs": [
    {
     "name": "stdout",
     "output_type": "stream",
     "text": [
      "True\n",
      "True\n",
      "False\n",
      "False\n",
      "True\n",
      "False\n",
      "False\n"
     ]
    }
   ],
   "source": [
    "s1 = \"()\"\n",
    "s2 = \"()[]{}\"\n",
    "s3 = \"(]\"\n",
    "s4 = \"([)]\"\n",
    "s5 = \"{[]}\"\n",
    "\n",
    "s6 = \"){\"\n",
    "s7 = \"[])\"\n",
    "\n",
    "print(valid_paran2(s1))\n",
    "print(valid_paran2(s2))\n",
    "print(valid_paran2(s3))\n",
    "print(valid_paran2(s4))\n",
    "print(valid_paran2(s5))\n",
    "print(valid_paran2(s6))\n",
    "print(valid_paran2(s7))"
   ]
  },
  {
   "cell_type": "code",
   "execution_count": 17,
   "metadata": {},
   "outputs": [],
   "source": [
    "stk = [1]"
   ]
  },
  {
   "cell_type": "code",
   "execution_count": 18,
   "metadata": {},
   "outputs": [],
   "source": [
    "stk.append(2)"
   ]
  },
  {
   "cell_type": "code",
   "execution_count": 21,
   "metadata": {},
   "outputs": [
    {
     "data": {
      "text/plain": [
       "2"
      ]
     },
     "execution_count": 21,
     "metadata": {},
     "output_type": "execute_result"
    }
   ],
   "source": [
    "stk[len(stk) -1]"
   ]
  },
  {
   "cell_type": "code",
   "execution_count": null,
   "metadata": {},
   "outputs": [],
   "source": []
  },
  {
   "cell_type": "code",
   "execution_count": 13,
   "metadata": {},
   "outputs": [
    {
     "data": {
      "text/plain": [
       "2"
      ]
     },
     "execution_count": 13,
     "metadata": {},
     "output_type": "execute_result"
    }
   ],
   "source": [
    "stk.pop()"
   ]
  },
  {
   "cell_type": "code",
   "execution_count": 14,
   "metadata": {},
   "outputs": [
    {
     "data": {
      "text/plain": [
       "[1]"
      ]
     },
     "execution_count": 14,
     "metadata": {},
     "output_type": "execute_result"
    }
   ],
   "source": [
    "stk"
   ]
  },
  {
   "cell_type": "code",
   "execution_count": 67,
   "metadata": {},
   "outputs": [],
   "source": [
    "dictt = {1 : 2}"
   ]
  },
  {
   "cell_type": "code",
   "execution_count": 71,
   "metadata": {},
   "outputs": [
    {
     "data": {
      "text/plain": [
       "dict_values([2])"
      ]
     },
     "execution_count": 71,
     "metadata": {},
     "output_type": "execute_result"
    }
   ],
   "source": [
    "val = dictt.values()\n",
    "val"
   ]
  },
  {
   "cell_type": "code",
   "execution_count": null,
   "metadata": {},
   "outputs": [],
   "source": []
  }
 ],
 "metadata": {
  "kernelspec": {
   "display_name": "Python 3",
   "language": "python",
   "name": "python3"
  },
  "language_info": {
   "codemirror_mode": {
    "name": "ipython",
    "version": 3
   },
   "file_extension": ".py",
   "mimetype": "text/x-python",
   "name": "python",
   "nbconvert_exporter": "python",
   "pygments_lexer": "ipython3",
   "version": "3.6.8"
  }
 },
 "nbformat": 4,
 "nbformat_minor": 2
}
