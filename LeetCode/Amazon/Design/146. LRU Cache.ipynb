{
 "cells": [
  {
   "cell_type": "code",
   "execution_count": 1,
   "metadata": {},
   "outputs": [],
   "source": [
    "# Example:\n",
    "\n",
    "# LRUCache cache = new LRUCache( 2 /* capacity */ );\n",
    "\n",
    "# cache.put(1, 1);\n",
    "# cache.put(2, 2);\n",
    "# cache.get(1);       // returns 1\n",
    "# cache.put(3, 3);    // evicts key 2\n",
    "# cache.get(2);       // returns -1 (not found)\n",
    "# cache.put(4, 4);    // evicts key 1\n",
    "# cache.get(1);       // returns -1 (not found)\n",
    "# cache.get(3);       // returns 3\n",
    "# cache.get(4);       // returns 4"
   ]
  },
  {
   "cell_type": "code",
   "execution_count": 22,
   "metadata": {},
   "outputs": [],
   "source": [
    "class node :\n",
    "    def __init__(self, k, v):\n",
    "        self.key = k\n",
    "        self.val = v\n",
    "        self.prev = None\n",
    "        self.next = None\n",
    "\n",
    "\n",
    "class LRUCache:\n",
    "    \n",
    "    def __init__(self, capacity):\n",
    "        self.capacity = capacity\n",
    "        self.dic = dict()\n",
    "        self.head = node(0,0)\n",
    "        self.tail = node(0,0)\n",
    "        self.head.next = self.tail\n",
    "        self.tail.prev = self.head\n",
    "        \n",
    "\n",
    "    def get(self, key):\n",
    "        if key in self.dic :\n",
    "            n = self.dic[key]\n",
    "            self._remove(n)\n",
    "            self._add(n)\n",
    "            return n.val\n",
    "        return -1\n",
    "            \n",
    "        \n",
    "\n",
    "    def put(self, key, value):\n",
    "        if key in self.dic:\n",
    "            self._remove(self.dic[key])\n",
    "        n = node(key ,value)\n",
    "        self._add(n)\n",
    "        self.dic[key] = n\n",
    "        if len(self.dic) > self.capacity:\n",
    "            n = self.head.next\n",
    "            self._remove(n)\n",
    "            del self.dic[n.key]\n",
    "            \n",
    "    def _remove(self, node):\n",
    "        p = node.prev\n",
    "        n = node.next \n",
    "        p . next = n\n",
    "        n.prev = p\n",
    "        \n",
    "    def _add(self, node):\n",
    "        p = self.tail.prev\n",
    "        p.next = node\n",
    "        self.tail.prev = node\n",
    "        node.prev = p\n",
    "        node.next = self.tail"
   ]
  },
  {
   "cell_type": "code",
   "execution_count": 28,
   "metadata": {},
   "outputs": [
    {
     "data": {
      "text/plain": [
       "4"
      ]
     },
     "execution_count": 28,
     "metadata": {},
     "output_type": "execute_result"
    }
   ],
   "source": [
    "cache = LRUCache(2)\n",
    "cache.put(1,1)\n",
    "cache.put(2, 2)\n",
    "cache.get(1)     #// returns 1\n",
    "cache.put(3, 3)    #// evicts key 2\n",
    "cache.get(2)       #// returns -1 (not found)\n",
    "cache.put(4, 4)    #// evicts key 1\n",
    "cache.get(1)       #// returns -1 (not found)\n",
    "cache.get(3)       #// returns 3\n",
    "cache.get(4)       #// returns 4"
   ]
  },
  {
   "cell_type": "code",
   "execution_count": 29,
   "metadata": {},
   "outputs": [],
   "source": [
    "cache = LRUCache(2)\n"
   ]
  },
  {
   "cell_type": "code",
   "execution_count": 30,
   "metadata": {},
   "outputs": [],
   "source": [
    "cache.put(1,1)\n"
   ]
  },
  {
   "cell_type": "code",
   "execution_count": 31,
   "metadata": {},
   "outputs": [],
   "source": [
    "cache.put(2, 2)\n"
   ]
  },
  {
   "cell_type": "code",
   "execution_count": 32,
   "metadata": {},
   "outputs": [
    {
     "data": {
      "text/plain": [
       "1"
      ]
     },
     "execution_count": 32,
     "metadata": {},
     "output_type": "execute_result"
    }
   ],
   "source": [
    "cache.get(1)      #// returns 1\n"
   ]
  },
  {
   "cell_type": "code",
   "execution_count": 33,
   "metadata": {},
   "outputs": [],
   "source": [
    "cache.put(3, 3)    #// evicts key 2\n"
   ]
  },
  {
   "cell_type": "code",
   "execution_count": 34,
   "metadata": {},
   "outputs": [
    {
     "data": {
      "text/plain": [
       "-1"
      ]
     },
     "execution_count": 34,
     "metadata": {},
     "output_type": "execute_result"
    }
   ],
   "source": [
    "cache.get(2)       #// returns -1 (not found)\n"
   ]
  },
  {
   "cell_type": "code",
   "execution_count": 35,
   "metadata": {},
   "outputs": [],
   "source": [
    "cache.put(4, 4)    #// evicts key 1\n"
   ]
  },
  {
   "cell_type": "code",
   "execution_count": null,
   "metadata": {},
   "outputs": [],
   "source": []
  }
 ],
 "metadata": {
  "kernelspec": {
   "display_name": "Python 3",
   "language": "python",
   "name": "python3"
  },
  "language_info": {
   "codemirror_mode": {
    "name": "ipython",
    "version": 3
   },
   "file_extension": ".py",
   "mimetype": "text/x-python",
   "name": "python",
   "nbconvert_exporter": "python",
   "pygments_lexer": "ipython3",
   "version": "3.6.8"
  }
 },
 "nbformat": 4,
 "nbformat_minor": 2
}
