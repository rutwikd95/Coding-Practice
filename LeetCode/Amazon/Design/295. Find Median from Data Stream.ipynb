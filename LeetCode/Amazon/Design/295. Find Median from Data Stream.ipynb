{
 "cells": [
  {
   "cell_type": "code",
   "execution_count": 63,
   "metadata": {},
   "outputs": [],
   "source": [
    "# Example:\n",
    "\n",
    "# addNum(1)\n",
    "# addNum(2)\n",
    "# findMedian() -> 1.5\n",
    "# addNum(3) \n",
    "# findMedian() -> 2"
   ]
  },
  {
   "cell_type": "markdown",
   "metadata": {},
   "source": [
    "# Using Sort :"
   ]
  },
  {
   "cell_type": "code",
   "execution_count": 62,
   "metadata": {},
   "outputs": [],
   "source": [
    "class MedianFinder:\n",
    "\n",
    "    def __init__(self):\n",
    "        \"\"\"\n",
    "        initialize your data structure here.\n",
    "        \"\"\"\n",
    "        self.mylist = list()\n",
    "        \n",
    "\n",
    "    def addNum(self, num):\n",
    "        self.mylist.append(num)\n",
    "        self.mylist.sort()\n",
    "        print(self.mylist)\n",
    "\n",
    "    def findMedian(self):\n",
    "        n = len(self.mylist)\n",
    "        if n % 2 != 0:\n",
    "            return float(self.mylist[n//2])\n",
    "        else:\n",
    "            i = int(n//2)\n",
    "            ans = (self.mylist[i] + self.mylist[i-1]) / 2\n",
    "            return ans\n",
    "            \n",
    "            \n",
    "        \n",
    "        \n",
    "\n",
    "\n",
    "# Your MedianFinder object will be instantiated and called as such:\n",
    "# obj = MedianFinder()\n",
    "# obj.addNum(num)\n",
    "# param_2 = obj.findMedian()"
   ]
  },
  {
   "cell_type": "markdown",
   "metadata": {},
   "source": [
    "# Using Heaps :"
   ]
  },
  {
   "cell_type": "code",
   "execution_count": 100,
   "metadata": {},
   "outputs": [],
   "source": [
    "import heapq\n",
    "\n",
    "class MedianFinder:\n",
    "    def __init__(self):\n",
    "        \n",
    "        self.heap_lowers = []\n",
    "        self.heap_uppers = []\n",
    "        \n",
    "\n",
    "    def addNum(self, num):\n",
    "        if len(self.heap_lowers) == 0 or num < self.heap_lowers[0]:\n",
    "            heapq.heappush(self.heap_lowers, num)\n",
    "            heapq._heapify_max(self.heap_lowers)\n",
    "        else:\n",
    "            heapq.heappush(self.heap_uppers, num)\n",
    "            \n",
    "        self.rebalance()\n",
    "        \n",
    "        \n",
    "\n",
    "    def findMedian(self):\n",
    "        hl = len(self.heap_lowers)\n",
    "        hu = len(self.heap_uppers)\n",
    "        if hl == hu :\n",
    "            ans = (self.heap_lowers[0] + self.heap_uppers[0]) / 2.0\n",
    "            return ans\n",
    "        elif hl > hu:\n",
    "            ans = self.heap_lowers[0]\n",
    "            return ans\n",
    "        else:\n",
    "            ans = self.heap_uppers[0]\n",
    "            return ans\n",
    "            \n",
    "        \n",
    "        \n",
    "    def rebalance(self):        \n",
    "        if len(self.heap_lowers) > len(self.heap_uppers):\n",
    "            if len(self.heap_lowers) - len(self.heap_uppers) >= 2 :\n",
    "                temp = heapq._heappop_max(self.heap_lowers)\n",
    "                heapq.heappush(temp , self.heap_uppers)\n",
    "        elif len(self.heap_uppers) > len(self.heap_lowers):\n",
    "            if len(self.heap_uppers) - len(self.heap_lowers) >= 2:\n",
    "                temp = heapq.heappop(self.heap_uppers)\n",
    "                heapq._heappush_max(temp , self.heap_lowers)\n",
    "            \n",
    "\n",
    "# Your MedianFinder object will be instantiated and called as such:\n",
    "# obj = MedianFinder()\n",
    "# obj.addNum(num)\n",
    "# param_2 = obj.findMedian()"
   ]
  },
  {
   "cell_type": "code",
   "execution_count": 101,
   "metadata": {},
   "outputs": [],
   "source": [
    "obj = MedianFinder()"
   ]
  },
  {
   "cell_type": "code",
   "execution_count": 102,
   "metadata": {},
   "outputs": [],
   "source": [
    "obj.addNum(1)"
   ]
  },
  {
   "cell_type": "code",
   "execution_count": 103,
   "metadata": {},
   "outputs": [],
   "source": [
    "obj.addNum(2)"
   ]
  },
  {
   "cell_type": "code",
   "execution_count": 104,
   "metadata": {},
   "outputs": [
    {
     "data": {
      "text/plain": [
       "1.5"
      ]
     },
     "execution_count": 104,
     "metadata": {},
     "output_type": "execute_result"
    }
   ],
   "source": [
    "obj.findMedian()"
   ]
  },
  {
   "cell_type": "code",
   "execution_count": 105,
   "metadata": {},
   "outputs": [],
   "source": [
    "obj.addNum(3)"
   ]
  },
  {
   "cell_type": "code",
   "execution_count": 106,
   "metadata": {},
   "outputs": [
    {
     "data": {
      "text/plain": [
       "2"
      ]
     },
     "execution_count": 106,
     "metadata": {},
     "output_type": "execute_result"
    }
   ],
   "source": [
    "obj.findMedian()"
   ]
  },
  {
   "cell_type": "markdown",
   "metadata": {},
   "source": [
    "## Leetcode Discussion Answers"
   ]
  },
  {
   "cell_type": "markdown",
   "metadata": {},
   "source": [
    "Solution\n",
    "\n",
    "Visualize a sorted list. The middle two elements (M1, M2) determine the median. Element 0 to M1 is max heap. Element M2 to N is min heap.\n",
    "How to peek top element in heap? It is element at index 0. http://stackoverflow.com/questions/1750991/peeking-in-a-heap-in-python\n",
    "There are two APIs addNum and findMedian\n",
    "addNum(num)\n",
    "First number added to max heap.\n",
    "If a number is less than the top number in max heap, add to max heap. Otherwise to min-heap\n",
    "If the two heaps are not balanced (size off by two), move top of one to other\n",
    "findMedian()\n",
    "If the number of elements is even, return the average to top elements of both heaps\n",
    "If not, then one heap has more elements than another. Return the top element of the heap\n",
    "with more elements."
   ]
  },
  {
   "cell_type": "code",
   "execution_count": 107,
   "metadata": {},
   "outputs": [],
   "source": [
    "from heapq import heappush, heappop\n",
    "\n",
    "class MedianFinder:\n",
    "    def __init__(self):\n",
    "        \"\"\"\n",
    "        Initialize your data structure here.\n",
    "        \"\"\"\n",
    "        self.heap_max, self.heap_min = [], []\n",
    "        return\n",
    "\n",
    "    def addNum(self, num):\n",
    "        \"\"\"\n",
    "        Adds a num into the data structure.\n",
    "        :type num: int\n",
    "        :rtype: void\n",
    "        \"\"\"\n",
    "        if len(self.heap_max) == 0 or self.heap_max[0]*-1 >= num:\n",
    "            heappush(self.heap_max, num*-1)\n",
    "        else:\n",
    "            heappush(self.heap_min, num) \n",
    "        N1, N2 = len(self.heap_max), len(self.heap_min)\n",
    "        if N1-N2 == 2:\n",
    "            x = heappop(self.heap_max)\n",
    "            heappush(self.heap_min, x*-1)\n",
    "        elif N2-N1 == 2:\n",
    "            x = heappop(self.heap_min)\n",
    "            heappush(self.heap_max, x*-1)            \n",
    "\n",
    "    def findMedian(self):\n",
    "        \"\"\"\n",
    "        Returns the median of current data stream\n",
    "        :rtype: float\n",
    "        \"\"\"\n",
    "        N1, N2 = len(self.heap_max), len(self.heap_min)\n",
    "        N = N1 + N2\n",
    "        if N % 2 == 0:\n",
    "            return (self.heap_max[0]*-1 + self.heap_min[0])/2.0\n",
    "        else:\n",
    "            if N1 > N2:\n",
    "                return self.heap_max[0]*-1\n",
    "            else:\n",
    "                return self.heap_min[0]"
   ]
  },
  {
   "cell_type": "code",
   "execution_count": null,
   "metadata": {},
   "outputs": [],
   "source": []
  },
  {
   "cell_type": "code",
   "execution_count": null,
   "metadata": {},
   "outputs": [],
   "source": []
  },
  {
   "cell_type": "code",
   "execution_count": 46,
   "metadata": {},
   "outputs": [
    {
     "data": {
      "text/plain": [
       "4"
      ]
     },
     "execution_count": 46,
     "metadata": {},
     "output_type": "execute_result"
    }
   ],
   "source": [
    "listt = [1,2,3,4,5,6,7,8]\n",
    "listt2 = [1,2,3,4]\n",
    "\n",
    "n = len(listt2)\n",
    "n"
   ]
  },
  {
   "cell_type": "code",
   "execution_count": 47,
   "metadata": {},
   "outputs": [
    {
     "data": {
      "text/plain": [
       "0"
      ]
     },
     "execution_count": 47,
     "metadata": {},
     "output_type": "execute_result"
    }
   ],
   "source": [
    "n % 2"
   ]
  },
  {
   "cell_type": "code",
   "execution_count": 48,
   "metadata": {},
   "outputs": [
    {
     "data": {
      "text/plain": [
       "2"
      ]
     },
     "execution_count": 48,
     "metadata": {},
     "output_type": "execute_result"
    }
   ],
   "source": [
    "n//2"
   ]
  },
  {
   "cell_type": "code",
   "execution_count": null,
   "metadata": {},
   "outputs": [],
   "source": []
  }
 ],
 "metadata": {
  "kernelspec": {
   "display_name": "Python 3",
   "language": "python",
   "name": "python3"
  },
  "language_info": {
   "codemirror_mode": {
    "name": "ipython",
    "version": 3
   },
   "file_extension": ".py",
   "mimetype": "text/x-python",
   "name": "python",
   "nbconvert_exporter": "python",
   "pygments_lexer": "ipython3",
   "version": "3.6.8"
  }
 },
 "nbformat": 4,
 "nbformat_minor": 2
}
