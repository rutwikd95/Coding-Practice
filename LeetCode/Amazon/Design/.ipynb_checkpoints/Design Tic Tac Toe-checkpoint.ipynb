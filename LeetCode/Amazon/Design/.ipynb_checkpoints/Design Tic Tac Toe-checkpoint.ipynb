{
 "cells": [
  {
   "cell_type": "code",
   "execution_count": 107,
   "metadata": {},
   "outputs": [],
   "source": [
    "class TicTacToe(object):\n",
    "    def __init__(self, n):\n",
    "        self.n = n\n",
    "        self.game_arr = [[\" \" for x in range(n)]for y in range(n)]\n",
    "        self.board = \"|\"+self.game_arr[0][0]+\"|\"+self.game_arr[0][1]+\"|\"+self.game_arr[0][2] +\"|\"+ \"\\n\"+ \"|\"+self.game_arr[1][0]+\"|\"+self.game_arr[1][1]+\"|\"+self.game_arr[1][2] +\"|\"+ \"\\n\"+ \"|\"+self.game_arr[2][0]+\"|\"+self.game_arr[2][1]+\"|\"+self.game_arr[2][2] +\"|\"+ \"\\n\"\n",
    "        self.player_dict = {1:\"X\", 2:\"O\"}\n",
    "        self.rowCounter = list(0 for x in range(n))\n",
    "        self.colCounter = list(0 for x in range(n))\n",
    "#         print(self.rowCounter)\n",
    "#         print(self.colCounter)\n",
    "        self.diagLeft = 0\n",
    "        self.diagRight = 0\n",
    "        \n",
    "#         print(self.game_arr)\n",
    "        print(self.board)\n",
    "        \n",
    "    \n",
    "    def move(self, row, col , player):\n",
    "        self.game_arr[row][col] = self.player_dict[player]\n",
    "        self.update_board()\n",
    "        if player == 1:\n",
    "            move = 1\n",
    "        else:\n",
    "            move = -1\n",
    "        self.rowCounter[row] += move\n",
    "        self.colCounter[col] += move\n",
    "        if row == col:\n",
    "            self.diagLeft += move\n",
    "        if row == self.n - col - 1:\n",
    "            self.diagRight += move\n",
    "        if self.rowCounter[row] == self.n or self.colCounter[col] == self.n or self.diagLeft == self.n or self.diagRight == self.n:\n",
    "            print(\"Player {} Wins ! \".format(player))\n",
    "            return player\n",
    "        return 0\n",
    "            \n",
    "    def update_board(self):\n",
    "        self.board = \"|\"+self.game_arr[0][0]+\"|\"+self.game_arr[0][1]+\"|\"+self.game_arr[0][2] +\"|\"+ \"\\n\"+ \"|\"+self.game_arr[1][0]+\"|\"+self.game_arr[1][1]+\"|\"+self.game_arr[1][2] +\"|\"+ \"\\n\"+ \"|\"+self.game_arr[2][0]+\"|\"+self.game_arr[2][1]+\"|\"+self.game_arr[2][2] +\"|\"+ \"\\n\"\n",
    "        print(self.board)\n",
    "        \n",
    "        \n",
    "    \n",
    "    "
   ]
  },
  {
   "cell_type": "code",
   "execution_count": 108,
   "metadata": {},
   "outputs": [
    {
     "name": "stdout",
     "output_type": "stream",
     "text": [
      "| | | |\n",
      "| | | |\n",
      "| | | |\n",
      "\n"
     ]
    }
   ],
   "source": [
    "toe = TicTacToe(3)"
   ]
  },
  {
   "cell_type": "code",
   "execution_count": 109,
   "metadata": {},
   "outputs": [
    {
     "name": "stdout",
     "output_type": "stream",
     "text": [
      "|X| | |\n",
      "| | | |\n",
      "| | | |\n",
      "\n"
     ]
    },
    {
     "data": {
      "text/plain": [
       "0"
      ]
     },
     "execution_count": 109,
     "metadata": {},
     "output_type": "execute_result"
    }
   ],
   "source": [
    "toe.move(0,0,1)"
   ]
  },
  {
   "cell_type": "code",
   "execution_count": 110,
   "metadata": {},
   "outputs": [
    {
     "name": "stdout",
     "output_type": "stream",
     "text": [
      "|X| |O|\n",
      "| | | |\n",
      "| | | |\n",
      "\n"
     ]
    },
    {
     "data": {
      "text/plain": [
       "0"
      ]
     },
     "execution_count": 110,
     "metadata": {},
     "output_type": "execute_result"
    }
   ],
   "source": [
    "toe.move(0,2,2)"
   ]
  },
  {
   "cell_type": "code",
   "execution_count": 111,
   "metadata": {},
   "outputs": [
    {
     "name": "stdout",
     "output_type": "stream",
     "text": [
      "|X| |O|\n",
      "| | | |\n",
      "| | |X|\n",
      "\n"
     ]
    },
    {
     "data": {
      "text/plain": [
       "0"
      ]
     },
     "execution_count": 111,
     "metadata": {},
     "output_type": "execute_result"
    }
   ],
   "source": [
    "toe.move(2,2,1)"
   ]
  },
  {
   "cell_type": "code",
   "execution_count": 112,
   "metadata": {},
   "outputs": [
    {
     "name": "stdout",
     "output_type": "stream",
     "text": [
      "|X| |O|\n",
      "| |O| |\n",
      "| | |X|\n",
      "\n"
     ]
    },
    {
     "data": {
      "text/plain": [
       "0"
      ]
     },
     "execution_count": 112,
     "metadata": {},
     "output_type": "execute_result"
    }
   ],
   "source": [
    "toe.move(1,1,2)"
   ]
  },
  {
   "cell_type": "code",
   "execution_count": 113,
   "metadata": {},
   "outputs": [
    {
     "name": "stdout",
     "output_type": "stream",
     "text": [
      "|X| |O|\n",
      "| |O| |\n",
      "|X| |X|\n",
      "\n"
     ]
    },
    {
     "data": {
      "text/plain": [
       "0"
      ]
     },
     "execution_count": 113,
     "metadata": {},
     "output_type": "execute_result"
    }
   ],
   "source": [
    "toe.move(2,0,1)"
   ]
  },
  {
   "cell_type": "code",
   "execution_count": 114,
   "metadata": {},
   "outputs": [
    {
     "name": "stdout",
     "output_type": "stream",
     "text": [
      "|X| |O|\n",
      "|O|O| |\n",
      "|X| |X|\n",
      "\n"
     ]
    },
    {
     "data": {
      "text/plain": [
       "0"
      ]
     },
     "execution_count": 114,
     "metadata": {},
     "output_type": "execute_result"
    }
   ],
   "source": [
    "toe.move(1,0,2)"
   ]
  },
  {
   "cell_type": "code",
   "execution_count": 115,
   "metadata": {},
   "outputs": [
    {
     "name": "stdout",
     "output_type": "stream",
     "text": [
      "|X| |O|\n",
      "|O|O| |\n",
      "|X|X|X|\n",
      "\n",
      "Player 1 Wins ! \n"
     ]
    },
    {
     "data": {
      "text/plain": [
       "1"
      ]
     },
     "execution_count": 115,
     "metadata": {},
     "output_type": "execute_result"
    }
   ],
   "source": [
    "toe.move(2,1,1)"
   ]
  },
  {
   "cell_type": "code",
   "execution_count": null,
   "metadata": {},
   "outputs": [],
   "source": []
  },
  {
   "cell_type": "code",
   "execution_count": null,
   "metadata": {},
   "outputs": [],
   "source": []
  },
  {
   "cell_type": "code",
   "execution_count": null,
   "metadata": {},
   "outputs": [],
   "source": []
  },
  {
   "cell_type": "code",
   "execution_count": null,
   "metadata": {},
   "outputs": [],
   "source": []
  },
  {
   "cell_type": "code",
   "execution_count": null,
   "metadata": {},
   "outputs": [],
   "source": []
  },
  {
   "cell_type": "code",
   "execution_count": null,
   "metadata": {},
   "outputs": [],
   "source": []
  },
  {
   "cell_type": "code",
   "execution_count": null,
   "metadata": {},
   "outputs": [],
   "source": []
  },
  {
   "cell_type": "code",
   "execution_count": 146,
   "metadata": {},
   "outputs": [
    {
     "name": "stdout",
     "output_type": "stream",
     "text": [
      "|0|0||0|1||0|2||0|3||1|0||1|1||1|2||1|3||2|0||2|1||2|2||2|3||3|0||3|1||3|2||3|3|"
     ]
    }
   ],
   "source": [
    "n = 4\n",
    "arr = [[\" \" for x in range(n)]for y in range(n)]\n",
    "for i in range(n):\n",
    "    for j in range(n):\n",
    "        print(\"\",i,j ,\"\",sep = \"|\",end = \"\")"
   ]
  },
  {
   "cell_type": "code",
   "execution_count": 142,
   "metadata": {},
   "outputs": [
    {
     "name": "stdout",
     "output_type": "stream",
     "text": [
      "Yolo <| > Swag\n"
     ]
    }
   ],
   "source": [
    "print(\"Yolo <\", \" > Swag\",sep = \"|\")"
   ]
  },
  {
   "cell_type": "code",
   "execution_count": null,
   "metadata": {},
   "outputs": [],
   "source": []
  }
 ],
 "metadata": {
  "kernelspec": {
   "display_name": "Python 3",
   "language": "python",
   "name": "python3"
  },
  "language_info": {
   "codemirror_mode": {
    "name": "ipython",
    "version": 3
   },
   "file_extension": ".py",
   "mimetype": "text/x-python",
   "name": "python",
   "nbconvert_exporter": "python",
   "pygments_lexer": "ipython3",
   "version": "3.6.8"
  }
 },
 "nbformat": 4,
 "nbformat_minor": 2
}
