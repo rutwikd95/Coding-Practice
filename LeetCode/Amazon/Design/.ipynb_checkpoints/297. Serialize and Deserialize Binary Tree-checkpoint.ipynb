{
 "cells": [
  {
   "cell_type": "code",
   "execution_count": 1,
   "metadata": {},
   "outputs": [],
   "source": [
    "# Example: \n",
    "\n",
    "# You may serialize the following tree:\n",
    "\n",
    "#     1\n",
    "#    / \\\n",
    "#   2   3\n",
    "#      / \\\n",
    "#     4   5\n",
    "\n",
    "# as \"[1,2,3,null,null,4,5]\"\n",
    "# Clarification: The above format is the same as how LeetCode serializes a binary tree. \n",
    "# You do not necessarily need to follow this format, so please be creative and \n",
    "# come up with different approaches yourself."
   ]
  },
  {
   "cell_type": "code",
   "execution_count": 57,
   "metadata": {},
   "outputs": [],
   "source": [
    "# Definition for a binary tree node.\n",
    "\n",
    "\n",
    "class TreeNode(object):\n",
    "    def __init__(self, x):\n",
    "        self.val = x\n",
    "        self.left = None\n",
    "        self.right = None\n",
    "\n",
    "class Codec:\n",
    "\n",
    "    def serialize(self, root):\n",
    "        if not root :\n",
    "            return None\n",
    "        res = [str(root.val)]\n",
    "        stack = [root]\n",
    "        while stack:\n",
    "            next_stack = []\n",
    "\n",
    "            for node in stack:\n",
    "                if node.left:\n",
    "                    res.append(str(node.left.val))\n",
    "                else:\n",
    "                    res.append(\"#\")\n",
    "                if node.right :\n",
    "                    res.append(str(node.right.val))\n",
    "                else:\n",
    "                    res.append(\"#\")\n",
    "                if node.left:\n",
    "                    next_stack.append(node.left)\n",
    "                if node.right:\n",
    "                    next_stack.append(node.right)\n",
    "            stack = next_stack\n",
    "        encode = \",\".join(res)\n",
    "        return encode\n",
    "                \n",
    "        \n",
    "\n",
    "    def deserialize(self, data):\n",
    "        if not data:\n",
    "            return None\n",
    "        data = data.split(\",\")\n",
    "        root = TreeNode(int(data[0]))\n",
    "        stack = [root]\n",
    "        i = 1\n",
    "        while stack:\n",
    "            if i == len(data):\n",
    "                break\n",
    "            next_stack =[]\n",
    "            for node in stack:\n",
    "                if data[i] != \"#\":\n",
    "                    node.left = TreeNode(int(data[i]))\n",
    "                    next_stack.append(node.left)\n",
    "                i += 1\n",
    "                if data[i] != \"#\":\n",
    "                    node.right = TreeNode(int(data[i]))\n",
    "                    next_stack.append(node.right)\n",
    "                i += 1\n",
    "            stack = next_stack\n",
    "        return root\n",
    "                \n",
    "        \n",
    "\n",
    "\n",
    "# Your Codec object will be instantiated and called as such:\n",
    "# codec = Codec()\n",
    "# codec.deserialize(codec.serialize(root))"
   ]
  },
  {
   "cell_type": "code",
   "execution_count": 58,
   "metadata": {},
   "outputs": [],
   "source": [
    "t1 = TreeNode(1)\n",
    "t2 = TreeNode(2)\n",
    "t3 = TreeNode(3)\n",
    "t4 = TreeNode(4)\n",
    "t5 = TreeNode(5)\n",
    "\n",
    "t1.left = t2\n",
    "t1.right = t3\n",
    "t3.left = t4\n",
    "t3.right = t5\n"
   ]
  },
  {
   "cell_type": "code",
   "execution_count": 59,
   "metadata": {},
   "outputs": [
    {
     "data": {
      "text/plain": [
       "'1,2,3,#,#,4,5,#,#,#,#'"
      ]
     },
     "execution_count": 59,
     "metadata": {},
     "output_type": "execute_result"
    }
   ],
   "source": [
    "codec = Codec()\n",
    "data = codec.serialize(t1)\n",
    "data"
   ]
  },
  {
   "cell_type": "code",
   "execution_count": 60,
   "metadata": {},
   "outputs": [
    {
     "data": {
      "text/plain": [
       "<__main__.TreeNode at 0x142cd48cac8>"
      ]
     },
     "execution_count": 60,
     "metadata": {},
     "output_type": "execute_result"
    }
   ],
   "source": [
    "codec.deserialize(data)"
   ]
  },
  {
   "cell_type": "code",
   "execution_count": null,
   "metadata": {},
   "outputs": [],
   "source": []
  }
 ],
 "metadata": {
  "kernelspec": {
   "display_name": "Python 3",
   "language": "python",
   "name": "python3"
  },
  "language_info": {
   "codemirror_mode": {
    "name": "ipython",
    "version": 3
   },
   "file_extension": ".py",
   "mimetype": "text/x-python",
   "name": "python",
   "nbconvert_exporter": "python",
   "pygments_lexer": "ipython3",
   "version": "3.6.8"
  }
 },
 "nbformat": 4,
 "nbformat_minor": 2
}
