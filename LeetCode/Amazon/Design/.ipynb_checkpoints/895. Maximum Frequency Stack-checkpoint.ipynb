{
 "cells": [
  {
   "cell_type": "code",
   "execution_count": 59,
   "metadata": {},
   "outputs": [],
   "source": [
    "class FreqStack:\n",
    "\n",
    "    def __init__(self):\n",
    "        self.mydict = dict()\n",
    "        self.mystack = list()\n",
    "        self.max_freq = 0\n",
    "        \n",
    "\n",
    "    def push(self, x):\n",
    "        if x not in self.mydict:\n",
    "            self.mydict[x] = 1\n",
    "            freq = 1\n",
    "            if freq > self.max_freq:\n",
    "                self.max_freq = freq\n",
    "                self.mystack.append(x)\n",
    "        else:\n",
    "            freq = self.mydict[x] + 1\n",
    "            self.mydict[x] = freq\n",
    "            if freq > self.max_freq:\n",
    "                self.max_freq = freq\n",
    "                self.mystack.append(x)\n",
    "        \n",
    "\n",
    "    def pop(self):\n",
    "        return self.mystack.pop()\n",
    "        \n",
    "\n",
    "\n",
    "# Your FreqStack object will be instantiated and called as such:\n",
    "# obj = FreqStack()\n",
    "# obj.push(x)\n",
    "# param_2 = obj.pop()"
   ]
  },
  {
   "cell_type": "markdown",
   "metadata": {},
   "source": [
    "## Using Heap :"
   ]
  },
  {
   "cell_type": "code",
   "execution_count": 115,
   "metadata": {},
   "outputs": [],
   "source": [
    "import heapq\n",
    "\n",
    "from collections import Counter\n",
    "\n",
    "class FreqStack:\n",
    "\n",
    "    def __init__(self):\n",
    "        self.stack = []\n",
    "        self.mydict = Counter()\n",
    "        self.index = -1\n",
    "        \n",
    "    \n",
    "    \n",
    "    \n",
    "    def push(self, x):\n",
    "        self.mydict[x] += 1\n",
    "        self.index += 1\n",
    "        heapq.heappush(self.stack , (-self.mydict[x], -self.index , x))\n",
    "        \n",
    "    \n",
    "    \n",
    "    \n",
    "    def pop(self):\n",
    "        num = heapq.heappop(self.stack)[2]\n",
    "        self.mydict[num] -= 1\n",
    "        return num \n",
    "\n"
   ]
  },
  {
   "cell_type": "code",
   "execution_count": 116,
   "metadata": {},
   "outputs": [],
   "source": [
    "obj = FreqStack()"
   ]
  },
  {
   "cell_type": "code",
   "execution_count": 117,
   "metadata": {},
   "outputs": [],
   "source": [
    "obj.push(5)\n"
   ]
  },
  {
   "cell_type": "code",
   "execution_count": 118,
   "metadata": {},
   "outputs": [],
   "source": [
    "obj.push(7)"
   ]
  },
  {
   "cell_type": "code",
   "execution_count": 119,
   "metadata": {},
   "outputs": [],
   "source": [
    "obj.push(5)"
   ]
  },
  {
   "cell_type": "code",
   "execution_count": 120,
   "metadata": {},
   "outputs": [],
   "source": [
    "obj.push(7)"
   ]
  },
  {
   "cell_type": "code",
   "execution_count": 121,
   "metadata": {},
   "outputs": [],
   "source": [
    "obj.push(4)"
   ]
  },
  {
   "cell_type": "code",
   "execution_count": 122,
   "metadata": {},
   "outputs": [],
   "source": [
    "obj.push(5)"
   ]
  },
  {
   "cell_type": "code",
   "execution_count": 123,
   "metadata": {},
   "outputs": [
    {
     "data": {
      "text/plain": [
       "5"
      ]
     },
     "execution_count": 123,
     "metadata": {},
     "output_type": "execute_result"
    }
   ],
   "source": [
    "obj.pop()"
   ]
  },
  {
   "cell_type": "code",
   "execution_count": 124,
   "metadata": {},
   "outputs": [
    {
     "data": {
      "text/plain": [
       "7"
      ]
     },
     "execution_count": 124,
     "metadata": {},
     "output_type": "execute_result"
    }
   ],
   "source": [
    "obj.pop()"
   ]
  },
  {
   "cell_type": "code",
   "execution_count": 125,
   "metadata": {},
   "outputs": [
    {
     "data": {
      "text/plain": [
       "5"
      ]
     },
     "execution_count": 125,
     "metadata": {},
     "output_type": "execute_result"
    }
   ],
   "source": [
    "obj.pop()"
   ]
  },
  {
   "cell_type": "code",
   "execution_count": 126,
   "metadata": {},
   "outputs": [
    {
     "data": {
      "text/plain": [
       "4"
      ]
     },
     "execution_count": 126,
     "metadata": {},
     "output_type": "execute_result"
    }
   ],
   "source": [
    "obj.pop()"
   ]
  },
  {
   "cell_type": "code",
   "execution_count": null,
   "metadata": {},
   "outputs": [],
   "source": []
  }
 ],
 "metadata": {
  "kernelspec": {
   "display_name": "Python 3",
   "language": "python",
   "name": "python3"
  },
  "language_info": {
   "codemirror_mode": {
    "name": "ipython",
    "version": 3
   },
   "file_extension": ".py",
   "mimetype": "text/x-python",
   "name": "python",
   "nbconvert_exporter": "python",
   "pygments_lexer": "ipython3",
   "version": "3.6.8"
  }
 },
 "nbformat": 4,
 "nbformat_minor": 2
}
