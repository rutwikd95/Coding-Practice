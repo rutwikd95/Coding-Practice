{
 "cells": [
  {
   "cell_type": "code",
   "execution_count": 68,
   "metadata": {},
   "outputs": [],
   "source": [
    "quest = [-2,1,-3,4,-1,2,1,-5,4]\n",
    "\n",
    "quest2 = [1,2]\n",
    "\n",
    "# Output = 6"
   ]
  },
  {
   "cell_type": "code",
   "execution_count": 69,
   "metadata": {},
   "outputs": [],
   "source": [
    "# BRUTE FORCE :\n",
    "\n",
    "def max_subarray(nums):\n",
    "    max_val = 0\n",
    "    for i in range (0 , len(nums)):\n",
    "        for j in range (i , len(nums)):\n",
    "            \n",
    "#             print(\"i : {} , j : {}\".format(i,j))\n",
    "            summ = sum(nums[i:j])\n",
    "            if summ > max_val:\n",
    "                max_val = summ\n",
    "#                 print(\"Max val : \", max_val)\n",
    "                max_i = i\n",
    "                max_j = j\n",
    "    return max_val , nums[max_i:max_j]\n",
    "    "
   ]
  },
  {
   "cell_type": "code",
   "execution_count": 70,
   "metadata": {},
   "outputs": [
    {
     "data": {
      "text/plain": [
       "(6, [4, -1, 2, 1])"
      ]
     },
     "execution_count": 70,
     "metadata": {},
     "output_type": "execute_result"
    }
   ],
   "source": [
    "max_subarray(quest)"
   ]
  },
  {
   "cell_type": "code",
   "execution_count": 73,
   "metadata": {},
   "outputs": [],
   "source": [
    "# KADANES ALGORITHM :\n",
    "\n",
    "def max_subarr_kd(nums):\n",
    "    if len(nums) == 0:\n",
    "        return 0\n",
    "    elif len(nums) == 1:\n",
    "        return nums[0]\n",
    "    else:\n",
    "        max_end_sofar = nums[0]\n",
    "        max_end = nums[0]\n",
    "        for i in range (1, len(nums)):\n",
    "            print(\"i : \", i)\n",
    "            print(\"val : \", nums[i])\n",
    "            max_end = max(nums[i] , max_end + nums[i])\n",
    "            if max_end > max_end_sofar:\n",
    "                max_end_sofar = max_end\n",
    "            print(\"Max end : \", max_end)\n",
    "            print(\"Max so far : \", max_end_sofar)\n",
    "        return max_end_sofar"
   ]
  },
  {
   "cell_type": "code",
   "execution_count": 74,
   "metadata": {},
   "outputs": [
    {
     "name": "stdout",
     "output_type": "stream",
     "text": [
      "i :  1\n",
      "val :  2\n",
      "Max end :  3\n",
      "Max so far :  3\n"
     ]
    },
    {
     "data": {
      "text/plain": [
       "3"
      ]
     },
     "execution_count": 74,
     "metadata": {},
     "output_type": "execute_result"
    }
   ],
   "source": [
    "max_subarr_kd(quest2)"
   ]
  },
  {
   "cell_type": "code",
   "execution_count": null,
   "metadata": {},
   "outputs": [],
   "source": []
  }
 ],
 "metadata": {
  "kernelspec": {
   "display_name": "Python 3",
   "language": "python",
   "name": "python3"
  },
  "language_info": {
   "codemirror_mode": {
    "name": "ipython",
    "version": 3
   },
   "file_extension": ".py",
   "mimetype": "text/x-python",
   "name": "python",
   "nbconvert_exporter": "python",
   "pygments_lexer": "ipython3",
   "version": "3.6.8"
  }
 },
 "nbformat": 4,
 "nbformat_minor": 2
}
