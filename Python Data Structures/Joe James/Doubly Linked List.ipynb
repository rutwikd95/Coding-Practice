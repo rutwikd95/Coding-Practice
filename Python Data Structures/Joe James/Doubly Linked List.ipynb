{
 "cells": [
  {
   "cell_type": "code",
   "execution_count": 17,
   "metadata": {},
   "outputs": [],
   "source": [
    "class node:\n",
    "    def __init__(self, data, nxt_node = None, prev_node = None ):\n",
    "        self.data = data\n",
    "        self.nxt_node = nxt_node\n",
    "        self.prev_node = prev_node\n",
    "        \n",
    "    def get_next(self):\n",
    "        return self.nxt_node\n",
    "    \n",
    "    def set_next(self, nxt_node):\n",
    "        self.nxt_node = nxt_node\n",
    "        \n",
    "    def get_prev(self):   \n",
    "        return self.prev_node\n",
    "    \n",
    "    def set_prev(self, prev_node):\n",
    "        self.prev_node = prev_node\n",
    "        \n",
    "    def set_data(self, val):\n",
    "        self.data = val\n",
    "        \n",
    "    def get_data(self):\n",
    "        return self.data\n",
    "    "
   ]
  },
  {
   "cell_type": "code",
   "execution_count": 18,
   "metadata": {},
   "outputs": [],
   "source": [
    "class linked_list:\n",
    "    def __init__(self, root = None):\n",
    "        self.root = root\n",
    "        self.size = 0\n",
    "        \n",
    "    def get_size(self):\n",
    "        return self.size\n",
    "    \n",
    "    def add(self, val):\n",
    "        new_node = node(val , self.root)\n",
    "        if self.root:\n",
    "            self.root.set_prev(new_node)\n",
    "        self.root = new_node\n",
    "        self.size += 1\n",
    "        \n",
    "    def remove(self, val):\n",
    "        this_node = self.root\n",
    "        \n",
    "        while this_node:\n",
    "            if this_node.get_data() == val:\n",
    "                nextt = this_node.get_next()\n",
    "                prev = this_node.get_prev()\n",
    "                \n",
    "                if nextt:\n",
    "                    nextt.set_prev(prev)\n",
    "                if prev:\n",
    "                    prev.set_next(nextt)\n",
    "                else:\n",
    "                    self.root = this_node\n",
    "                self.size -= 1\n",
    "                return True\n",
    "            else:\n",
    "                this_node = this_node.get_next()\n",
    "        return False\n",
    "    \n",
    "    def find(self, val):\n",
    "        this_node = self.root\n",
    "        while this_node != None:\n",
    "            if this_node.get_data() == val:\n",
    "                return True\n",
    "            elif this_node.get_next() == None:\n",
    "                return False\n",
    "            else: \n",
    "                this_node = this_node.get_next()\n",
    "                \n",
    "    def display(self):\n",
    "        mylist = []\n",
    "        this_node = self.root\n",
    "        while this_node != None:\n",
    "            mylist.append(this_node.get_data())\n",
    "            this_node = this_node.get_next()\n",
    "        return mylist"
   ]
  },
  {
   "cell_type": "code",
   "execution_count": 19,
   "metadata": {},
   "outputs": [],
   "source": [
    "ll = linked_list()"
   ]
  },
  {
   "cell_type": "code",
   "execution_count": 20,
   "metadata": {},
   "outputs": [
    {
     "data": {
      "text/plain": [
       "[]"
      ]
     },
     "execution_count": 20,
     "metadata": {},
     "output_type": "execute_result"
    }
   ],
   "source": [
    "ll.display()"
   ]
  },
  {
   "cell_type": "code",
   "execution_count": 21,
   "metadata": {},
   "outputs": [],
   "source": [
    "ll.add(10)\n",
    "ll.add(20)\n",
    "ll.add(30)\n",
    "ll.add(40)\n",
    "ll.add(50)\n"
   ]
  },
  {
   "cell_type": "code",
   "execution_count": 22,
   "metadata": {},
   "outputs": [
    {
     "data": {
      "text/plain": [
       "[50, 40, 30, 20, 10]"
      ]
     },
     "execution_count": 22,
     "metadata": {},
     "output_type": "execute_result"
    }
   ],
   "source": [
    "ll.display()"
   ]
  },
  {
   "cell_type": "code",
   "execution_count": 23,
   "metadata": {},
   "outputs": [
    {
     "data": {
      "text/plain": [
       "True"
      ]
     },
     "execution_count": 23,
     "metadata": {},
     "output_type": "execute_result"
    }
   ],
   "source": [
    "ll.remove(40)"
   ]
  },
  {
   "cell_type": "code",
   "execution_count": 24,
   "metadata": {},
   "outputs": [
    {
     "data": {
      "text/plain": [
       "[50, 30, 20, 10]"
      ]
     },
     "execution_count": 24,
     "metadata": {},
     "output_type": "execute_result"
    }
   ],
   "source": [
    "ll.display()"
   ]
  },
  {
   "cell_type": "code",
   "execution_count": 25,
   "metadata": {},
   "outputs": [
    {
     "data": {
      "text/plain": [
       "True"
      ]
     },
     "execution_count": 25,
     "metadata": {},
     "output_type": "execute_result"
    }
   ],
   "source": [
    "ll.find(50)"
   ]
  },
  {
   "cell_type": "code",
   "execution_count": null,
   "metadata": {},
   "outputs": [],
   "source": []
  },
  {
   "cell_type": "code",
   "execution_count": null,
   "metadata": {},
   "outputs": [],
   "source": []
  }
 ],
 "metadata": {
  "kernelspec": {
   "display_name": "Python 3",
   "language": "python",
   "name": "python3"
  },
  "language_info": {
   "codemirror_mode": {
    "name": "ipython",
    "version": 3
   },
   "file_extension": ".py",
   "mimetype": "text/x-python",
   "name": "python",
   "nbconvert_exporter": "python",
   "pygments_lexer": "ipython3",
   "version": "3.6.8"
  }
 },
 "nbformat": 4,
 "nbformat_minor": 2
}
