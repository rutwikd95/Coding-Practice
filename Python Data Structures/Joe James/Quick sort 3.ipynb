{
 "cells": [
  {
   "cell_type": "code",
   "execution_count": 4,
   "metadata": {},
   "outputs": [],
   "source": [
    "def quicksort(A):\n",
    "    quicksort2(A, 0, len(A))\n",
    "    return A\n",
    "    \n",
    "def quicksort2(A, low, hi):\n",
    "#     for i in range (low, hi):\n",
    "#         print (A[i])\n",
    "    if low < hi :\n",
    "        pi = partition (A, low, hi)\n",
    "        quicksort2(A, low , pi)\n",
    "        quicksort2(A, pi, hi)\n",
    "        \n",
    "def partition(A, low, hi):\n",
    "    pivot = A[high]\n",
    "    i = low\n",
    "    for j in range(low , hi):\n",
    "        if A[j] <= pivot:\n",
    "            i = i + 1\n",
    "            \n",
    "        "
   ]
  },
  {
   "cell_type": "code",
   "execution_count": 5,
   "metadata": {},
   "outputs": [],
   "source": [
    "quest = [ 1, 3,2,9,5,4,8,7]"
   ]
  },
  {
   "cell_type": "code",
   "execution_count": 6,
   "metadata": {},
   "outputs": [
    {
     "name": "stdout",
     "output_type": "stream",
     "text": [
      "1\n",
      "3\n",
      "2\n",
      "9\n",
      "5\n",
      "4\n",
      "8\n",
      "7\n"
     ]
    }
   ],
   "source": [
    "quicksort(quest)"
   ]
  },
  {
   "cell_type": "code",
   "execution_count": null,
   "metadata": {},
   "outputs": [],
   "source": []
  }
 ],
 "metadata": {
  "kernelspec": {
   "display_name": "Python 3",
   "language": "python",
   "name": "python3"
  },
  "language_info": {
   "codemirror_mode": {
    "name": "ipython",
    "version": 3
   },
   "file_extension": ".py",
   "mimetype": "text/x-python",
   "name": "python",
   "nbconvert_exporter": "python",
   "pygments_lexer": "ipython3",
   "version": "3.6.8"
  }
 },
 "nbformat": 4,
 "nbformat_minor": 2
}
