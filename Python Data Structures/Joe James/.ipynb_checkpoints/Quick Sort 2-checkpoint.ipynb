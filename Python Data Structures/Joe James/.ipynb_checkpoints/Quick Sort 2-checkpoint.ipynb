{
 "cells": [
  {
   "cell_type": "code",
   "execution_count": 12,
   "metadata": {},
   "outputs": [],
   "source": [
    "def quick_sort(A):\n",
    "    quick_sort2(A, 0 , len(A) - 1)\n",
    "    return A\n",
    "    \n",
    "def quick_sort2(A, low, hi):\n",
    "    if low < hi :\n",
    "        pi = partition(A , low, hi)\n",
    "        quick_sort2(A , low, pi - 1 )\n",
    "        quick_sort2(A, pi + 1 , hi)\n",
    "#     return A\n",
    "\n",
    "def partition(A, low, hi):\n",
    "    i = low - 1\n",
    "    pivot = A[hi]\n",
    "    for j in range (low, hi ):\n",
    "        if A[j] <= pivot:\n",
    "            i = i + 1\n",
    "            A[i] , A[j] = A[j] , A[i]\n",
    "    \n",
    "    A[i + 1] , A[hi] = A[hi] , A[i + 1]\n",
    "    return (i + 1)\n"
   ]
  },
  {
   "cell_type": "code",
   "execution_count": 13,
   "metadata": {},
   "outputs": [],
   "source": [
    "quest = [ 1, 3,2,9,5,4,8,7]"
   ]
  },
  {
   "cell_type": "code",
   "execution_count": 14,
   "metadata": {},
   "outputs": [
    {
     "data": {
      "text/plain": [
       "[1, 2, 3, 4, 5, 7, 8, 9]"
      ]
     },
     "execution_count": 14,
     "metadata": {},
     "output_type": "execute_result"
    }
   ],
   "source": [
    "quick_sort(quest)"
   ]
  },
  {
   "cell_type": "code",
   "execution_count": null,
   "metadata": {},
   "outputs": [],
   "source": []
  }
 ],
 "metadata": {
  "kernelspec": {
   "display_name": "Python 3",
   "language": "python",
   "name": "python3"
  },
  "language_info": {
   "codemirror_mode": {
    "name": "ipython",
    "version": 3
   },
   "file_extension": ".py",
   "mimetype": "text/x-python",
   "name": "python",
   "nbconvert_exporter": "python",
   "pygments_lexer": "ipython3",
   "version": "3.6.8"
  }
 },
 "nbformat": 4,
 "nbformat_minor": 2
}
