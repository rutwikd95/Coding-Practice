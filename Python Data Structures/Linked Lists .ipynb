{
 "cells": [
  {
   "cell_type": "code",
   "execution_count": 68,
   "metadata": {},
   "outputs": [],
   "source": [
    "class Node:\n",
    "    def __init__(self,val):\n",
    "        self.val = val\n",
    "        self.next = None   # the pointer initially points to nothing\n",
    "        \n",
    "        \n",
    "    def traverse(self):\n",
    "        node = self\n",
    "        while node != None:\n",
    "            print(node.val)\n",
    "            node = node.next"
   ]
  },
  {
   "cell_type": "markdown",
   "metadata": {},
   "source": [
    "## Single Linked List :"
   ]
  },
  {
   "cell_type": "code",
   "execution_count": 69,
   "metadata": {},
   "outputs": [],
   "source": [
    "Snode1 = Node(12)\n",
    "Snode2 = Node(99)\n",
    "Snode3 = Node(37)\n",
    "Snode4 = Node(10)\n",
    "Snode5 = Node(11)\n",
    "Snode6 = Node(12)\n",
    "Snode7 = Node(13)"
   ]
  },
  {
   "cell_type": "code",
   "execution_count": 70,
   "metadata": {},
   "outputs": [],
   "source": [
    "Snode1.next = Snode2\n",
    "Snode2.next = Snode3\n",
    "\n",
    "Snode3.next = Snode4\n",
    "Snode4.next = Snode5\n",
    "Snode5.next = Snode6\n",
    "Snode6.next = Snode7"
   ]
  },
  {
   "cell_type": "code",
   "execution_count": 71,
   "metadata": {},
   "outputs": [
    {
     "name": "stdout",
     "output_type": "stream",
     "text": [
      "12\n",
      "99\n",
      "37\n",
      "10\n",
      "11\n",
      "12\n",
      "13\n"
     ]
    }
   ],
   "source": [
    "Snode1.traverse()"
   ]
  },
  {
   "cell_type": "code",
   "execution_count": 72,
   "metadata": {},
   "outputs": [
    {
     "name": "stdout",
     "output_type": "stream",
     "text": [
      "12\n",
      "99\n",
      "37\n",
      "10\n",
      "11\n",
      "12\n",
      "13\n"
     ]
    }
   ],
   "source": [
    "Node.traverse(Snode1)"
   ]
  },
  {
   "cell_type": "markdown",
   "metadata": {},
   "source": [
    "## Doubly Linked Lists:"
   ]
  },
  {
   "cell_type": "code",
   "execution_count": 73,
   "metadata": {},
   "outputs": [],
   "source": [
    "class DoublyNode:\n",
    "    def __init__(self,val):\n",
    "        self.val = val\n",
    "        self.next = None\n",
    "        self.prev = None\n",
    "        \n",
    "    def traverse_front(self):\n",
    "        node = self\n",
    "        while node != None:\n",
    "            print(node.val)\n",
    "            node = node.next\n",
    "            \n",
    "    def traverse_back(self):\n",
    "        node = self\n",
    "        while node != None:\n",
    "            print(node.val)\n",
    "            node = node.prev\n",
    "        "
   ]
  },
  {
   "cell_type": "code",
   "execution_count": 74,
   "metadata": {},
   "outputs": [],
   "source": [
    "node3 = DoublyNode(10)\n",
    "node4 = DoublyNode(11)\n",
    "node5 = DoublyNode(12)\n",
    "node6 = DoublyNode(13)\n",
    "\n",
    "\n",
    "node3.next = node4\n",
    "node4.next = node5\n",
    "node5.next = node6\n",
    "\n",
    "node4.prev = node3\n",
    "node5.prev = node4"
   ]
  },
  {
   "cell_type": "code",
   "execution_count": 75,
   "metadata": {},
   "outputs": [
    {
     "name": "stdout",
     "output_type": "stream",
     "text": [
      "10\n",
      "11\n",
      "12\n",
      "13\n"
     ]
    }
   ],
   "source": [
    "node3.traverse_front()"
   ]
  },
  {
   "cell_type": "code",
   "execution_count": 76,
   "metadata": {},
   "outputs": [
    {
     "name": "stdout",
     "output_type": "stream",
     "text": [
      "10\n"
     ]
    }
   ],
   "source": [
    "node3.traverse_back()"
   ]
  },
  {
   "cell_type": "code",
   "execution_count": 77,
   "metadata": {},
   "outputs": [
    {
     "name": "stdout",
     "output_type": "stream",
     "text": [
      "12\n",
      "11\n",
      "10\n"
     ]
    }
   ],
   "source": [
    "node5.traverse_back()"
   ]
  },
  {
   "cell_type": "markdown",
   "metadata": {},
   "source": [
    "## Some Linked List coding Challenges:"
   ]
  },
  {
   "cell_type": "markdown",
   "metadata": {},
   "source": [
    "### 1) Traverse a Linked List :"
   ]
  },
  {
   "cell_type": "code",
   "execution_count": 78,
   "metadata": {},
   "outputs": [
    {
     "name": "stdout",
     "output_type": "stream",
     "text": [
      "10\n",
      "11\n",
      "12\n",
      "13\n"
     ]
    }
   ],
   "source": [
    "node3.traverse_front()"
   ]
  },
  {
   "cell_type": "code",
   "execution_count": null,
   "metadata": {},
   "outputs": [],
   "source": []
  },
  {
   "cell_type": "markdown",
   "metadata": {},
   "source": [
    "### 2) Remove duplicates from a Linked List :\n"
   ]
  },
  {
   "cell_type": "code",
   "execution_count": 79,
   "metadata": {},
   "outputs": [],
   "source": [
    "class New_Node(Node):\n",
    "    def remove_duplicates(self):\n",
    "        mylist = []\n",
    "#         previous_node = None\n",
    "        node = self\n",
    "        while node != None:\n",
    "            if node.val in mylist:\n",
    "                previous_node.next = node.next\n",
    "                print(\"Node {} with Value {} was deleted ! \".format(node,node.val))\n",
    "                node = node.next\n",
    "            else:\n",
    "                print(\"value was appended\")\n",
    "                mylist.append(node.val)\n",
    "                previous_node = node\n",
    "                node = node.next"
   ]
  },
  {
   "cell_type": "code",
   "execution_count": 80,
   "metadata": {},
   "outputs": [],
   "source": [
    "Snode1 = New_Node(12)\n",
    "Snode2 = New_Node(99)\n",
    "Snode3 = New_Node(37)\n",
    "Snode3 = New_Node(12)\n",
    "Snode4 = New_Node(11)\n",
    "Snode5 = New_Node(13)\n",
    "Snode6 = New_Node(13)\n",
    "\n",
    "\n",
    "Snode1.next = Snode2\n",
    "Snode2.next = Snode3\n",
    "Snode3.next = Snode4\n",
    "Snode4.next = Snode5\n",
    "Snode5.next = Snode6"
   ]
  },
  {
   "cell_type": "code",
   "execution_count": 81,
   "metadata": {},
   "outputs": [
    {
     "name": "stdout",
     "output_type": "stream",
     "text": [
      "12\n",
      "99\n",
      "12\n",
      "11\n",
      "13\n",
      "13\n"
     ]
    }
   ],
   "source": [
    "Snode1.traverse()"
   ]
  },
  {
   "cell_type": "code",
   "execution_count": 82,
   "metadata": {},
   "outputs": [
    {
     "name": "stdout",
     "output_type": "stream",
     "text": [
      "value was appended\n",
      "value was appended\n",
      "Node <__main__.New_Node object at 0x00000215BD3A3438> with Value 12 was deleted ! \n",
      "value was appended\n",
      "value was appended\n",
      "Node <__main__.New_Node object at 0x00000215BD379B38> with Value 13 was deleted ! \n"
     ]
    }
   ],
   "source": [
    "Snode1.remove_duplicates()"
   ]
  },
  {
   "cell_type": "code",
   "execution_count": 83,
   "metadata": {},
   "outputs": [
    {
     "name": "stdout",
     "output_type": "stream",
     "text": [
      "12\n",
      "99\n",
      "11\n",
      "13\n"
     ]
    }
   ],
   "source": [
    "Snode1.traverse()"
   ]
  },
  {
   "cell_type": "markdown",
   "metadata": {},
   "source": [
    "### 3) Get the Kth to last element from a linked List :"
   ]
  },
  {
   "cell_type": "code",
   "execution_count": null,
   "metadata": {},
   "outputs": [],
   "source": []
  },
  {
   "cell_type": "code",
   "execution_count": null,
   "metadata": {},
   "outputs": [],
   "source": []
  },
  {
   "cell_type": "code",
   "execution_count": null,
   "metadata": {},
   "outputs": [],
   "source": []
  },
  {
   "cell_type": "code",
   "execution_count": null,
   "metadata": {},
   "outputs": [],
   "source": []
  },
  {
   "cell_type": "code",
   "execution_count": null,
   "metadata": {},
   "outputs": [],
   "source": []
  },
  {
   "cell_type": "markdown",
   "metadata": {},
   "source": [
    "### 4) Delete a node from Linked List : "
   ]
  },
  {
   "cell_type": "code",
   "execution_count": 108,
   "metadata": {},
   "outputs": [],
   "source": [
    "class New_New_Node(New_Node):\n",
    "    def delete_node(self,dnode):\n",
    "        node = self\n",
    "        previous = node\n",
    "        print(\"dnode is : \" , dnode)\n",
    "        while node != None:\n",
    "            if node == dnode:\n",
    "                print(\"Node with value {} was Deleted ! \".format(node.val))\n",
    "                previous.next = node.next\n",
    "                node = node.next\n",
    "            else:\n",
    "                node = node.next\n",
    "                \n",
    "        "
   ]
  },
  {
   "cell_type": "code",
   "execution_count": 109,
   "metadata": {},
   "outputs": [],
   "source": [
    "Snode1 = New_New_Node(10)\n",
    "Snode2 = New_New_Node(11)\n",
    "Snode3 = New_New_Node(12)\n",
    "Snode4 = New_New_Node(13)\n",
    "Snode5 = New_New_Node(14)\n",
    "Snode6 = New_New_Node(15)\n",
    "Snode7 = New_New_Node(16)\n",
    "\n",
    "\n",
    "Snode1.next = Snode2\n",
    "Snode2.next = Snode3\n",
    "Snode3.next = Snode4\n",
    "Snode4.next = Snode5\n",
    "Snode5.next = Snode6\n",
    "Snode6.next = Snode7"
   ]
  },
  {
   "cell_type": "code",
   "execution_count": 110,
   "metadata": {},
   "outputs": [
    {
     "name": "stdout",
     "output_type": "stream",
     "text": [
      "10\n",
      "11\n",
      "12\n",
      "13\n",
      "14\n",
      "15\n",
      "16\n"
     ]
    }
   ],
   "source": [
    "Snode1.traverse()"
   ]
  },
  {
   "cell_type": "code",
   "execution_count": 111,
   "metadata": {},
   "outputs": [
    {
     "name": "stdout",
     "output_type": "stream",
     "text": [
      "dnode is :  <__main__.New_New_Node object at 0x00000215BD3DB390>\n",
      "Node with value 12 was Deleted ! \n"
     ]
    }
   ],
   "source": [
    "Snode1.delete_node(Snode3)"
   ]
  },
  {
   "cell_type": "code",
   "execution_count": 112,
   "metadata": {},
   "outputs": [
    {
     "name": "stdout",
     "output_type": "stream",
     "text": [
      "10\n",
      "13\n",
      "14\n",
      "15\n",
      "16\n"
     ]
    }
   ],
   "source": [
    "Snode1.traverse()"
   ]
  },
  {
   "cell_type": "code",
   "execution_count": null,
   "metadata": {},
   "outputs": [],
   "source": []
  },
  {
   "cell_type": "code",
   "execution_count": null,
   "metadata": {},
   "outputs": [],
   "source": []
  },
  {
   "cell_type": "code",
   "execution_count": null,
   "metadata": {},
   "outputs": [],
   "source": []
  },
  {
   "cell_type": "code",
   "execution_count": null,
   "metadata": {},
   "outputs": [],
   "source": []
  }
 ],
 "metadata": {
  "kernelspec": {
   "display_name": "Python 3",
   "language": "python",
   "name": "python3"
  },
  "language_info": {
   "codemirror_mode": {
    "name": "ipython",
    "version": 3
   },
   "file_extension": ".py",
   "mimetype": "text/x-python",
   "name": "python",
   "nbconvert_exporter": "python",
   "pygments_lexer": "ipython3",
   "version": "3.6.8"
  }
 },
 "nbformat": 4,
 "nbformat_minor": 2
}
