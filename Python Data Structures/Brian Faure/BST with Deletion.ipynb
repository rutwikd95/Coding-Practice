{
 "cells": [
  {
   "cell_type": "code",
   "execution_count": 2,
   "metadata": {},
   "outputs": [],
   "source": [
    "class node:\n",
    "    def __init__(self,value = None):\n",
    "        self.value = value\n",
    "        self.left_child = None\n",
    "        self.right_child = None\n",
    "        self.parent = None # pointer to parent node in the tree\n",
    "\n",
    "class binary_Search_tree:\n",
    "    def __init__(self):\n",
    "        self.root = None\n",
    "    \n",
    "    def insert(self,value):\n",
    "        if self.root == None:\n",
    "            self.root = node(value)\n",
    "        else:\n",
    "            self._insert(value, self.root)\n",
    "    \n",
    "    def _insert(self,value,cur_node):\n",
    "        if value < cur_node.value:\n",
    "            if cur_node.left_child == None:\n",
    "                cur_node.left_child = node(value)\n",
    "                cur_node.left_child.parent = cur_node # SET PARENT\n",
    "            else:\n",
    "                self._insert(value, cur_node.left_child)\n",
    "                \n",
    "        elif value > cur_node.value:\n",
    "            if cur_node.right_child == None:\n",
    "                cur_node.right_child = node(value)\n",
    "                cur_node.right_child.parent = cur_node # SET PARENT\n",
    "            else:\n",
    "                self._insert(value,cur_node.right_child)\n",
    "        else:\n",
    "            print(\"Value Already in tree\")\n",
    "            \n",
    "    def print_tree(self):\n",
    "        if self.root != None:\n",
    "            self._print_tree(self.root)\n",
    "    \n",
    "    def _print_tree(self,cur_node):\n",
    "        if cur_node != None :\n",
    "            self._print_tree(cur_node.left_child)\n",
    "            print(str(cur_node.value))\n",
    "            self._print_tree(cur_node.right_child)\n",
    "            \n",
    "    def height(self):\n",
    "        if self.root != None :\n",
    "            return self._height(self.root,0)\n",
    "        else:\n",
    "            return 0\n",
    "    \n",
    "    def _height(self, cur_node, cur_height):\n",
    "        if cur_node == None :\n",
    "            return cur_height\n",
    "        left_height = self._height(cur_node.left_child,cur_height+1)\n",
    "        right_height = self._height(cur_node.right_child,cur_height+1)\n",
    "        return max(left_height,right_height)\n",
    "    \n",
    "    def search(self, value):  # RETURNS TRUE IF VALUE EXISTS IN THE TREE\n",
    "        if self.root != None :\n",
    "            return self._search(value, self.root)\n",
    "        else:\n",
    "            return False\n",
    "            \n",
    "    def _search(self,value, cur_node):\n",
    "        if value == cur_node.value:\n",
    "            return True\n",
    "        elif value < cur_node.value and cur_node.left_child != None:\n",
    "            return self._search(value, cur_node.left_child)\n",
    "        elif value > cur_node.value and cur_node.right_child != None:\n",
    "            return self._search(value, cur_node.right_child)\n",
    "        return False\n",
    "    \n",
    "    def find(self, value):        #Returns the node with specified input value\n",
    "        if self.root != None :\n",
    "            return self._find (value , self.root)\n",
    "        else : \n",
    "            return None \n",
    "        \n",
    "    def _find(self, value , cur_node):\n",
    "        if value == cur_node.value :\n",
    "            return cur_node\n",
    "        elif value < cur_node.value and cur_node.left_child != None:\n",
    "            return self._find(value ,cur_node.left_child)\n",
    "        elif value > cur_noder.value and cur_node.right_child != None:\n",
    "            return self._find(value, cur_node.right_child)\n",
    "        \n",
    "    def delete_value (self, value):\n",
    "        return self.delete_node(self.find(value))\n",
    "    \n",
    "    def delete_node(self,node):\n",
    "        \n",
    "        def min_value_node (n):\n",
    "            current = n\n",
    "            while current.left_child != None:\n",
    "                current = current.left_child\n",
    "            return current\n",
    "        \n",
    "        def num_children(n):\n",
    "            num_children = 0\n",
    "            if n.left_child != None :\n",
    "                num_children += 1\n",
    "            if n.right_child != None : \n",
    "                num_children += 1\n",
    "            return num_children\n",
    "        \n",
    "        node_parent = node.parent\n",
    "        \n",
    "        node_children = num_children(node )\n",
    "        \n",
    "        #CASE 1 : node has no children\n",
    "        if node_children == 0:\n",
    "            if node_parent.left_child == node:\n",
    "                node_parent.left_child = None\n",
    "            else:\n",
    "                node_parent.right_child = None \n",
    "                \n",
    "        # Case 2 : node has single child \n",
    "        if node_children == 1:\n",
    "            if node.left_child != None:\n",
    "                child = node.left_child\n",
    "            else: \n",
    "                child = node.right_child\n",
    "                \n",
    "            if node_parent.left_child == node:\n",
    "                node_parent.left_child = child\n",
    "            else:\n",
    "                node_parent.right_child = child\n",
    "                \n",
    "            child.parent = node_parent\n",
    "            \n",
    "        # CASE 3 (node has two children)\n",
    "\t\tif node_children==2:\n",
    "\n",
    "\t\t\t# get the inorder successor of the deleted node\n",
    "\t\t\tsuccessor=min_value_node(node.right_child)\n",
    "\n",
    "\t\t\t# copy the inorder successor's value to the node formerly\n",
    "\t\t\t# holding the value we wished to delete\n",
    "\t\t\tnode.value=successor.value\n",
    "\n",
    "\t\t\t# delete the inorder successor now that it's value was\n",
    "\t\t\t# copied into the other node\n",
    "\t\t\tself.delete_node(successor)\n"
   ]
  },
  {
   "cell_type": "markdown",
   "metadata": {},
   "source": [
    "## Filling A Tree :"
   ]
  },
  {
   "cell_type": "code",
   "execution_count": 3,
   "metadata": {},
   "outputs": [],
   "source": [
    "def fill_tree(tree , num_elems = 100 ,max_int = 1000):\n",
    "    from random import randint\n",
    "    for _ in range(num_elems):\n",
    "        cur_elem = randint(0, max_int)\n",
    "        tree.insert(cur_elem)\n",
    "    return tree\n",
    "\n",
    "\n",
    "        "
   ]
  },
  {
   "cell_type": "code",
   "execution_count": 4,
   "metadata": {},
   "outputs": [
    {
     "name": "stdout",
     "output_type": "stream",
     "text": [
      "0\n",
      "1\n",
      "2\n",
      "3\n",
      "5\n",
      "7\n",
      "10\n",
      "20\n"
     ]
    }
   ],
   "source": [
    "tree = binary_Search_tree()\n",
    "\n",
    "# tree = fill_tree(tree)\n",
    "\n",
    "tree.insert(5)\n",
    "tree.insert(1)\n",
    "tree.insert(3)\n",
    "tree.insert(2)\n",
    "tree.insert(7)\n",
    "tree.insert(10)\n",
    "tree.insert(0)\n",
    "tree.insert(20)\n",
    "\n",
    "tree.print_tree()"
   ]
  },
  {
   "cell_type": "code",
   "execution_count": 5,
   "metadata": {},
   "outputs": [
    {
     "name": "stdout",
     "output_type": "stream",
     "text": [
      "Tree Height is : 4\n"
     ]
    }
   ],
   "source": [
    "print (\"Tree Height is : \" +str(tree.height()))"
   ]
  },
  {
   "cell_type": "code",
   "execution_count": 6,
   "metadata": {
    "scrolled": true
   },
   "outputs": [
    {
     "name": "stdout",
     "output_type": "stream",
     "text": [
      "True\n",
      "False\n"
     ]
    }
   ],
   "source": [
    "print(tree.search(10))\n",
    "print(tree.search(30))"
   ]
  },
  {
   "cell_type": "code",
   "execution_count": null,
   "metadata": {},
   "outputs": [],
   "source": []
  }
 ],
 "metadata": {
  "kernelspec": {
   "display_name": "Python 3",
   "language": "python",
   "name": "python3"
  },
  "language_info": {
   "codemirror_mode": {
    "name": "ipython",
    "version": 3
   },
   "file_extension": ".py",
   "mimetype": "text/x-python",
   "name": "python",
   "nbconvert_exporter": "python",
   "pygments_lexer": "ipython3",
   "version": "3.6.8"
  }
 },
 "nbformat": 4,
 "nbformat_minor": 2
}
