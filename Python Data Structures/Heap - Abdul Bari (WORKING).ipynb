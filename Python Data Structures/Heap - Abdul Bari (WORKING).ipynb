{
 "cells": [
  {
   "cell_type": "code",
   "execution_count": 98,
   "metadata": {},
   "outputs": [],
   "source": [
    "# MAX HEAP :\n",
    "\n",
    "class heap:\n",
    "    def __init__(self, mylist):\n",
    "        self.heap = [0]\n",
    "        for item in mylist:\n",
    "            self.heap.append(item)\n",
    "#             print(\"Heap len is : \", len(self.heap))\n",
    "            self.heap_up(len(self.heap) - 1)\n",
    "#             print(\"Heap is now : \" , self.heap )\n",
    "            \n",
    "    def heap_up(self,index):\n",
    "#         print(\" \\n index is : \" , index )\n",
    "        parent = index // 2\n",
    "        if index == 1 :\n",
    "            return False\n",
    "        elif index > 1:\n",
    "#             print (\"index is > than 1 \")\n",
    "            if self.heap[index] > self.heap[parent]:\n",
    "                self.swap(index , parent)\n",
    "                self.heap_up(parent)\n",
    "        else:\n",
    "            return\n",
    "                \n",
    "    def swap(self, i , j):\n",
    "        self.heap[i] , self.heap[j] = self.heap[j] , self.heap[i]\n",
    "        \n",
    "    def push(self, val):\n",
    "        self.heap.append(val)\n",
    "        self.heap_up(len(self.heap) - 1)\n",
    "        print(\"Value pushed : \" , val)\n",
    "        \n",
    "    def hpop(self):\n",
    "        popped = self.heap[1]\n",
    "        self.heap[1] = self.heap[len(self.heap) -1]\n",
    "#         print(\"heap before pop : \" , self.heap )\n",
    "        self.heap.pop()\n",
    "#         print(\"heap before heap down : \" ,self.heap)\n",
    "        self.heap_down(1)\n",
    "        print(\"value popped : \", popped)\n",
    "        \n",
    "    def heap_down(self, index):\n",
    "        left = index * 2\n",
    "        right = index * 2 + 1\n",
    "        largest = index\n",
    "        if len(self.heap) > left  and self.heap[largest] < self.heap[left]:\n",
    "            largest = left\n",
    "        if len(self.heap) > right  and self.heap[largest] < self.heap[right]:\n",
    "            largest = right\n",
    "        if largest != index:\n",
    "            self.swap(index , largest)\n",
    "            self.heap_down(largest)\n",
    "            \n",
    "    def heapify(self, mylist):\n",
    "        self.heap = [0]\n",
    "        for i in range(len(mylist) -1 , -1 , -1):\n",
    "            self.heap.append(mylist[i])\n",
    "            self.heap_down(1)\n",
    "        \n",
    "\n",
    "    def display_heap(self):\n",
    "        return self.heap[1:]\n",
    "        "
   ]
  },
  {
   "cell_type": "code",
   "execution_count": 99,
   "metadata": {},
   "outputs": [
    {
     "data": {
      "text/plain": [
       "[5, 4, 2, 1, 3]"
      ]
     },
     "execution_count": 99,
     "metadata": {},
     "output_type": "execute_result"
    }
   ],
   "source": [
    "mylist = [1,2,3,4,5]\n",
    "# len(mylist\n",
    "h = heap(mylist)\n",
    "h.display_heap()"
   ]
  },
  {
   "cell_type": "code",
   "execution_count": 100,
   "metadata": {},
   "outputs": [
    {
     "name": "stdout",
     "output_type": "stream",
     "text": [
      "Value pushed :  10\n"
     ]
    },
    {
     "data": {
      "text/plain": [
       "[10, 4, 5, 1, 3, 2]"
      ]
     },
     "execution_count": 100,
     "metadata": {},
     "output_type": "execute_result"
    }
   ],
   "source": [
    "mylist = [1,2,3,4,5]\n",
    "# len(mylist\n",
    "h = heap(mylist)\n",
    "h.push(10)\n",
    "h.display_heap()"
   ]
  },
  {
   "cell_type": "code",
   "execution_count": 101,
   "metadata": {},
   "outputs": [
    {
     "name": "stdout",
     "output_type": "stream",
     "text": [
      "Value pushed :  10\n",
      "value popped :  10\n"
     ]
    },
    {
     "data": {
      "text/plain": [
       "[5, 4, 2, 1, 3]"
      ]
     },
     "execution_count": 101,
     "metadata": {},
     "output_type": "execute_result"
    }
   ],
   "source": [
    "mylist = [1,2,3,4,5]\n",
    "# len(mylist\n",
    "h = heap(mylist)\n",
    "h.push(10)\n",
    "\n",
    "h.hpop()\n",
    "h.display_heap()"
   ]
  },
  {
   "cell_type": "code",
   "execution_count": null,
   "metadata": {},
   "outputs": [],
   "source": []
  },
  {
   "cell_type": "code",
   "execution_count": 106,
   "metadata": {},
   "outputs": [
    {
     "data": {
      "text/plain": [
       "[10, 9, 4, 7, 6]"
      ]
     },
     "execution_count": 106,
     "metadata": {},
     "output_type": "execute_result"
    }
   ],
   "source": [
    "mylist2 = [6,7,4,9,10]\n",
    "# h = heap(mylist)\n",
    "h.heapify(mylist2)\n",
    "h.display_heap()"
   ]
  },
  {
   "cell_type": "code",
   "execution_count": null,
   "metadata": {},
   "outputs": [],
   "source": []
  },
  {
   "cell_type": "code",
   "execution_count": null,
   "metadata": {},
   "outputs": [],
   "source": []
  },
  {
   "cell_type": "code",
   "execution_count": null,
   "metadata": {},
   "outputs": [],
   "source": []
  },
  {
   "cell_type": "code",
   "execution_count": null,
   "metadata": {},
   "outputs": [],
   "source": []
  },
  {
   "cell_type": "code",
   "execution_count": null,
   "metadata": {},
   "outputs": [],
   "source": []
  },
  {
   "cell_type": "code",
   "execution_count": null,
   "metadata": {},
   "outputs": [],
   "source": []
  },
  {
   "cell_type": "code",
   "execution_count": 70,
   "metadata": {},
   "outputs": [
    {
     "data": {
      "text/plain": [
       "5"
      ]
     },
     "execution_count": 70,
     "metadata": {},
     "output_type": "execute_result"
    }
   ],
   "source": [
    "mylist = [1,2,3,4,5]\n",
    "\n",
    "mylist.pop()"
   ]
  },
  {
   "cell_type": "code",
   "execution_count": null,
   "metadata": {},
   "outputs": [],
   "source": []
  }
 ],
 "metadata": {
  "kernelspec": {
   "display_name": "Python 3",
   "language": "python",
   "name": "python3"
  },
  "language_info": {
   "codemirror_mode": {
    "name": "ipython",
    "version": 3
   },
   "file_extension": ".py",
   "mimetype": "text/x-python",
   "name": "python",
   "nbconvert_exporter": "python",
   "pygments_lexer": "ipython3",
   "version": "3.6.8"
  }
 },
 "nbformat": 4,
 "nbformat_minor": 2
}
