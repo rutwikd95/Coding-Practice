{
 "cells": [
  {
   "cell_type": "code",
   "execution_count": 4,
   "metadata": {},
   "outputs": [],
   "source": [
    "class max_heap:\n",
    "    def __init__(self, items = []):\n",
    "        super().__init__()\n",
    "        self.heap = []\n",
    "        for i in items:\n",
    "            self.heap.append(i)\n",
    "            self.__floatup(len(self.heap) - 1)\n",
    "            \n",
    "    def push(self, val):\n",
    "        self.heap.append(val)\n",
    "        self.__floatup(len(self.heap) - 1)\n",
    "        \n",
    "    def peek(self):\n",
    "        if self.heap[1]:\n",
    "            return self.heap[1]\n",
    "        else:\n",
    "            return False\n",
    "    \n",
    "    def pop(self):\n",
    "        if len(self.heap) > 2:\n",
    "            self.__swap(0, len(self.heap) - 1)\n",
    "            max = self.heap.pop()\n",
    "            self.__bubbledown(1)\n",
    "        elif len(self.heap) == 2:\n",
    "            max = self.heap.pop()\n",
    "        else:\n",
    "            max = False\n",
    "        return max\n",
    "        \n",
    "    def __swap(self, i , j):\n",
    "        self.heap[i] , self.heap[j] = self.heap[j] , self.heap[i]\n",
    "        \n",
    "    def __floatup(self, index):\n",
    "        parent = index // 2\n",
    "        if index <= 1:\n",
    "            return \n",
    "        elif self.heap[index] > self.heap[parent]:\n",
    "            self.__swap(index , parent)\n",
    "            self.__floatup(parent)\n",
    "            \n",
    "    def __bubbledown(self, index):\n",
    "        left = index * 2\n",
    "        right = index * 2 + 1\n",
    "        largest = index\n",
    "        if len(self.heap) > left  and self.heap[largest] < self.heap[left]:\n",
    "            largest = left\n",
    "        if len(self.heap) > right and self.heap[largest] < self.heap[right]:\n",
    "            largest = right\n",
    "        if largest != index : \n",
    "            self.__swap(index , largest)\n",
    "            self.__bubbledown(largest)\n",
    "            "
   ]
  },
  {
   "cell_type": "code",
   "execution_count": 5,
   "metadata": {},
   "outputs": [],
   "source": [
    "quest = [4,6,1,8,3,9,10,5]\n",
    "\n",
    "m = max_heap(quest)"
   ]
  },
  {
   "cell_type": "code",
   "execution_count": 6,
   "metadata": {},
   "outputs": [
    {
     "name": "stdout",
     "output_type": "stream",
     "text": [
      "[4, 10, 8, 9, 1, 3, 6, 5]\n"
     ]
    }
   ],
   "source": [
    "print(m.heap)"
   ]
  },
  {
   "cell_type": "code",
   "execution_count": null,
   "metadata": {},
   "outputs": [],
   "source": [
    "m.push(20)"
   ]
  },
  {
   "cell_type": "code",
   "execution_count": null,
   "metadata": {},
   "outputs": [],
   "source": [
    "print(m.heap)"
   ]
  },
  {
   "cell_type": "code",
   "execution_count": null,
   "metadata": {},
   "outputs": [],
   "source": []
  },
  {
   "cell_type": "code",
   "execution_count": null,
   "metadata": {},
   "outputs": [],
   "source": []
  },
  {
   "cell_type": "code",
   "execution_count": null,
   "metadata": {},
   "outputs": [],
   "source": []
  },
  {
   "cell_type": "code",
   "execution_count": null,
   "metadata": {},
   "outputs": [],
   "source": []
  },
  {
   "cell_type": "code",
   "execution_count": null,
   "metadata": {},
   "outputs": [],
   "source": []
  }
 ],
 "metadata": {
  "kernelspec": {
   "display_name": "Python 3",
   "language": "python",
   "name": "python3"
  },
  "language_info": {
   "codemirror_mode": {
    "name": "ipython",
    "version": 3
   },
   "file_extension": ".py",
   "mimetype": "text/x-python",
   "name": "python",
   "nbconvert_exporter": "python",
   "pygments_lexer": "ipython3",
   "version": "3.6.8"
  }
 },
 "nbformat": 4,
 "nbformat_minor": 2
}
