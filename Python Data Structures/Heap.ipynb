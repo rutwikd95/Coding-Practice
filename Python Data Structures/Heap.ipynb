{
 "cells": [
  {
   "cell_type": "code",
   "execution_count": 2,
   "metadata": {},
   "outputs": [],
   "source": [
    "class node:\n",
    "    def __init__(self,val):\n",
    "        self.val = val\n",
    "        self.left_child = None\n",
    "        self.right_child = None\n",
    "        self.parent = None\n",
    "        "
   ]
  },
  {
   "cell_type": "code",
   "execution_count": null,
   "metadata": {},
   "outputs": [],
   "source": [
    "class max_heap:\n",
    "    def__init__(self):\n",
    "        self.root = None\n",
    "        \n",
    "    def insert(self, val):\n",
    "        if self.root == None:\n",
    "            self.root = node(val)\n",
    "        else:\n",
    "            self._insert(val , self.root)\n",
    "    def _insert(self, val, cur_node):\n",
    "        \n",
    "        "
   ]
  }
 ],
 "metadata": {
  "kernelspec": {
   "display_name": "Python 3",
   "language": "python",
   "name": "python3"
  },
  "language_info": {
   "codemirror_mode": {
    "name": "ipython",
    "version": 3
   },
   "file_extension": ".py",
   "mimetype": "text/x-python",
   "name": "python",
   "nbconvert_exporter": "python",
   "pygments_lexer": "ipython3",
   "version": "3.6.8"
  }
 },
 "nbformat": 4,
 "nbformat_minor": 2
}
