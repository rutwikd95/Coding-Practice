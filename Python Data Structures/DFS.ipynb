{
 "cells": [
  {
   "cell_type": "code",
   "execution_count": 1,
   "metadata": {},
   "outputs": [],
   "source": [
    "        \n",
    "matrix =[[0 , 1 , 1 , 0],\n",
    "         [0 , 0 , 1 , 0],\n",
    "         [1 , 0 , 0 , 1],\n",
    "         [0 , 0 , 0 , 1]]\n",
    "        \n",
    "        \n",
    "        "
   ]
  },
  {
   "cell_type": "code",
   "execution_count": 2,
   "metadata": {},
   "outputs": [
    {
     "name": "stdout",
     "output_type": "stream",
     "text": [
      "node popped :  0\n",
      "node popped 2 :  2\n",
      "node popped 2 :  3\n",
      "node popped 2 :  1\n"
     ]
    }
   ],
   "source": [
    "visited = [0,0,0,0]\n",
    "stack = [0]\n",
    "visited[0] = 1\n",
    "\n",
    "node = stack.pop()\n",
    "print(\"node popped : \", node)\n",
    "\n",
    "while True:\n",
    "\n",
    "    for x in range (0 , len(matrix)):\n",
    "        if matrix[node][x] == 1 and visited[x] == 0:\n",
    "            visited[x] = 1\n",
    "            stack.append(x)\n",
    "\n",
    "    if len(stack) == 0 :\n",
    "        break;\n",
    "    else:\n",
    "        node = stack.pop()\n",
    "        print(\"node popped 2 : \",node)\n",
    "#     print (\"node = \", node)\n",
    "#     print(\"stack : \", stack)\n",
    "#     print(\"visited : \",visited)"
   ]
  },
  {
   "cell_type": "code",
   "execution_count": 3,
   "metadata": {},
   "outputs": [
    {
     "data": {
      "text/plain": [
       "4"
      ]
     },
     "execution_count": 3,
     "metadata": {},
     "output_type": "execute_result"
    }
   ],
   "source": [
    "len(matrix)"
   ]
  },
  {
   "cell_type": "code",
   "execution_count": null,
   "metadata": {},
   "outputs": [],
   "source": []
  }
 ],
 "metadata": {
  "kernelspec": {
   "display_name": "Python 3",
   "language": "python",
   "name": "python3"
  },
  "language_info": {
   "codemirror_mode": {
    "name": "ipython",
    "version": 3
   },
   "file_extension": ".py",
   "mimetype": "text/x-python",
   "name": "python",
   "nbconvert_exporter": "python",
   "pygments_lexer": "ipython3",
   "version": "3.6.8"
  }
 },
 "nbformat": 4,
 "nbformat_minor": 2
}
