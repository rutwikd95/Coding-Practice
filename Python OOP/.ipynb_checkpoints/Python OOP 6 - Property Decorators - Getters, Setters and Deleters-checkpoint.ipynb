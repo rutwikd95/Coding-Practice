{
 "cells": [
  {
   "cell_type": "code",
   "execution_count": 49,
   "metadata": {},
   "outputs": [],
   "source": [
    "class Employee:\n",
    "    \n",
    "    no_of_emps = 0\n",
    "    raise_amount = 1.04\n",
    "    \n",
    "    def __init__(self,first, last):\n",
    "        self.first = first\n",
    "        self.last = last\n",
    "#         self.email = first + '.' + last + '@company.com'\n",
    "        \n",
    "        Employee.no_of_emps += 1\n",
    "    @property    \n",
    "    def email(self):\n",
    "        return '{}.{}@company.com'.format(self.first,self.last)\n",
    "    @property    \n",
    "    def fullname(self):\n",
    "        return '{} {}'.format(self.first,self.last)\n",
    "    \n",
    "    @fullname.setter\n",
    "    def fullname(self, name):\n",
    "        first, last = name.split(\" \")\n",
    "        self.first = first\n",
    "        self.last = last\n",
    "        \n",
    "    @fullname.deleter\n",
    "    def fullname(self):\n",
    "        print(\"Delete Name ! \")\n",
    "        self.first = None\n",
    "        self.last = None\n",
    "        "
   ]
  },
  {
   "cell_type": "code",
   "execution_count": 50,
   "metadata": {},
   "outputs": [],
   "source": [
    "emp1 = Employee('John','Smith')\n",
    "\n",
    "emp1.first = \"Jim\""
   ]
  },
  {
   "cell_type": "code",
   "execution_count": 32,
   "metadata": {},
   "outputs": [
    {
     "name": "stdout",
     "output_type": "stream",
     "text": [
      "Jim\n",
      "John.Smith@company.com\n",
      "Jim Smith\n"
     ]
    }
   ],
   "source": [
    "print(emp1.first)\n",
    "print(emp1.email)\n",
    "print(emp1.fullname())"
   ]
  },
  {
   "cell_type": "code",
   "execution_count": 24,
   "metadata": {},
   "outputs": [],
   "source": [
    "# Above email first John does not change"
   ]
  },
  {
   "cell_type": "code",
   "execution_count": 25,
   "metadata": {},
   "outputs": [],
   "source": [
    "#After adding the property decorator :"
   ]
  },
  {
   "cell_type": "code",
   "execution_count": 36,
   "metadata": {},
   "outputs": [
    {
     "name": "stdout",
     "output_type": "stream",
     "text": [
      "Jim\n",
      "Jim.Smith@company.com\n",
      "Jim Smith\n"
     ]
    }
   ],
   "source": [
    "print(emp1.first)\n",
    "print(emp1.email)\n",
    "print(emp1.fullname())"
   ]
  },
  {
   "cell_type": "code",
   "execution_count": 51,
   "metadata": {},
   "outputs": [
    {
     "name": "stdout",
     "output_type": "stream",
     "text": [
      "Yolo\n",
      "Yolo.Swag@company.com\n",
      "Yolo Swag\n"
     ]
    }
   ],
   "source": [
    "# Running this after adding the fullname Setter :\n",
    "emp1.fullname = \"Yolo Swag\"\n",
    "\n",
    "print(emp1.first)\n",
    "print(emp1.email)\n",
    "print(emp1.fullname)"
   ]
  },
  {
   "cell_type": "code",
   "execution_count": 52,
   "metadata": {},
   "outputs": [
    {
     "name": "stdout",
     "output_type": "stream",
     "text": [
      "Delete Name ! \n"
     ]
    }
   ],
   "source": [
    "# Running this after adding the Fullname Deleter :\n",
    "\n",
    "del emp1.fullname"
   ]
  },
  {
   "cell_type": "code",
   "execution_count": null,
   "metadata": {},
   "outputs": [],
   "source": []
  }
 ],
 "metadata": {
  "kernelspec": {
   "display_name": "Python 3",
   "language": "python",
   "name": "python3"
  },
  "language_info": {
   "codemirror_mode": {
    "name": "ipython",
    "version": 3
   },
   "file_extension": ".py",
   "mimetype": "text/x-python",
   "name": "python",
   "nbconvert_exporter": "python",
   "pygments_lexer": "ipython3",
   "version": "3.6.8"
  }
 },
 "nbformat": 4,
 "nbformat_minor": 2
}
